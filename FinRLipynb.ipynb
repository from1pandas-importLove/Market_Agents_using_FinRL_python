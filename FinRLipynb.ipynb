{
  "cells": [
    {
      "cell_type": "markdown",
      "metadata": {
        "id": "view-in-github",
        "colab_type": "text"
      },
      "source": [
        "<a href=\"https://colab.research.google.com/github/from1pandas-importLove/Market_Agents_using_FinRL_python/blob/master/FinRLipynb.ipynb\" target=\"_parent\"><img src=\"https://colab.research.google.com/assets/colab-badge.svg\" alt=\"Open In Colab\"/></a>"
      ]
    },
    {
      "cell_type": "markdown",
      "metadata": {
        "id": "ORKU5okEH_n1"
      },
      "source": [
        "# Market agents using FinRL"
      ]
    },
    {
      "cell_type": "markdown",
      "metadata": {
        "id": "MFwRg2_LIGhc"
      },
      "source": [
        "### Install Dependencies"
      ]
    },
    {
      "cell_type": "code",
      "execution_count": null,
      "metadata": {
        "id": "MLGDaQ9AICIn"
      },
      "outputs": [],
      "source": [
        "# # Run twice if for some reason the process is stopped\n",
        "\n",
        "# !pip install wrds\n",
        "# !pip install swig\n",
        "# !pip install -q condacolab\n",
        "# import condacolab\n",
        "# condacolab.install()\n",
        "# !apt-get update -y -qq && apt-get install -y -qq cmake libopenmpi-dev python3-dev zlib1g-dev libgl1-mesa-glx swig\n",
        "# !pip install git+https://github.com/AI4Finance-Foundation/FinRL.git\n",
        "# !pip install torch_geometric\n",
        "# !pip install optuna\n",
        "# !pip install streamlit\n",
        "# !pip install quantstats\n",
        "# !pip install pandas-market-calendars"
      ]
    },
    {
      "cell_type": "markdown",
      "metadata": {
        "id": "qWYXFWmCIUdY"
      },
      "source": [
        "###Import Libraries"
      ]
    },
    {
      "cell_type": "code",
      "execution_count": null,
      "metadata": {
        "id": "We25Z2RPIOvW",
        "colab": {
          "base_uri": "https://localhost:8080/"
        },
        "outputId": "052f44b7-f3f7-48ba-b010-2d0058d4724a"
      },
      "outputs": [
        {
          "output_type": "stream",
          "name": "stdout",
          "text": [
            "cuda:0\n"
          ]
        }
      ],
      "source": [
        "# import librabries and set the device\n",
        "import torch\n",
        "import numpy as np\n",
        "import pandas as pd\n",
        "from sklearn.preprocessing import MaxAbsScaler\n",
        "from finrl.meta.preprocessor.yahoodownloader import YahooDownloader\n",
        "from finrl.meta.preprocessor.preprocessors import GroupByScaler\n",
        "from finrl.meta.env_portfolio_optimization.env_portfolio_optimization import PortfolioOptimizationEnv\n",
        "from finrl.agents.portfolio_optimization.models import DRLAgent\n",
        "from finrl.agents.portfolio_optimization.architectures import EIIE\n",
        "import optuna\n",
        "\n",
        "# Set device\n",
        "device = 'cuda:0' if torch.cuda.is_available() else 'cpu'\n",
        "\n",
        "print(device)\n"
      ]
    },
    {
      "cell_type": "markdown",
      "metadata": {
        "id": "Ht8ACoufInSU"
      },
      "source": [
        "###Stage 1: Preprocess the data"
      ]
    },
    {
      "cell_type": "code",
      "execution_count": null,
      "metadata": {
        "id": "2o0h-hoxIoMV",
        "colab": {
          "base_uri": "https://localhost:8080/"
        },
        "outputId": "ed3d5f6a-292e-4559-95b3-42d0f5a06550"
      },
      "outputs": [
        {
          "output_type": "stream",
          "name": "stderr",
          "text": [
            "[*********************100%***********************]  1 of 1 completed\n",
            "[*********************100%***********************]  1 of 1 completed\n",
            "[*********************100%***********************]  1 of 1 completed\n",
            "[*********************100%***********************]  1 of 1 completed\n",
            "[*********************100%***********************]  1 of 1 completed\n",
            "\n",
            "1 Failed download:\n",
            "['FB']: YFTzMissingError('possibly delisted; no timezone found')\n",
            "[*********************100%***********************]  1 of 1 completed\n",
            "[*********************100%***********************]  1 of 1 completed\n",
            "\n",
            "1 Failed download:\n",
            "['BRK.B']: YFTzMissingError('possibly delisted; no timezone found')\n",
            "[*********************100%***********************]  1 of 1 completed\n",
            "[*********************100%***********************]  1 of 1 completed\n",
            "[*********************100%***********************]  1 of 1 completed"
          ]
        },
        {
          "output_type": "stream",
          "name": "stdout",
          "text": [
            "Shape of DataFrame:  (24160, 8)\n"
          ]
        },
        {
          "output_type": "stream",
          "name": "stderr",
          "text": [
            "\n",
            "/usr/local/lib/python3.11/site-packages/finrl/meta/preprocessor/preprocessors.py:100: FutureWarning: Setting an item of incompatible dtype is deprecated and will raise an error in a future version of pandas. Value '[0.23665012 0.16431745 0.13584257 ... 0.04542185 0.04024656 0.0409539 ]' has dtype incompatible with int64, please explicitly cast to a compatible dtype first.\n",
            "  X.loc[select_mask, self.columns] = self.scalers[value].transform(\n",
            "/usr/local/lib/python3.11/site-packages/finrl/meta/preprocessor/preprocessors.py:100: FutureWarning: Setting an item of incompatible dtype is deprecated and will raise an error in a future version of pandas. Value '[0.   0.25 0.5  ... 0.5  0.75 1.  ]' has dtype incompatible with int32, please explicitly cast to a compatible dtype first.\n",
            "  X.loc[select_mask, self.columns] = self.scalers[value].transform(\n"
          ]
        }
      ],
      "source": [
        "# You can use the follow implementation for the stage 1\n",
        "# or use the one you implemented on stage 1\n",
        "\n",
        "# ------------------------------------------------------------------------------------------------\n",
        "\n",
        "# Define your custom stock list\n",
        "# EX: \"AAPL\", \"MSFT\", \"GOOGL\", \"AMZN\"\n",
        "# Choose the ones, that you want to work with\n",
        "CUSTOM_STOCK_LIST = [\n",
        "    \"AAPL\", \"MSFT\", \"GOOGL\", \"AMZN\", \"FB\",\n",
        "    \"TSLA\", \"BRK.B\", \"JNJ\", \"V\", \"WMT\"\n",
        "]\n",
        "\n",
        "\n",
        "# Download stock data\n",
        "START_DATE = '2011-01-01' # start date of the portfolio\n",
        "END_DATE = '2022-12-31' # end  date of the portfolio\n",
        "portfolio_raw_df = YahooDownloader(start_date=START_DATE,\n",
        "                                   end_date=END_DATE,\n",
        "                                   ticker_list=CUSTOM_STOCK_LIST).fetch_data()\n",
        "\n",
        "# Group by ticker and count occurrences\n",
        "portfolio_raw_df.groupby(\"tic\").count()\n",
        "\n",
        "# Normalize the data\n",
        "# You can use GroupByScaler with a MaxAbsScaler here\n",
        "portfolio_norm_df = GroupByScaler(by=\"tic\", scaler=MaxAbsScaler).fit_transform(portfolio_raw_df)\n",
        "\n",
        "# Select relevant columns\n",
        "df_portfolio = portfolio_norm_df[[\"date\", \"tic\", \"close\", \"high\", \"low\"]]\n",
        "\n",
        "# Split data into training and testing sets\n",
        "\n",
        "START_DATE_TRAIN = \"2011-01-01\" # you start date for the train data\n",
        "END_DATE_TRAIN = \"2019-12-31\" # your end date for the train data\n",
        "START_DATE_TEST = \"2020-01-01\" # your start date for the test data\n",
        "END_DATE_TEST = \"2022-12-31\" # your end date for the test data\n",
        "\n",
        "df_portfolio_train = df_portfolio[(df_portfolio[\"date\"] >= START_DATE_TRAIN) & (df_portfolio[\"date\"] < END_DATE_TRAIN)]\n",
        "df_portfolio_test = df_portfolio[(df_portfolio[\"date\"] >= START_DATE_TEST) & (df_portfolio[\"date\"] < END_DATE_TEST)]"
      ]
    },
    {
      "cell_type": "code",
      "execution_count": null,
      "metadata": {
        "id": "p_G6rUjzIyIm",
        "colab": {
          "base_uri": "https://localhost:8080/"
        },
        "outputId": "13253081-3de1-4d32-f8b6-250d54480dea"
      },
      "outputs": [
        {
          "output_type": "stream",
          "name": "stdout",
          "text": [
            "Train df shape:  (18104, 5)\n",
            "Test df shape:  (6048, 5)\n"
          ]
        }
      ],
      "source": [
        "# Print the train and test dfs shape\n",
        "TRAIN_DF_SHAPE = df_portfolio_train.shape\n",
        "TEST_DF_SHAPE = df_portfolio_test.shape\n",
        "print(\"Train df shape: \", TRAIN_DF_SHAPE)\n",
        "print(\"Test df shape: \", TEST_DF_SHAPE)"
      ]
    },
    {
      "cell_type": "markdown",
      "metadata": {
        "id": "-Mzl5wknYTNr"
      },
      "source": [
        "### Stage 2: Train the model\n"
      ]
    },
    {
      "cell_type": "code",
      "execution_count": null,
      "metadata": {
        "id": "LQzM_CnYdR2c",
        "colab": {
          "base_uri": "https://localhost:8080/"
        },
        "outputId": "0e7e8469-4a8b-4faa-88e1-0371c266f9f9"
      },
      "outputs": [
        {
          "output_type": "stream",
          "name": "stderr",
          "text": [
            "\r  0%|          | 0/10 [00:00<?, ?it/s]"
          ]
        },
        {
          "output_type": "stream",
          "name": "stdout",
          "text": [
            "=================================\n",
            "Initial portfolio value:100000\n",
            "Final portfolio value: 820336.4375\n",
            "Final accumulative portfolio value: 8.203364372253418\n",
            "Maximum DrawDown: -0.24264830417636618\n",
            "Sharpe ratio: 1.3011602735030035\n",
            "=================================\n"
          ]
        },
        {
          "output_type": "stream",
          "name": "stderr",
          "text": [
            "findfont: Font family 'Arial' not found.\n",
            "findfont: Font family 'Arial' not found.\n",
            "findfont: Font family 'Arial' not found.\n",
            "findfont: Font family 'Arial' not found.\n",
            "findfont: Font family 'Arial' not found.\n",
            "findfont: Font family 'Arial' not found.\n",
            "findfont: Font family 'Arial' not found.\n",
            "findfont: Font family 'Arial' not found.\n",
            "findfont: Font family 'Arial' not found.\n",
            "findfont: Font family 'Arial' not found.\n",
            "findfont: Font family 'Arial' not found.\n",
            "findfont: Font family 'Arial' not found.\n",
            "findfont: Font family 'Arial' not found.\n",
            "findfont: Font family 'Arial' not found.\n",
            " 10%|█         | 1/10 [00:21<03:12, 21.41s/it]"
          ]
        },
        {
          "output_type": "stream",
          "name": "stdout",
          "text": [
            "=================================\n",
            "Initial portfolio value:100000\n",
            "Final portfolio value: 1038208.75\n",
            "Final accumulative portfolio value: 10.382087707519531\n",
            "Maximum DrawDown: -0.5115777816303695\n",
            "Sharpe ratio: 0.946750318976561\n",
            "=================================\n"
          ]
        },
        {
          "output_type": "stream",
          "name": "stderr",
          "text": [
            "findfont: Font family 'Arial' not found.\n",
            "findfont: Font family 'Arial' not found.\n",
            "findfont: Font family 'Arial' not found.\n",
            "findfont: Font family 'Arial' not found.\n",
            "findfont: Font family 'Arial' not found.\n",
            "findfont: Font family 'Arial' not found.\n",
            "findfont: Font family 'Arial' not found.\n",
            "findfont: Font family 'Arial' not found.\n",
            "findfont: Font family 'Arial' not found.\n",
            "findfont: Font family 'Arial' not found.\n",
            "findfont: Font family 'Arial' not found.\n",
            "findfont: Font family 'Arial' not found.\n",
            "findfont: Font family 'Arial' not found.\n",
            "findfont: Font family 'Arial' not found.\n",
            " 20%|██        | 2/10 [00:42<02:47, 20.99s/it]"
          ]
        },
        {
          "output_type": "stream",
          "name": "stdout",
          "text": [
            "=================================\n",
            "Initial portfolio value:100000\n",
            "Final portfolio value: 1308761.75\n",
            "Final accumulative portfolio value: 13.087617874145508\n",
            "Maximum DrawDown: -0.5298345001183493\n",
            "Sharpe ratio: 0.9365010862067231\n",
            "=================================\n"
          ]
        },
        {
          "output_type": "stream",
          "name": "stderr",
          "text": [
            "findfont: Font family 'Arial' not found.\n",
            "findfont: Font family 'Arial' not found.\n",
            "findfont: Font family 'Arial' not found.\n",
            "findfont: Font family 'Arial' not found.\n",
            "findfont: Font family 'Arial' not found.\n",
            "findfont: Font family 'Arial' not found.\n",
            "findfont: Font family 'Arial' not found.\n",
            "findfont: Font family 'Arial' not found.\n",
            "findfont: Font family 'Arial' not found.\n",
            "findfont: Font family 'Arial' not found.\n",
            "findfont: Font family 'Arial' not found.\n",
            "findfont: Font family 'Arial' not found.\n",
            "findfont: Font family 'Arial' not found.\n",
            "findfont: Font family 'Arial' not found.\n",
            " 30%|███       | 3/10 [01:02<02:26, 20.87s/it]"
          ]
        },
        {
          "output_type": "stream",
          "name": "stdout",
          "text": [
            "=================================\n",
            "Initial portfolio value:100000\n",
            "Final portfolio value: 1605516.375\n",
            "Final accumulative portfolio value: 16.055164337158203\n",
            "Maximum DrawDown: -0.5344919233530356\n",
            "Sharpe ratio: 0.9371855926627838\n",
            "=================================\n"
          ]
        },
        {
          "output_type": "stream",
          "name": "stderr",
          "text": [
            "findfont: Font family 'Arial' not found.\n",
            "findfont: Font family 'Arial' not found.\n",
            "findfont: Font family 'Arial' not found.\n",
            "findfont: Font family 'Arial' not found.\n",
            "findfont: Font family 'Arial' not found.\n",
            "findfont: Font family 'Arial' not found.\n",
            "findfont: Font family 'Arial' not found.\n",
            "findfont: Font family 'Arial' not found.\n",
            "findfont: Font family 'Arial' not found.\n",
            "findfont: Font family 'Arial' not found.\n",
            "findfont: Font family 'Arial' not found.\n",
            "findfont: Font family 'Arial' not found.\n",
            "findfont: Font family 'Arial' not found.\n",
            "findfont: Font family 'Arial' not found.\n",
            " 40%|████      | 4/10 [01:22<02:03, 20.53s/it]"
          ]
        },
        {
          "output_type": "stream",
          "name": "stdout",
          "text": [
            "=================================\n",
            "Initial portfolio value:100000\n",
            "Final portfolio value: 1785204.125\n",
            "Final accumulative portfolio value: 17.852041244506836\n",
            "Maximum DrawDown: -0.5349587331192088\n",
            "Sharpe ratio: 0.9304532588576817\n",
            "=================================\n"
          ]
        },
        {
          "output_type": "stream",
          "name": "stderr",
          "text": [
            "findfont: Font family 'Arial' not found.\n",
            "findfont: Font family 'Arial' not found.\n",
            "findfont: Font family 'Arial' not found.\n",
            "findfont: Font family 'Arial' not found.\n",
            "findfont: Font family 'Arial' not found.\n",
            "findfont: Font family 'Arial' not found.\n",
            "findfont: Font family 'Arial' not found.\n",
            "findfont: Font family 'Arial' not found.\n",
            "findfont: Font family 'Arial' not found.\n",
            "findfont: Font family 'Arial' not found.\n",
            "findfont: Font family 'Arial' not found.\n",
            "findfont: Font family 'Arial' not found.\n",
            "findfont: Font family 'Arial' not found.\n",
            "findfont: Font family 'Arial' not found.\n",
            " 50%|█████     | 5/10 [01:44<01:43, 20.78s/it]"
          ]
        },
        {
          "output_type": "stream",
          "name": "stdout",
          "text": [
            "=================================\n",
            "Initial portfolio value:100000\n",
            "Final portfolio value: 1817198.5\n",
            "Final accumulative portfolio value: 18.171985626220703\n",
            "Maximum DrawDown: -0.5350379162633297\n",
            "Sharpe ratio: 0.9254273927123325\n",
            "=================================\n"
          ]
        },
        {
          "output_type": "stream",
          "name": "stderr",
          "text": [
            "findfont: Font family 'Arial' not found.\n",
            "findfont: Font family 'Arial' not found.\n",
            "findfont: Font family 'Arial' not found.\n",
            "findfont: Font family 'Arial' not found.\n",
            "findfont: Font family 'Arial' not found.\n",
            "findfont: Font family 'Arial' not found.\n",
            "findfont: Font family 'Arial' not found.\n",
            "findfont: Font family 'Arial' not found.\n",
            "findfont: Font family 'Arial' not found.\n",
            "findfont: Font family 'Arial' not found.\n",
            "findfont: Font family 'Arial' not found.\n",
            "findfont: Font family 'Arial' not found.\n",
            "findfont: Font family 'Arial' not found.\n",
            "findfont: Font family 'Arial' not found.\n",
            " 60%|██████    | 6/10 [02:08<01:28, 22.03s/it]"
          ]
        },
        {
          "output_type": "stream",
          "name": "stdout",
          "text": [
            "=================================\n",
            "Initial portfolio value:100000\n",
            "Final portfolio value: 1824330.25\n",
            "Final accumulative portfolio value: 18.243303298950195\n",
            "Maximum DrawDown: -0.5350622723341709\n",
            "Sharpe ratio: 0.9232629315343736\n",
            "=================================\n"
          ]
        },
        {
          "output_type": "stream",
          "name": "stderr",
          "text": [
            "findfont: Font family 'Arial' not found.\n",
            "findfont: Font family 'Arial' not found.\n",
            "findfont: Font family 'Arial' not found.\n",
            "findfont: Font family 'Arial' not found.\n",
            "findfont: Font family 'Arial' not found.\n",
            "findfont: Font family 'Arial' not found.\n",
            "findfont: Font family 'Arial' not found.\n",
            "findfont: Font family 'Arial' not found.\n",
            "findfont: Font family 'Arial' not found.\n",
            "findfont: Font family 'Arial' not found.\n",
            "findfont: Font family 'Arial' not found.\n",
            "findfont: Font family 'Arial' not found.\n",
            "findfont: Font family 'Arial' not found.\n",
            "findfont: Font family 'Arial' not found.\n",
            " 70%|███████   | 7/10 [02:29<01:05, 21.69s/it]"
          ]
        },
        {
          "output_type": "stream",
          "name": "stdout",
          "text": [
            "=================================\n",
            "Initial portfolio value:100000\n",
            "Final portfolio value: 1826827.375\n",
            "Final accumulative portfolio value: 18.268274307250977\n",
            "Maximum DrawDown: -0.5350735295906266\n",
            "Sharpe ratio: 0.9221292714905933\n",
            "=================================\n"
          ]
        },
        {
          "output_type": "stream",
          "name": "stderr",
          "text": [
            "findfont: Font family 'Arial' not found.\n",
            "findfont: Font family 'Arial' not found.\n",
            "findfont: Font family 'Arial' not found.\n",
            "findfont: Font family 'Arial' not found.\n",
            "findfont: Font family 'Arial' not found.\n",
            "findfont: Font family 'Arial' not found.\n",
            "findfont: Font family 'Arial' not found.\n",
            "findfont: Font family 'Arial' not found.\n",
            "findfont: Font family 'Arial' not found.\n",
            "findfont: Font family 'Arial' not found.\n",
            "findfont: Font family 'Arial' not found.\n",
            "findfont: Font family 'Arial' not found.\n",
            "findfont: Font family 'Arial' not found.\n",
            "findfont: Font family 'Arial' not found.\n",
            " 80%|████████  | 8/10 [02:49<00:42, 21.19s/it]"
          ]
        },
        {
          "output_type": "stream",
          "name": "stdout",
          "text": [
            "=================================\n",
            "Initial portfolio value:100000\n",
            "Final portfolio value: 1827986.75\n",
            "Final accumulative portfolio value: 18.27986717224121\n",
            "Maximum DrawDown: -0.5350792878476867\n",
            "Sharpe ratio: 0.9214243908088292\n",
            "=================================\n"
          ]
        },
        {
          "output_type": "stream",
          "name": "stderr",
          "text": [
            "findfont: Font family 'Arial' not found.\n",
            "findfont: Font family 'Arial' not found.\n",
            "findfont: Font family 'Arial' not found.\n",
            "findfont: Font family 'Arial' not found.\n",
            "findfont: Font family 'Arial' not found.\n",
            "findfont: Font family 'Arial' not found.\n",
            "findfont: Font family 'Arial' not found.\n",
            "findfont: Font family 'Arial' not found.\n",
            "findfont: Font family 'Arial' not found.\n",
            "findfont: Font family 'Arial' not found.\n",
            "findfont: Font family 'Arial' not found.\n",
            "findfont: Font family 'Arial' not found.\n",
            "findfont: Font family 'Arial' not found.\n",
            "findfont: Font family 'Arial' not found.\n",
            " 90%|█████████ | 9/10 [03:10<00:21, 21.07s/it]"
          ]
        },
        {
          "output_type": "stream",
          "name": "stdout",
          "text": [
            "=================================\n",
            "Initial portfolio value:100000\n",
            "Final portfolio value: 1828583.75\n",
            "Final accumulative portfolio value: 18.285837173461914\n",
            "Maximum DrawDown: -0.5350837911565954\n",
            "Sharpe ratio: 0.9209394676393484\n",
            "=================================\n"
          ]
        },
        {
          "output_type": "stream",
          "name": "stderr",
          "text": [
            "findfont: Font family 'Arial' not found.\n",
            "findfont: Font family 'Arial' not found.\n",
            "findfont: Font family 'Arial' not found.\n",
            "findfont: Font family 'Arial' not found.\n",
            "findfont: Font family 'Arial' not found.\n",
            "findfont: Font family 'Arial' not found.\n",
            "findfont: Font family 'Arial' not found.\n",
            "findfont: Font family 'Arial' not found.\n",
            "findfont: Font family 'Arial' not found.\n",
            "findfont: Font family 'Arial' not found.\n",
            "findfont: Font family 'Arial' not found.\n",
            "findfont: Font family 'Arial' not found.\n",
            "findfont: Font family 'Arial' not found.\n",
            "findfont: Font family 'Arial' not found.\n",
            "100%|██████████| 10/10 [03:33<00:00, 21.34s/it]\n"
          ]
        }
      ],
      "source": [
        "# Define the environment\n",
        "# We will use portfolio optimization for the project\n",
        "INITIAL_AMOUT = 100000 # initial amount of money in the portfolio: float\n",
        "COMISSION_FEE_PTC = 0.001 # commission fee: float\n",
        "TIME_WINDOW = 50# time window: int\n",
        "FEATURES = [\"close\", \"high\", \"low\"] # ex: \"close\", \"high\"\n",
        "\n",
        "environment_train = PortfolioOptimizationEnv(\n",
        "    df_portfolio_train,\n",
        "    initial_amount=INITIAL_AMOUT,\n",
        "    comission_fee_pct=COMISSION_FEE_PTC,\n",
        "    time_window=TIME_WINDOW,\n",
        "    features=FEATURES,\n",
        "    normalize_df=None # df is already normalized\n",
        ")\n",
        "\n",
        "# Set PolicyGradient parameters\n",
        "# Set the learning rate for the training\n",
        "model_kwargs = {\n",
        "    \"lr\": 0.01, # put a learning rate, ex: 0.01\n",
        "    \"policy\": EIIE, # we will use EIIE policy for this project\n",
        "}\n",
        "\n",
        "# Set EIIE's parameters\n",
        "policy_kwargs = {\n",
        "    \"k_size\": 3, # put the k_size: int\n",
        "    \"time_window\": TIME_WINDOW, # time window defined previously\n",
        "}\n",
        "\n",
        "# Instantiate the model\n",
        "model = DRLAgent(environment_train).get_model(\"pg\", device, model_kwargs, policy_kwargs)\n",
        "\n",
        "# Train the model\n",
        "EPISODES = 10 # number of episodes to training the model: in\n",
        "DRLAgent.train_model(model, episodes=EPISODES)\n",
        "\n",
        "# Save the model\n",
        "torch.save(model.train_policy.state_dict(), \"policy_EIIE.pt\")"
      ]
    },
    {
      "cell_type": "code",
      "execution_count": null,
      "metadata": {
        "id": "Iw3QZOnkbH3g",
        "colab": {
          "base_uri": "https://localhost:8080/"
        },
        "outputId": "9c05bf73-393a-4ea1-ccb2-73033fb25157"
      },
      "outputs": [
        {
          "output_type": "stream",
          "name": "stdout",
          "text": [
            "The final portfolio value at train is: 1828583.8\n"
          ]
        }
      ],
      "source": [
        "# print the final value of the portfolio\n",
        "final_portfolio_value_train = environment_train._asset_memory[\"final\"][-1]\n",
        "print(\"The final portfolio value at train is:\", final_portfolio_value_train)"
      ]
    },
    {
      "cell_type": "markdown",
      "source": [
        "### evaluate the model"
      ],
      "metadata": {
        "id": "i-K5xehLMi7-"
      }
    },
    {
      "cell_type": "code",
      "source": [
        "# Evaluate the model\n",
        "# Create test env\n",
        "\n",
        "INITIAL_AMOUT = 100000 # initial amount of money in the portfolio: float\n",
        "COMISSION_FEE_PTC = 0.001 # commission fee: float\n",
        "TIME_WINDOW = 50# time window: int\n",
        "FEATURES = [\"close\", \"high\", \"low\"] # ex: \"close\", \"high\"\n",
        "\n",
        "enviroment_test = PortfolioOptimizationEnv(\n",
        "    df_portfolio_test,\n",
        "    initial_amount=INITIAL_AMOUT,\n",
        "    comission_fee_pct=COMISSION_FEE_PTC,\n",
        "    time_window=TIME_WINDOW,\n",
        "    features=FEATURES,\n",
        "    normalize_df=None # df is already normalized\n",
        ")\n",
        "\n",
        "\n",
        "EIIE_results = {\n",
        "    \"train\": environment_train._asset_memory[\"final\"],\n",
        "    \"test\": {},\n",
        "}\n",
        "\n",
        "# instantiate an architecture with the same arguments used in training\n",
        "# and load with load_state_dict.\n",
        "policy = EIIE(time_window=TIME_WINDOW, device=device)\n",
        "policy.load_state_dict(torch.load(\"policy_EIIE.pt\"))\n",
        "\n",
        "# testing\n",
        "DRLAgent.DRL_validation(model, enviroment_test, policy=policy)\n",
        "EIIE_results[\"test\"] = enviroment_test._asset_memory[\"final\"]"
      ],
      "metadata": {
        "id": "nmb17atBLsEE",
        "colab": {
          "base_uri": "https://localhost:8080/"
        },
        "outputId": "900e25ef-ef99-45e1-d13d-bac28cb74ce4"
      },
      "execution_count": null,
      "outputs": [
        {
          "output_type": "stream",
          "name": "stdout",
          "text": [
            "=================================\n",
            "Initial portfolio value:100000\n",
            "Final portfolio value: 614795.125\n",
            "Final accumulative portfolio value: 6.147951126098633\n",
            "Maximum DrawDown: -0.6094408036581442\n",
            "Sharpe ratio: 1.3693922574111272\n",
            "=================================\n"
          ]
        },
        {
          "output_type": "stream",
          "name": "stderr",
          "text": [
            "findfont: Font family 'Arial' not found.\n",
            "findfont: Font family 'Arial' not found.\n",
            "findfont: Font family 'Arial' not found.\n",
            "findfont: Font family 'Arial' not found.\n",
            "findfont: Font family 'Arial' not found.\n",
            "findfont: Font family 'Arial' not found.\n",
            "findfont: Font family 'Arial' not found.\n",
            "findfont: Font family 'Arial' not found.\n",
            "findfont: Font family 'Arial' not found.\n",
            "findfont: Font family 'Arial' not found.\n",
            "findfont: Font family 'Arial' not found.\n",
            "findfont: Font family 'Arial' not found.\n",
            "findfont: Font family 'Arial' not found.\n",
            "findfont: Font family 'Arial' not found.\n"
          ]
        }
      ]
    },
    {
      "cell_type": "code",
      "source": [
        "# print the final value of the portfolio\n",
        "final_portfolio_value_test = enviroment_test._asset_memory[\"final\"][-1]\n",
        "print(\"The final portfolio value at test is:\", final_portfolio_value_test)"
      ],
      "metadata": {
        "id": "OzxkKYXuM6bO",
        "colab": {
          "base_uri": "https://localhost:8080/"
        },
        "outputId": "1b5cb7e0-8578-4683-d49b-393e2330a25e"
      },
      "execution_count": null,
      "outputs": [
        {
          "output_type": "stream",
          "name": "stdout",
          "text": [
            "The final portfolio value at test is: 614795.1\n"
          ]
        }
      ]
    },
    {
      "cell_type": "markdown",
      "source": [
        "### Stage 4: Hyperparameter tuning with optuna\n"
      ],
      "metadata": {
        "id": "wZqMWvSy5ul3"
      }
    },
    {
      "cell_type": "code",
      "source": [
        "EPISODES = 10# number of episodes to train the model\n",
        "\n",
        "# Define the objective function\n",
        "def objective(trial):\n",
        "    lr = trial.suggest_loguniform(\"lr\", 1e-5, 1e-2) # use trial to suggest values for lr\n",
        "    k_size = trial.suggest_categorical(\"k_size\", [3, 5, 7]) # use trial to suggest values for k_size\n",
        "    time_window = trial.suggest_int(\"time_window\", 30, 60, step=10) # use trial to suggest values for time_window\n",
        "\n",
        "    # set up train environment\n",
        "    # Training environment\n",
        "    environment_train = PortfolioOptimizationEnv(\n",
        "    df_portfolio_train,\n",
        "    initial_amount=INITIAL_AMOUT,\n",
        "    comission_fee_pct=COMISSION_FEE_PTC,\n",
        "    time_window=time_window,\n",
        "    features=FEATURES,\n",
        "    normalize_df=None\n",
        "    )\n",
        "\n",
        "    # setup model kwargs\n",
        "    model_kwargs = {\n",
        "        \"lr\": lr,\n",
        "        \"policy\": EIIE,\n",
        "    }\n",
        "    # setup policy kwargs\n",
        "    policy_kwargs = {\n",
        "        \"k_size\": k_size,\n",
        "        \"time_window\": time_window,\n",
        "    }\n",
        "    # Train model using DRLAgent\n",
        "    model = DRLAgent(environment_train).get_model(\"pg\", device, model_kwargs, policy_kwargs)\n",
        "    DRLAgent.train_model(model, episodes=EPISODES)\n",
        "\n",
        "    # define test environment\n",
        "    environment_test = PortfolioOptimizationEnv(\n",
        "    df_portfolio_test,\n",
        "    initial_amount=INITIAL_AMOUT,\n",
        "    comission_fee_pct=COMISSION_FEE_PTC,\n",
        "    time_window=time_window,\n",
        "    features=FEATURES,\n",
        "    normalize_df=None)\n",
        "\n",
        "    # validate with test environment\n",
        "    DRLAgent.DRL_validation(model, environment_test)\n",
        "\n",
        "    # final portfolio value as metric for the optimization\n",
        "    return environment_test._asset_memory[\"final\"][-1]\n",
        "\n",
        "\n",
        "# Create a study and optimize the objective function\n",
        "study = optuna.create_study(direction='maximize')\n",
        "N_TRIALS = 20# select the number of trails for the optimization\n",
        "study.optimize(objective, n_trials=N_TRIALS)"
      ],
      "metadata": {
        "id": "CGIh1gc0OYmf",
        "colab": {
          "base_uri": "https://localhost:8080/"
        },
        "outputId": "57dc5f5c-9ace-47e2-e273-222e75d2f09c"
      },
      "execution_count": null,
      "outputs": [
        {
          "output_type": "stream",
          "name": "stderr",
          "text": [
            "[I 2025-04-23 04:33:21,017] A new study created in memory with name: no-name-d703026c-b772-4f32-8532-29a4d729ea53\n",
            "<ipython-input-9-77ffd919438e>:5: FutureWarning: suggest_loguniform has been deprecated in v3.0.0. This feature will be removed in v6.0.0. See https://github.com/optuna/optuna/releases/tag/v3.0.0. Use suggest_float(..., log=True) instead.\n",
            "  lr = trial.suggest_loguniform(\"lr\", 1e-5, 1e-2) # use trial to suggest values for lr\n",
            "  0%|          | 0/10 [00:00<?, ?it/s]"
          ]
        },
        {
          "output_type": "stream",
          "name": "stdout",
          "text": [
            "=================================\n",
            "Initial portfolio value:100000\n",
            "Final portfolio value: 684342.0\n",
            "Final accumulative portfolio value: 6.843420028686523\n",
            "Maximum DrawDown: -0.15010654645887667\n",
            "Sharpe ratio: 1.4401996549413572\n",
            "=================================\n"
          ]
        },
        {
          "output_type": "stream",
          "name": "stderr",
          "text": [
            "findfont: Font family 'Arial' not found.\n",
            "findfont: Font family 'Arial' not found.\n",
            "findfont: Font family 'Arial' not found.\n",
            "findfont: Font family 'Arial' not found.\n",
            "findfont: Font family 'Arial' not found.\n",
            "findfont: Font family 'Arial' not found.\n",
            "findfont: Font family 'Arial' not found.\n",
            "findfont: Font family 'Arial' not found.\n",
            "findfont: Font family 'Arial' not found.\n",
            "findfont: Font family 'Arial' not found.\n",
            "findfont: Font family 'Arial' not found.\n",
            "findfont: Font family 'Arial' not found.\n",
            "findfont: Font family 'Arial' not found.\n",
            "findfont: Font family 'Arial' not found.\n",
            " 10%|█         | 1/10 [00:20<03:05, 20.61s/it]"
          ]
        },
        {
          "output_type": "stream",
          "name": "stdout",
          "text": [
            "=================================\n",
            "Initial portfolio value:100000\n",
            "Final portfolio value: 745700.9375\n",
            "Final accumulative portfolio value: 7.457009315490723\n",
            "Maximum DrawDown: -0.17684941881895588\n",
            "Sharpe ratio: 1.3806679308293086\n",
            "=================================\n"
          ]
        },
        {
          "output_type": "stream",
          "name": "stderr",
          "text": [
            "findfont: Font family 'Arial' not found.\n",
            "findfont: Font family 'Arial' not found.\n",
            "findfont: Font family 'Arial' not found.\n",
            "findfont: Font family 'Arial' not found.\n",
            "findfont: Font family 'Arial' not found.\n",
            "findfont: Font family 'Arial' not found.\n",
            "findfont: Font family 'Arial' not found.\n",
            "findfont: Font family 'Arial' not found.\n",
            "findfont: Font family 'Arial' not found.\n",
            "findfont: Font family 'Arial' not found.\n",
            "findfont: Font family 'Arial' not found.\n",
            "findfont: Font family 'Arial' not found.\n",
            "findfont: Font family 'Arial' not found.\n",
            "findfont: Font family 'Arial' not found.\n",
            " 20%|██        | 2/10 [00:41<02:45, 20.68s/it]"
          ]
        },
        {
          "output_type": "stream",
          "name": "stdout",
          "text": [
            "=================================\n",
            "Initial portfolio value:100000\n",
            "Final portfolio value: 790063.0625\n",
            "Final accumulative portfolio value: 7.900630474090576\n",
            "Maximum DrawDown: -0.22657553401542474\n",
            "Sharpe ratio: 1.3050434700413986\n",
            "=================================\n"
          ]
        },
        {
          "output_type": "stream",
          "name": "stderr",
          "text": [
            "findfont: Font family 'Arial' not found.\n",
            "findfont: Font family 'Arial' not found.\n",
            "findfont: Font family 'Arial' not found.\n",
            "findfont: Font family 'Arial' not found.\n",
            "findfont: Font family 'Arial' not found.\n",
            "findfont: Font family 'Arial' not found.\n",
            "findfont: Font family 'Arial' not found.\n",
            "findfont: Font family 'Arial' not found.\n",
            "findfont: Font family 'Arial' not found.\n",
            "findfont: Font family 'Arial' not found.\n",
            "findfont: Font family 'Arial' not found.\n",
            "findfont: Font family 'Arial' not found.\n",
            "findfont: Font family 'Arial' not found.\n",
            "findfont: Font family 'Arial' not found.\n",
            " 30%|███       | 3/10 [01:01<02:24, 20.63s/it]"
          ]
        },
        {
          "output_type": "stream",
          "name": "stdout",
          "text": [
            "=================================\n",
            "Initial portfolio value:100000\n",
            "Final portfolio value: 834187.625\n",
            "Final accumulative portfolio value: 8.341876029968262\n",
            "Maximum DrawDown: -0.26502806564023196\n",
            "Sharpe ratio: 1.246701313614102\n",
            "=================================\n"
          ]
        },
        {
          "output_type": "stream",
          "name": "stderr",
          "text": [
            "findfont: Font family 'Arial' not found.\n",
            "findfont: Font family 'Arial' not found.\n",
            "findfont: Font family 'Arial' not found.\n",
            "findfont: Font family 'Arial' not found.\n",
            "findfont: Font family 'Arial' not found.\n",
            "findfont: Font family 'Arial' not found.\n",
            "findfont: Font family 'Arial' not found.\n",
            "findfont: Font family 'Arial' not found.\n",
            "findfont: Font family 'Arial' not found.\n",
            "findfont: Font family 'Arial' not found.\n",
            "findfont: Font family 'Arial' not found.\n",
            "findfont: Font family 'Arial' not found.\n",
            "findfont: Font family 'Arial' not found.\n",
            "findfont: Font family 'Arial' not found.\n",
            " 40%|████      | 4/10 [01:22<02:03, 20.54s/it]"
          ]
        },
        {
          "output_type": "stream",
          "name": "stdout",
          "text": [
            "=================================\n",
            "Initial portfolio value:100000\n",
            "Final portfolio value: 884077.6875\n",
            "Final accumulative portfolio value: 8.840776443481445\n",
            "Maximum DrawDown: -0.29068277483180727\n",
            "Sharpe ratio: 1.2145091991402117\n",
            "=================================\n"
          ]
        },
        {
          "output_type": "stream",
          "name": "stderr",
          "text": [
            "findfont: Font family 'Arial' not found.\n",
            "findfont: Font family 'Arial' not found.\n",
            "findfont: Font family 'Arial' not found.\n",
            "findfont: Font family 'Arial' not found.\n",
            "findfont: Font family 'Arial' not found.\n",
            "findfont: Font family 'Arial' not found.\n",
            "findfont: Font family 'Arial' not found.\n",
            "findfont: Font family 'Arial' not found.\n",
            "findfont: Font family 'Arial' not found.\n",
            "findfont: Font family 'Arial' not found.\n",
            "findfont: Font family 'Arial' not found.\n",
            "findfont: Font family 'Arial' not found.\n",
            "findfont: Font family 'Arial' not found.\n",
            "findfont: Font family 'Arial' not found.\n",
            " 50%|█████     | 5/10 [01:43<01:42, 20.60s/it]"
          ]
        },
        {
          "output_type": "stream",
          "name": "stdout",
          "text": [
            "=================================\n",
            "Initial portfolio value:100000\n",
            "Final portfolio value: 938023.125\n",
            "Final accumulative portfolio value: 9.380230903625488\n",
            "Maximum DrawDown: -0.31969177278599814\n",
            "Sharpe ratio: 1.1835029030247888\n",
            "=================================\n"
          ]
        },
        {
          "output_type": "stream",
          "name": "stderr",
          "text": [
            "findfont: Font family 'Arial' not found.\n",
            "findfont: Font family 'Arial' not found.\n",
            "findfont: Font family 'Arial' not found.\n",
            "findfont: Font family 'Arial' not found.\n",
            "findfont: Font family 'Arial' not found.\n",
            "findfont: Font family 'Arial' not found.\n",
            "findfont: Font family 'Arial' not found.\n",
            "findfont: Font family 'Arial' not found.\n",
            "findfont: Font family 'Arial' not found.\n",
            "findfont: Font family 'Arial' not found.\n",
            "findfont: Font family 'Arial' not found.\n",
            "findfont: Font family 'Arial' not found.\n",
            "findfont: Font family 'Arial' not found.\n",
            "findfont: Font family 'Arial' not found.\n",
            " 60%|██████    | 6/10 [02:04<01:22, 20.73s/it]"
          ]
        },
        {
          "output_type": "stream",
          "name": "stdout",
          "text": [
            "=================================\n",
            "Initial portfolio value:100000\n",
            "Final portfolio value: 1013897.125\n",
            "Final accumulative portfolio value: 10.138971328735352\n",
            "Maximum DrawDown: -0.34267761281040565\n",
            "Sharpe ratio: 1.1646152676609831\n",
            "=================================\n"
          ]
        },
        {
          "output_type": "stream",
          "name": "stderr",
          "text": [
            "findfont: Font family 'Arial' not found.\n",
            "findfont: Font family 'Arial' not found.\n",
            "findfont: Font family 'Arial' not found.\n",
            "findfont: Font family 'Arial' not found.\n",
            "findfont: Font family 'Arial' not found.\n",
            "findfont: Font family 'Arial' not found.\n",
            "findfont: Font family 'Arial' not found.\n",
            "findfont: Font family 'Arial' not found.\n",
            "findfont: Font family 'Arial' not found.\n",
            "findfont: Font family 'Arial' not found.\n",
            "findfont: Font family 'Arial' not found.\n",
            "findfont: Font family 'Arial' not found.\n",
            "findfont: Font family 'Arial' not found.\n",
            "findfont: Font family 'Arial' not found.\n",
            " 70%|███████   | 7/10 [02:24<01:02, 20.72s/it]"
          ]
        },
        {
          "output_type": "stream",
          "name": "stdout",
          "text": [
            "=================================\n",
            "Initial portfolio value:100000\n",
            "Final portfolio value: 1085714.375\n",
            "Final accumulative portfolio value: 10.85714340209961\n",
            "Maximum DrawDown: -0.36144407515835864\n",
            "Sharpe ratio: 1.146478783376956\n",
            "=================================\n"
          ]
        },
        {
          "output_type": "stream",
          "name": "stderr",
          "text": [
            "findfont: Font family 'Arial' not found.\n",
            "findfont: Font family 'Arial' not found.\n",
            "findfont: Font family 'Arial' not found.\n",
            "findfont: Font family 'Arial' not found.\n",
            "findfont: Font family 'Arial' not found.\n",
            "findfont: Font family 'Arial' not found.\n",
            "findfont: Font family 'Arial' not found.\n",
            "findfont: Font family 'Arial' not found.\n",
            "findfont: Font family 'Arial' not found.\n",
            "findfont: Font family 'Arial' not found.\n",
            "findfont: Font family 'Arial' not found.\n",
            "findfont: Font family 'Arial' not found.\n",
            "findfont: Font family 'Arial' not found.\n",
            "findfont: Font family 'Arial' not found.\n",
            " 80%|████████  | 8/10 [02:45<00:41, 20.69s/it]"
          ]
        },
        {
          "output_type": "stream",
          "name": "stdout",
          "text": [
            "=================================\n",
            "Initial portfolio value:100000\n",
            "Final portfolio value: 1171177.875\n",
            "Final accumulative portfolio value: 11.71177864074707\n",
            "Maximum DrawDown: -0.39125455948237176\n",
            "Sharpe ratio: 1.121700371013403\n",
            "=================================\n"
          ]
        },
        {
          "output_type": "stream",
          "name": "stderr",
          "text": [
            "findfont: Font family 'Arial' not found.\n",
            "findfont: Font family 'Arial' not found.\n",
            "findfont: Font family 'Arial' not found.\n",
            "findfont: Font family 'Arial' not found.\n",
            "findfont: Font family 'Arial' not found.\n",
            "findfont: Font family 'Arial' not found.\n",
            "findfont: Font family 'Arial' not found.\n",
            "findfont: Font family 'Arial' not found.\n",
            "findfont: Font family 'Arial' not found.\n",
            "findfont: Font family 'Arial' not found.\n",
            "findfont: Font family 'Arial' not found.\n",
            "findfont: Font family 'Arial' not found.\n",
            "findfont: Font family 'Arial' not found.\n",
            "findfont: Font family 'Arial' not found.\n",
            " 90%|█████████ | 9/10 [03:06<00:20, 20.68s/it]"
          ]
        },
        {
          "output_type": "stream",
          "name": "stdout",
          "text": [
            "=================================\n",
            "Initial portfolio value:100000\n",
            "Final portfolio value: 1250301.125\n",
            "Final accumulative portfolio value: 12.503011703491211\n",
            "Maximum DrawDown: -0.40677238404018223\n",
            "Sharpe ratio: 1.0920986562597328\n",
            "=================================\n"
          ]
        },
        {
          "output_type": "stream",
          "name": "stderr",
          "text": [
            "findfont: Font family 'Arial' not found.\n",
            "findfont: Font family 'Arial' not found.\n",
            "findfont: Font family 'Arial' not found.\n",
            "findfont: Font family 'Arial' not found.\n",
            "findfont: Font family 'Arial' not found.\n",
            "findfont: Font family 'Arial' not found.\n",
            "findfont: Font family 'Arial' not found.\n",
            "findfont: Font family 'Arial' not found.\n",
            "findfont: Font family 'Arial' not found.\n",
            "findfont: Font family 'Arial' not found.\n",
            "findfont: Font family 'Arial' not found.\n",
            "findfont: Font family 'Arial' not found.\n",
            "findfont: Font family 'Arial' not found.\n",
            "findfont: Font family 'Arial' not found.\n",
            "100%|██████████| 10/10 [03:26<00:00, 20.64s/it]\n"
          ]
        },
        {
          "output_type": "stream",
          "name": "stdout",
          "text": [
            "=================================\n",
            "Initial portfolio value:100000\n",
            "Final portfolio value: 255640.4375\n",
            "Final accumulative portfolio value: 2.5564043521881104\n",
            "Maximum DrawDown: -0.3649618249588593\n",
            "Sharpe ratio: 1.208430346569033\n",
            "=================================\n"
          ]
        },
        {
          "output_type": "stream",
          "name": "stderr",
          "text": [
            "findfont: Font family 'Arial' not found.\n",
            "findfont: Font family 'Arial' not found.\n",
            "findfont: Font family 'Arial' not found.\n",
            "findfont: Font family 'Arial' not found.\n",
            "findfont: Font family 'Arial' not found.\n",
            "findfont: Font family 'Arial' not found.\n",
            "findfont: Font family 'Arial' not found.\n",
            "findfont: Font family 'Arial' not found.\n",
            "findfont: Font family 'Arial' not found.\n",
            "findfont: Font family 'Arial' not found.\n",
            "findfont: Font family 'Arial' not found.\n",
            "findfont: Font family 'Arial' not found.\n",
            "findfont: Font family 'Arial' not found.\n",
            "findfont: Font family 'Arial' not found.\n",
            "[I 2025-04-23 04:36:54,745] Trial 0 finished with value: 255640.4375 and parameters: {'lr': 0.005847030185289936, 'k_size': 3, 'time_window': 40}. Best is trial 0 with value: 255640.4375.\n",
            "<ipython-input-9-77ffd919438e>:5: FutureWarning: suggest_loguniform has been deprecated in v3.0.0. This feature will be removed in v6.0.0. See https://github.com/optuna/optuna/releases/tag/v3.0.0. Use suggest_float(..., log=True) instead.\n",
            "  lr = trial.suggest_loguniform(\"lr\", 1e-5, 1e-2) # use trial to suggest values for lr\n",
            "  0%|          | 0/10 [00:00<?, ?it/s]"
          ]
        },
        {
          "output_type": "stream",
          "name": "stdout",
          "text": [
            "=================================\n",
            "Initial portfolio value:100000\n",
            "Final portfolio value: 687486.625\n",
            "Final accumulative portfolio value: 6.874866485595703\n",
            "Maximum DrawDown: -0.1733889455366847\n",
            "Sharpe ratio: 1.4714968035568987\n",
            "=================================\n"
          ]
        },
        {
          "output_type": "stream",
          "name": "stderr",
          "text": [
            "findfont: Font family 'Arial' not found.\n",
            "findfont: Font family 'Arial' not found.\n",
            "findfont: Font family 'Arial' not found.\n",
            "findfont: Font family 'Arial' not found.\n",
            "findfont: Font family 'Arial' not found.\n",
            "findfont: Font family 'Arial' not found.\n",
            "findfont: Font family 'Arial' not found.\n",
            "findfont: Font family 'Arial' not found.\n",
            "findfont: Font family 'Arial' not found.\n",
            "findfont: Font family 'Arial' not found.\n",
            "findfont: Font family 'Arial' not found.\n",
            "findfont: Font family 'Arial' not found.\n",
            "findfont: Font family 'Arial' not found.\n",
            "findfont: Font family 'Arial' not found.\n",
            " 10%|█         | 1/10 [00:20<03:05, 20.60s/it]"
          ]
        },
        {
          "output_type": "stream",
          "name": "stdout",
          "text": [
            "=================================\n",
            "Initial portfolio value:100000\n",
            "Final portfolio value: 723268.875\n",
            "Final accumulative portfolio value: 7.232688903808594\n",
            "Maximum DrawDown: -0.17813458534045734\n",
            "Sharpe ratio: 1.4714920326324086\n",
            "=================================\n"
          ]
        },
        {
          "output_type": "stream",
          "name": "stderr",
          "text": [
            "findfont: Font family 'Arial' not found.\n",
            "findfont: Font family 'Arial' not found.\n",
            "findfont: Font family 'Arial' not found.\n",
            "findfont: Font family 'Arial' not found.\n",
            "findfont: Font family 'Arial' not found.\n",
            "findfont: Font family 'Arial' not found.\n",
            "findfont: Font family 'Arial' not found.\n",
            "findfont: Font family 'Arial' not found.\n",
            "findfont: Font family 'Arial' not found.\n",
            "findfont: Font family 'Arial' not found.\n",
            "findfont: Font family 'Arial' not found.\n",
            "findfont: Font family 'Arial' not found.\n",
            "findfont: Font family 'Arial' not found.\n",
            "findfont: Font family 'Arial' not found.\n",
            " 20%|██        | 2/10 [00:40<02:43, 20.42s/it]"
          ]
        },
        {
          "output_type": "stream",
          "name": "stdout",
          "text": [
            "=================================\n",
            "Initial portfolio value:100000\n",
            "Final portfolio value: 758963.25\n",
            "Final accumulative portfolio value: 7.589632511138916\n",
            "Maximum DrawDown: -0.18200824910885072\n",
            "Sharpe ratio: 1.4717295893252407\n",
            "=================================\n"
          ]
        },
        {
          "output_type": "stream",
          "name": "stderr",
          "text": [
            "findfont: Font family 'Arial' not found.\n",
            "findfont: Font family 'Arial' not found.\n",
            "findfont: Font family 'Arial' not found.\n",
            "findfont: Font family 'Arial' not found.\n",
            "findfont: Font family 'Arial' not found.\n",
            "findfont: Font family 'Arial' not found.\n",
            "findfont: Font family 'Arial' not found.\n",
            "findfont: Font family 'Arial' not found.\n",
            "findfont: Font family 'Arial' not found.\n",
            "findfont: Font family 'Arial' not found.\n",
            "findfont: Font family 'Arial' not found.\n",
            "findfont: Font family 'Arial' not found.\n",
            "findfont: Font family 'Arial' not found.\n",
            "findfont: Font family 'Arial' not found.\n",
            " 30%|███       | 3/10 [01:01<02:23, 20.48s/it]"
          ]
        },
        {
          "output_type": "stream",
          "name": "stdout",
          "text": [
            "=================================\n",
            "Initial portfolio value:100000\n",
            "Final portfolio value: 783400.625\n",
            "Final accumulative portfolio value: 7.834006309509277\n",
            "Maximum DrawDown: -0.18424764768723034\n",
            "Sharpe ratio: 1.4719152440107428\n",
            "=================================\n"
          ]
        },
        {
          "output_type": "stream",
          "name": "stderr",
          "text": [
            "findfont: Font family 'Arial' not found.\n",
            "findfont: Font family 'Arial' not found.\n",
            "findfont: Font family 'Arial' not found.\n",
            "findfont: Font family 'Arial' not found.\n",
            "findfont: Font family 'Arial' not found.\n",
            "findfont: Font family 'Arial' not found.\n",
            "findfont: Font family 'Arial' not found.\n",
            "findfont: Font family 'Arial' not found.\n",
            "findfont: Font family 'Arial' not found.\n",
            "findfont: Font family 'Arial' not found.\n",
            "findfont: Font family 'Arial' not found.\n",
            "findfont: Font family 'Arial' not found.\n",
            "findfont: Font family 'Arial' not found.\n",
            "findfont: Font family 'Arial' not found.\n",
            " 40%|████      | 4/10 [01:22<02:03, 20.57s/it]"
          ]
        },
        {
          "output_type": "stream",
          "name": "stdout",
          "text": [
            "=================================\n",
            "Initial portfolio value:100000\n",
            "Final portfolio value: 796456.5625\n",
            "Final accumulative portfolio value: 7.964565753936768\n",
            "Maximum DrawDown: -0.18535609124067765\n",
            "Sharpe ratio: 1.472040615502045\n",
            "=================================\n"
          ]
        },
        {
          "output_type": "stream",
          "name": "stderr",
          "text": [
            "findfont: Font family 'Arial' not found.\n",
            "findfont: Font family 'Arial' not found.\n",
            "findfont: Font family 'Arial' not found.\n",
            "findfont: Font family 'Arial' not found.\n",
            "findfont: Font family 'Arial' not found.\n",
            "findfont: Font family 'Arial' not found.\n",
            "findfont: Font family 'Arial' not found.\n",
            "findfont: Font family 'Arial' not found.\n",
            "findfont: Font family 'Arial' not found.\n",
            "findfont: Font family 'Arial' not found.\n",
            "findfont: Font family 'Arial' not found.\n",
            "findfont: Font family 'Arial' not found.\n",
            "findfont: Font family 'Arial' not found.\n",
            "findfont: Font family 'Arial' not found.\n",
            " 50%|█████     | 5/10 [01:43<01:43, 20.67s/it]"
          ]
        },
        {
          "output_type": "stream",
          "name": "stdout",
          "text": [
            "=================================\n",
            "Initial portfolio value:100000\n",
            "Final portfolio value: 802993.875\n",
            "Final accumulative portfolio value: 8.029938697814941\n",
            "Maximum DrawDown: -0.18590999939085717\n",
            "Sharpe ratio: 1.4720896172656304\n",
            "=================================\n"
          ]
        },
        {
          "output_type": "stream",
          "name": "stderr",
          "text": [
            "findfont: Font family 'Arial' not found.\n",
            "findfont: Font family 'Arial' not found.\n",
            "findfont: Font family 'Arial' not found.\n",
            "findfont: Font family 'Arial' not found.\n",
            "findfont: Font family 'Arial' not found.\n",
            "findfont: Font family 'Arial' not found.\n",
            "findfont: Font family 'Arial' not found.\n",
            "findfont: Font family 'Arial' not found.\n",
            "findfont: Font family 'Arial' not found.\n",
            "findfont: Font family 'Arial' not found.\n",
            "findfont: Font family 'Arial' not found.\n",
            "findfont: Font family 'Arial' not found.\n",
            "findfont: Font family 'Arial' not found.\n",
            "findfont: Font family 'Arial' not found.\n",
            " 60%|██████    | 6/10 [02:03<01:21, 20.47s/it]"
          ]
        },
        {
          "output_type": "stream",
          "name": "stdout",
          "text": [
            "=================================\n",
            "Initial portfolio value:100000\n",
            "Final portfolio value: 806445.0\n",
            "Final accumulative portfolio value: 8.06445026397705\n",
            "Maximum DrawDown: -0.18622141232993483\n",
            "Sharpe ratio: 1.4720816394799165\n",
            "=================================\n"
          ]
        },
        {
          "output_type": "stream",
          "name": "stderr",
          "text": [
            "findfont: Font family 'Arial' not found.\n",
            "findfont: Font family 'Arial' not found.\n",
            "findfont: Font family 'Arial' not found.\n",
            "findfont: Font family 'Arial' not found.\n",
            "findfont: Font family 'Arial' not found.\n",
            "findfont: Font family 'Arial' not found.\n",
            "findfont: Font family 'Arial' not found.\n",
            "findfont: Font family 'Arial' not found.\n",
            "findfont: Font family 'Arial' not found.\n",
            "findfont: Font family 'Arial' not found.\n",
            "findfont: Font family 'Arial' not found.\n",
            "findfont: Font family 'Arial' not found.\n",
            "findfont: Font family 'Arial' not found.\n",
            "findfont: Font family 'Arial' not found.\n",
            " 70%|███████   | 7/10 [02:23<01:01, 20.57s/it]"
          ]
        },
        {
          "output_type": "stream",
          "name": "stdout",
          "text": [
            "=================================\n",
            "Initial portfolio value:100000\n",
            "Final portfolio value: 808492.75\n",
            "Final accumulative portfolio value: 8.084927558898926\n",
            "Maximum DrawDown: -0.18640604860241694\n",
            "Sharpe ratio: 1.4721037062038411\n",
            "=================================\n"
          ]
        },
        {
          "output_type": "stream",
          "name": "stderr",
          "text": [
            "findfont: Font family 'Arial' not found.\n",
            "findfont: Font family 'Arial' not found.\n",
            "findfont: Font family 'Arial' not found.\n",
            "findfont: Font family 'Arial' not found.\n",
            "findfont: Font family 'Arial' not found.\n",
            "findfont: Font family 'Arial' not found.\n",
            "findfont: Font family 'Arial' not found.\n",
            "findfont: Font family 'Arial' not found.\n",
            "findfont: Font family 'Arial' not found.\n",
            "findfont: Font family 'Arial' not found.\n",
            "findfont: Font family 'Arial' not found.\n",
            "findfont: Font family 'Arial' not found.\n",
            "findfont: Font family 'Arial' not found.\n",
            "findfont: Font family 'Arial' not found.\n",
            " 80%|████████  | 8/10 [02:44<00:41, 20.70s/it]"
          ]
        },
        {
          "output_type": "stream",
          "name": "stdout",
          "text": [
            "=================================\n",
            "Initial portfolio value:100000\n",
            "Final portfolio value: 809801.0625\n",
            "Final accumulative portfolio value: 8.098011016845703\n",
            "Maximum DrawDown: -0.1865263975436089\n",
            "Sharpe ratio: 1.4721312395862576\n",
            "=================================\n"
          ]
        },
        {
          "output_type": "stream",
          "name": "stderr",
          "text": [
            "findfont: Font family 'Arial' not found.\n",
            "findfont: Font family 'Arial' not found.\n",
            "findfont: Font family 'Arial' not found.\n",
            "findfont: Font family 'Arial' not found.\n",
            "findfont: Font family 'Arial' not found.\n",
            "findfont: Font family 'Arial' not found.\n",
            "findfont: Font family 'Arial' not found.\n",
            "findfont: Font family 'Arial' not found.\n",
            "findfont: Font family 'Arial' not found.\n",
            "findfont: Font family 'Arial' not found.\n",
            "findfont: Font family 'Arial' not found.\n",
            "findfont: Font family 'Arial' not found.\n",
            "findfont: Font family 'Arial' not found.\n",
            "findfont: Font family 'Arial' not found.\n",
            " 90%|█████████ | 9/10 [03:05<00:20, 20.59s/it]"
          ]
        },
        {
          "output_type": "stream",
          "name": "stdout",
          "text": [
            "=================================\n",
            "Initial portfolio value:100000\n",
            "Final portfolio value: 810640.4375\n",
            "Final accumulative portfolio value: 8.106404304504395\n",
            "Maximum DrawDown: -0.18660627083472203\n",
            "Sharpe ratio: 1.4721156729029867\n",
            "=================================\n"
          ]
        },
        {
          "output_type": "stream",
          "name": "stderr",
          "text": [
            "findfont: Font family 'Arial' not found.\n",
            "findfont: Font family 'Arial' not found.\n",
            "findfont: Font family 'Arial' not found.\n",
            "findfont: Font family 'Arial' not found.\n",
            "findfont: Font family 'Arial' not found.\n",
            "findfont: Font family 'Arial' not found.\n",
            "findfont: Font family 'Arial' not found.\n",
            "findfont: Font family 'Arial' not found.\n",
            "findfont: Font family 'Arial' not found.\n",
            "findfont: Font family 'Arial' not found.\n",
            "findfont: Font family 'Arial' not found.\n",
            "findfont: Font family 'Arial' not found.\n",
            "findfont: Font family 'Arial' not found.\n",
            "findfont: Font family 'Arial' not found.\n",
            "100%|██████████| 10/10 [03:26<00:00, 20.65s/it]\n"
          ]
        },
        {
          "output_type": "stream",
          "name": "stdout",
          "text": [
            "=================================\n",
            "Initial portfolio value:100000\n",
            "Final portfolio value: 162532.109375\n",
            "Final accumulative portfolio value: 1.6253211498260498\n",
            "Maximum DrawDown: -0.3132454447959022\n",
            "Sharpe ratio: 0.7474073116652927\n",
            "=================================\n"
          ]
        },
        {
          "output_type": "stream",
          "name": "stderr",
          "text": [
            "findfont: Font family 'Arial' not found.\n",
            "findfont: Font family 'Arial' not found.\n",
            "findfont: Font family 'Arial' not found.\n",
            "findfont: Font family 'Arial' not found.\n",
            "findfont: Font family 'Arial' not found.\n",
            "findfont: Font family 'Arial' not found.\n",
            "findfont: Font family 'Arial' not found.\n",
            "findfont: Font family 'Arial' not found.\n",
            "findfont: Font family 'Arial' not found.\n",
            "findfont: Font family 'Arial' not found.\n",
            "findfont: Font family 'Arial' not found.\n",
            "findfont: Font family 'Arial' not found.\n",
            "findfont: Font family 'Arial' not found.\n",
            "findfont: Font family 'Arial' not found.\n",
            "[I 2025-04-23 04:40:28,914] Trial 1 finished with value: 162532.109375 and parameters: {'lr': 0.006265828240814035, 'k_size': 3, 'time_window': 40}. Best is trial 0 with value: 255640.4375.\n",
            "<ipython-input-9-77ffd919438e>:5: FutureWarning: suggest_loguniform has been deprecated in v3.0.0. This feature will be removed in v6.0.0. See https://github.com/optuna/optuna/releases/tag/v3.0.0. Use suggest_float(..., log=True) instead.\n",
            "  lr = trial.suggest_loguniform(\"lr\", 1e-5, 1e-2) # use trial to suggest values for lr\n",
            "  0%|          | 0/10 [00:00<?, ?it/s]"
          ]
        },
        {
          "output_type": "stream",
          "name": "stdout",
          "text": [
            "=================================\n",
            "Initial portfolio value:100000\n",
            "Final portfolio value: 704911.4375\n",
            "Final accumulative portfolio value: 7.049114227294922\n",
            "Maximum DrawDown: -0.1596287640425781\n",
            "Sharpe ratio: 1.4644786155721976\n",
            "=================================\n"
          ]
        },
        {
          "output_type": "stream",
          "name": "stderr",
          "text": [
            "findfont: Font family 'Arial' not found.\n",
            "findfont: Font family 'Arial' not found.\n",
            "findfont: Font family 'Arial' not found.\n",
            "findfont: Font family 'Arial' not found.\n",
            "findfont: Font family 'Arial' not found.\n",
            "findfont: Font family 'Arial' not found.\n",
            "findfont: Font family 'Arial' not found.\n",
            "findfont: Font family 'Arial' not found.\n",
            "findfont: Font family 'Arial' not found.\n",
            "findfont: Font family 'Arial' not found.\n",
            "findfont: Font family 'Arial' not found.\n",
            "findfont: Font family 'Arial' not found.\n",
            "findfont: Font family 'Arial' not found.\n",
            "findfont: Font family 'Arial' not found.\n",
            " 10%|█         | 1/10 [00:20<03:05, 20.61s/it]"
          ]
        },
        {
          "output_type": "stream",
          "name": "stdout",
          "text": [
            "=================================\n",
            "Initial portfolio value:100000\n",
            "Final portfolio value: 726371.875\n",
            "Final accumulative portfolio value: 7.263718605041504\n",
            "Maximum DrawDown: -0.16952309460745418\n",
            "Sharpe ratio: 1.4824974085268707\n",
            "=================================\n"
          ]
        },
        {
          "output_type": "stream",
          "name": "stderr",
          "text": [
            "findfont: Font family 'Arial' not found.\n",
            "findfont: Font family 'Arial' not found.\n",
            "findfont: Font family 'Arial' not found.\n",
            "findfont: Font family 'Arial' not found.\n",
            "findfont: Font family 'Arial' not found.\n",
            "findfont: Font family 'Arial' not found.\n",
            "findfont: Font family 'Arial' not found.\n",
            "findfont: Font family 'Arial' not found.\n",
            "findfont: Font family 'Arial' not found.\n",
            "findfont: Font family 'Arial' not found.\n",
            "findfont: Font family 'Arial' not found.\n",
            "findfont: Font family 'Arial' not found.\n",
            "findfont: Font family 'Arial' not found.\n",
            "findfont: Font family 'Arial' not found.\n",
            " 20%|██        | 2/10 [00:41<02:45, 20.66s/it]"
          ]
        },
        {
          "output_type": "stream",
          "name": "stdout",
          "text": [
            "=================================\n",
            "Initial portfolio value:100000\n",
            "Final portfolio value: 726709.4375\n",
            "Final accumulative portfolio value: 7.267094612121582\n",
            "Maximum DrawDown: -0.1719765393757875\n",
            "Sharpe ratio: 1.4856043650174835\n",
            "=================================\n"
          ]
        },
        {
          "output_type": "stream",
          "name": "stderr",
          "text": [
            "findfont: Font family 'Arial' not found.\n",
            "findfont: Font family 'Arial' not found.\n",
            "findfont: Font family 'Arial' not found.\n",
            "findfont: Font family 'Arial' not found.\n",
            "findfont: Font family 'Arial' not found.\n",
            "findfont: Font family 'Arial' not found.\n",
            "findfont: Font family 'Arial' not found.\n",
            "findfont: Font family 'Arial' not found.\n",
            "findfont: Font family 'Arial' not found.\n",
            "findfont: Font family 'Arial' not found.\n",
            "findfont: Font family 'Arial' not found.\n",
            "findfont: Font family 'Arial' not found.\n",
            "findfont: Font family 'Arial' not found.\n",
            "findfont: Font family 'Arial' not found.\n",
            " 30%|███       | 3/10 [01:02<02:25, 20.73s/it]"
          ]
        },
        {
          "output_type": "stream",
          "name": "stdout",
          "text": [
            "=================================\n",
            "Initial portfolio value:100000\n",
            "Final portfolio value: 735899.375\n",
            "Final accumulative portfolio value: 7.3589935302734375\n",
            "Maximum DrawDown: -0.17368849562718292\n",
            "Sharpe ratio: 1.4876395863516125\n",
            "=================================\n"
          ]
        },
        {
          "output_type": "stream",
          "name": "stderr",
          "text": [
            "findfont: Font family 'Arial' not found.\n",
            "findfont: Font family 'Arial' not found.\n",
            "findfont: Font family 'Arial' not found.\n",
            "findfont: Font family 'Arial' not found.\n",
            "findfont: Font family 'Arial' not found.\n",
            "findfont: Font family 'Arial' not found.\n",
            "findfont: Font family 'Arial' not found.\n",
            "findfont: Font family 'Arial' not found.\n",
            "findfont: Font family 'Arial' not found.\n",
            "findfont: Font family 'Arial' not found.\n",
            "findfont: Font family 'Arial' not found.\n",
            "findfont: Font family 'Arial' not found.\n",
            "findfont: Font family 'Arial' not found.\n",
            "findfont: Font family 'Arial' not found.\n",
            " 40%|████      | 4/10 [01:23<02:04, 20.81s/it]"
          ]
        },
        {
          "output_type": "stream",
          "name": "stdout",
          "text": [
            "=================================\n",
            "Initial portfolio value:100000\n",
            "Final portfolio value: 748403.6875\n",
            "Final accumulative portfolio value: 7.484036922454834\n",
            "Maximum DrawDown: -0.17494347495947427\n",
            "Sharpe ratio: 1.488885176885429\n",
            "=================================\n"
          ]
        },
        {
          "output_type": "stream",
          "name": "stderr",
          "text": [
            "findfont: Font family 'Arial' not found.\n",
            "findfont: Font family 'Arial' not found.\n",
            "findfont: Font family 'Arial' not found.\n",
            "findfont: Font family 'Arial' not found.\n",
            "findfont: Font family 'Arial' not found.\n",
            "findfont: Font family 'Arial' not found.\n",
            "findfont: Font family 'Arial' not found.\n",
            "findfont: Font family 'Arial' not found.\n",
            "findfont: Font family 'Arial' not found.\n",
            "findfont: Font family 'Arial' not found.\n",
            "findfont: Font family 'Arial' not found.\n",
            "findfont: Font family 'Arial' not found.\n",
            "findfont: Font family 'Arial' not found.\n",
            "findfont: Font family 'Arial' not found.\n",
            " 50%|█████     | 5/10 [01:43<01:43, 20.62s/it]"
          ]
        },
        {
          "output_type": "stream",
          "name": "stdout",
          "text": [
            "=================================\n",
            "Initial portfolio value:100000\n",
            "Final portfolio value: 760641.8125\n",
            "Final accumulative portfolio value: 7.606418132781982\n",
            "Maximum DrawDown: -0.17631308917721822\n",
            "Sharpe ratio: 1.4898084980440032\n",
            "=================================\n"
          ]
        },
        {
          "output_type": "stream",
          "name": "stderr",
          "text": [
            "findfont: Font family 'Arial' not found.\n",
            "findfont: Font family 'Arial' not found.\n",
            "findfont: Font family 'Arial' not found.\n",
            "findfont: Font family 'Arial' not found.\n",
            "findfont: Font family 'Arial' not found.\n",
            "findfont: Font family 'Arial' not found.\n",
            "findfont: Font family 'Arial' not found.\n",
            "findfont: Font family 'Arial' not found.\n",
            "findfont: Font family 'Arial' not found.\n",
            "findfont: Font family 'Arial' not found.\n",
            "findfont: Font family 'Arial' not found.\n",
            "findfont: Font family 'Arial' not found.\n",
            "findfont: Font family 'Arial' not found.\n",
            "findfont: Font family 'Arial' not found.\n",
            " 60%|██████    | 6/10 [02:04<01:22, 20.66s/it]"
          ]
        },
        {
          "output_type": "stream",
          "name": "stdout",
          "text": [
            "=================================\n",
            "Initial portfolio value:100000\n",
            "Final portfolio value: 772008.9375\n",
            "Final accumulative portfolio value: 7.720089435577393\n",
            "Maximum DrawDown: -0.17773085543803602\n",
            "Sharpe ratio: 1.4906256831213638\n",
            "=================================\n"
          ]
        },
        {
          "output_type": "stream",
          "name": "stderr",
          "text": [
            "findfont: Font family 'Arial' not found.\n",
            "findfont: Font family 'Arial' not found.\n",
            "findfont: Font family 'Arial' not found.\n",
            "findfont: Font family 'Arial' not found.\n",
            "findfont: Font family 'Arial' not found.\n",
            "findfont: Font family 'Arial' not found.\n",
            "findfont: Font family 'Arial' not found.\n",
            "findfont: Font family 'Arial' not found.\n",
            "findfont: Font family 'Arial' not found.\n",
            "findfont: Font family 'Arial' not found.\n",
            "findfont: Font family 'Arial' not found.\n",
            "findfont: Font family 'Arial' not found.\n",
            "findfont: Font family 'Arial' not found.\n",
            "findfont: Font family 'Arial' not found.\n",
            " 70%|███████   | 7/10 [02:24<01:02, 20.74s/it]"
          ]
        },
        {
          "output_type": "stream",
          "name": "stdout",
          "text": [
            "=================================\n",
            "Initial portfolio value:100000\n",
            "Final portfolio value: 787123.5\n",
            "Final accumulative portfolio value: 7.871234893798828\n",
            "Maximum DrawDown: -0.17874679566568086\n",
            "Sharpe ratio: 1.4910698466571422\n",
            "=================================\n"
          ]
        },
        {
          "output_type": "stream",
          "name": "stderr",
          "text": [
            "findfont: Font family 'Arial' not found.\n",
            "findfont: Font family 'Arial' not found.\n",
            "findfont: Font family 'Arial' not found.\n",
            "findfont: Font family 'Arial' not found.\n",
            "findfont: Font family 'Arial' not found.\n",
            "findfont: Font family 'Arial' not found.\n",
            "findfont: Font family 'Arial' not found.\n",
            "findfont: Font family 'Arial' not found.\n",
            "findfont: Font family 'Arial' not found.\n",
            "findfont: Font family 'Arial' not found.\n",
            "findfont: Font family 'Arial' not found.\n",
            "findfont: Font family 'Arial' not found.\n",
            "findfont: Font family 'Arial' not found.\n",
            "findfont: Font family 'Arial' not found.\n",
            " 80%|████████  | 8/10 [02:45<00:41, 20.65s/it]"
          ]
        },
        {
          "output_type": "stream",
          "name": "stdout",
          "text": [
            "=================================\n",
            "Initial portfolio value:100000\n",
            "Final portfolio value: 796878.0\n",
            "Final accumulative portfolio value: 7.968780040740967\n",
            "Maximum DrawDown: -0.180551854296379\n",
            "Sharpe ratio: 1.4919088927725892\n",
            "=================================\n"
          ]
        },
        {
          "output_type": "stream",
          "name": "stderr",
          "text": [
            "findfont: Font family 'Arial' not found.\n",
            "findfont: Font family 'Arial' not found.\n",
            "findfont: Font family 'Arial' not found.\n",
            "findfont: Font family 'Arial' not found.\n",
            "findfont: Font family 'Arial' not found.\n",
            "findfont: Font family 'Arial' not found.\n",
            "findfont: Font family 'Arial' not found.\n",
            "findfont: Font family 'Arial' not found.\n",
            "findfont: Font family 'Arial' not found.\n",
            "findfont: Font family 'Arial' not found.\n",
            "findfont: Font family 'Arial' not found.\n",
            "findfont: Font family 'Arial' not found.\n",
            "findfont: Font family 'Arial' not found.\n",
            "findfont: Font family 'Arial' not found.\n",
            " 90%|█████████ | 9/10 [03:06<00:20, 20.72s/it]"
          ]
        },
        {
          "output_type": "stream",
          "name": "stdout",
          "text": [
            "=================================\n",
            "Initial portfolio value:100000\n",
            "Final portfolio value: 804957.9375\n",
            "Final accumulative portfolio value: 8.049579620361328\n",
            "Maximum DrawDown: -0.18186486192291507\n",
            "Sharpe ratio: 1.4930059312694843\n",
            "=================================\n"
          ]
        },
        {
          "output_type": "stream",
          "name": "stderr",
          "text": [
            "findfont: Font family 'Arial' not found.\n",
            "findfont: Font family 'Arial' not found.\n",
            "findfont: Font family 'Arial' not found.\n",
            "findfont: Font family 'Arial' not found.\n",
            "findfont: Font family 'Arial' not found.\n",
            "findfont: Font family 'Arial' not found.\n",
            "findfont: Font family 'Arial' not found.\n",
            "findfont: Font family 'Arial' not found.\n",
            "findfont: Font family 'Arial' not found.\n",
            "findfont: Font family 'Arial' not found.\n",
            "findfont: Font family 'Arial' not found.\n",
            "findfont: Font family 'Arial' not found.\n",
            "findfont: Font family 'Arial' not found.\n",
            "findfont: Font family 'Arial' not found.\n",
            "100%|██████████| 10/10 [03:27<00:00, 20.73s/it]\n"
          ]
        },
        {
          "output_type": "stream",
          "name": "stdout",
          "text": [
            "=================================\n",
            "Initial portfolio value:100000\n",
            "Final portfolio value: 247592.4375\n",
            "Final accumulative portfolio value: 2.475924491882324\n",
            "Maximum DrawDown: -0.2782030776941047\n",
            "Sharpe ratio: 1.435686805074855\n",
            "=================================\n"
          ]
        },
        {
          "output_type": "stream",
          "name": "stderr",
          "text": [
            "findfont: Font family 'Arial' not found.\n",
            "findfont: Font family 'Arial' not found.\n",
            "findfont: Font family 'Arial' not found.\n",
            "findfont: Font family 'Arial' not found.\n",
            "findfont: Font family 'Arial' not found.\n",
            "findfont: Font family 'Arial' not found.\n",
            "findfont: Font family 'Arial' not found.\n",
            "findfont: Font family 'Arial' not found.\n",
            "findfont: Font family 'Arial' not found.\n",
            "findfont: Font family 'Arial' not found.\n",
            "findfont: Font family 'Arial' not found.\n",
            "findfont: Font family 'Arial' not found.\n",
            "findfont: Font family 'Arial' not found.\n",
            "findfont: Font family 'Arial' not found.\n",
            "[I 2025-04-23 04:44:04,183] Trial 2 finished with value: 247592.4375 and parameters: {'lr': 0.003600088756402483, 'k_size': 5, 'time_window': 60}. Best is trial 0 with value: 255640.4375.\n",
            "<ipython-input-9-77ffd919438e>:5: FutureWarning: suggest_loguniform has been deprecated in v3.0.0. This feature will be removed in v6.0.0. See https://github.com/optuna/optuna/releases/tag/v3.0.0. Use suggest_float(..., log=True) instead.\n",
            "  lr = trial.suggest_loguniform(\"lr\", 1e-5, 1e-2) # use trial to suggest values for lr\n",
            "  0%|          | 0/10 [00:00<?, ?it/s]"
          ]
        },
        {
          "output_type": "stream",
          "name": "stdout",
          "text": [
            "=================================\n",
            "Initial portfolio value:100000\n",
            "Final portfolio value: 672680.8125\n",
            "Final accumulative portfolio value: 6.726808071136475\n",
            "Maximum DrawDown: -0.16917109606807812\n",
            "Sharpe ratio: 1.4857249515924733\n",
            "=================================\n"
          ]
        },
        {
          "output_type": "stream",
          "name": "stderr",
          "text": [
            "findfont: Font family 'Arial' not found.\n",
            "findfont: Font family 'Arial' not found.\n",
            "findfont: Font family 'Arial' not found.\n",
            "findfont: Font family 'Arial' not found.\n",
            "findfont: Font family 'Arial' not found.\n",
            "findfont: Font family 'Arial' not found.\n",
            "findfont: Font family 'Arial' not found.\n",
            "findfont: Font family 'Arial' not found.\n",
            "findfont: Font family 'Arial' not found.\n",
            "findfont: Font family 'Arial' not found.\n",
            "findfont: Font family 'Arial' not found.\n",
            "findfont: Font family 'Arial' not found.\n",
            "findfont: Font family 'Arial' not found.\n",
            "findfont: Font family 'Arial' not found.\n",
            " 10%|█         | 1/10 [00:20<03:01, 20.19s/it]"
          ]
        },
        {
          "output_type": "stream",
          "name": "stdout",
          "text": [
            "=================================\n",
            "Initial portfolio value:100000\n",
            "Final portfolio value: 674751.5\n",
            "Final accumulative portfolio value: 6.7475152015686035\n",
            "Maximum DrawDown: -0.16926816534807343\n",
            "Sharpe ratio: 1.485823696607671\n",
            "=================================\n"
          ]
        },
        {
          "output_type": "stream",
          "name": "stderr",
          "text": [
            "findfont: Font family 'Arial' not found.\n",
            "findfont: Font family 'Arial' not found.\n",
            "findfont: Font family 'Arial' not found.\n",
            "findfont: Font family 'Arial' not found.\n",
            "findfont: Font family 'Arial' not found.\n",
            "findfont: Font family 'Arial' not found.\n",
            "findfont: Font family 'Arial' not found.\n",
            "findfont: Font family 'Arial' not found.\n",
            "findfont: Font family 'Arial' not found.\n",
            "findfont: Font family 'Arial' not found.\n",
            "findfont: Font family 'Arial' not found.\n",
            "findfont: Font family 'Arial' not found.\n",
            "findfont: Font family 'Arial' not found.\n",
            "findfont: Font family 'Arial' not found.\n",
            " 20%|██        | 2/10 [00:41<02:45, 20.65s/it]"
          ]
        },
        {
          "output_type": "stream",
          "name": "stdout",
          "text": [
            "=================================\n",
            "Initial portfolio value:100000\n",
            "Final portfolio value: 675937.8125\n",
            "Final accumulative portfolio value: 6.759377956390381\n",
            "Maximum DrawDown: -0.1693867613394514\n",
            "Sharpe ratio: 1.485774494306124\n",
            "=================================\n"
          ]
        },
        {
          "output_type": "stream",
          "name": "stderr",
          "text": [
            "findfont: Font family 'Arial' not found.\n",
            "findfont: Font family 'Arial' not found.\n",
            "findfont: Font family 'Arial' not found.\n",
            "findfont: Font family 'Arial' not found.\n",
            "findfont: Font family 'Arial' not found.\n",
            "findfont: Font family 'Arial' not found.\n",
            "findfont: Font family 'Arial' not found.\n",
            "findfont: Font family 'Arial' not found.\n",
            "findfont: Font family 'Arial' not found.\n",
            "findfont: Font family 'Arial' not found.\n",
            "findfont: Font family 'Arial' not found.\n",
            "findfont: Font family 'Arial' not found.\n",
            "findfont: Font family 'Arial' not found.\n",
            "findfont: Font family 'Arial' not found.\n",
            " 30%|███       | 3/10 [01:02<02:27, 21.01s/it]"
          ]
        },
        {
          "output_type": "stream",
          "name": "stdout",
          "text": [
            "=================================\n",
            "Initial portfolio value:100000\n",
            "Final portfolio value: 676992.625\n",
            "Final accumulative portfolio value: 6.769926071166992\n",
            "Maximum DrawDown: -0.1694863151907129\n",
            "Sharpe ratio: 1.4857449411663268\n",
            "=================================\n"
          ]
        },
        {
          "output_type": "stream",
          "name": "stderr",
          "text": [
            "findfont: Font family 'Arial' not found.\n",
            "findfont: Font family 'Arial' not found.\n",
            "findfont: Font family 'Arial' not found.\n",
            "findfont: Font family 'Arial' not found.\n",
            "findfont: Font family 'Arial' not found.\n",
            "findfont: Font family 'Arial' not found.\n",
            "findfont: Font family 'Arial' not found.\n",
            "findfont: Font family 'Arial' not found.\n",
            "findfont: Font family 'Arial' not found.\n",
            "findfont: Font family 'Arial' not found.\n",
            "findfont: Font family 'Arial' not found.\n",
            "findfont: Font family 'Arial' not found.\n",
            "findfont: Font family 'Arial' not found.\n",
            "findfont: Font family 'Arial' not found.\n",
            " 40%|████      | 4/10 [01:22<02:04, 20.77s/it]"
          ]
        },
        {
          "output_type": "stream",
          "name": "stdout",
          "text": [
            "=================================\n",
            "Initial portfolio value:100000\n",
            "Final portfolio value: 678058.8125\n",
            "Final accumulative portfolio value: 6.780588150024414\n",
            "Maximum DrawDown: -0.16960589506660773\n",
            "Sharpe ratio: 1.485767551678358\n",
            "=================================\n"
          ]
        },
        {
          "output_type": "stream",
          "name": "stderr",
          "text": [
            "findfont: Font family 'Arial' not found.\n",
            "findfont: Font family 'Arial' not found.\n",
            "findfont: Font family 'Arial' not found.\n",
            "findfont: Font family 'Arial' not found.\n",
            "findfont: Font family 'Arial' not found.\n",
            "findfont: Font family 'Arial' not found.\n",
            "findfont: Font family 'Arial' not found.\n",
            "findfont: Font family 'Arial' not found.\n",
            "findfont: Font family 'Arial' not found.\n",
            "findfont: Font family 'Arial' not found.\n",
            "findfont: Font family 'Arial' not found.\n",
            "findfont: Font family 'Arial' not found.\n",
            "findfont: Font family 'Arial' not found.\n",
            "findfont: Font family 'Arial' not found.\n",
            " 50%|█████     | 5/10 [01:44<01:44, 20.89s/it]"
          ]
        },
        {
          "output_type": "stream",
          "name": "stdout",
          "text": [
            "=================================\n",
            "Initial portfolio value:100000\n",
            "Final portfolio value: 679103.625\n",
            "Final accumulative portfolio value: 6.791036128997803\n",
            "Maximum DrawDown: -0.16967758750265538\n",
            "Sharpe ratio: 1.4857615086433824\n",
            "=================================\n"
          ]
        },
        {
          "output_type": "stream",
          "name": "stderr",
          "text": [
            "findfont: Font family 'Arial' not found.\n",
            "findfont: Font family 'Arial' not found.\n",
            "findfont: Font family 'Arial' not found.\n",
            "findfont: Font family 'Arial' not found.\n",
            "findfont: Font family 'Arial' not found.\n",
            "findfont: Font family 'Arial' not found.\n",
            "findfont: Font family 'Arial' not found.\n",
            "findfont: Font family 'Arial' not found.\n",
            "findfont: Font family 'Arial' not found.\n",
            "findfont: Font family 'Arial' not found.\n",
            "findfont: Font family 'Arial' not found.\n",
            "findfont: Font family 'Arial' not found.\n",
            "findfont: Font family 'Arial' not found.\n",
            "findfont: Font family 'Arial' not found.\n",
            " 60%|██████    | 6/10 [02:05<01:24, 21.01s/it]"
          ]
        },
        {
          "output_type": "stream",
          "name": "stdout",
          "text": [
            "=================================\n",
            "Initial portfolio value:100000\n",
            "Final portfolio value: 680117.625\n",
            "Final accumulative portfolio value: 6.801176071166992\n",
            "Maximum DrawDown: -0.1697840831262527\n",
            "Sharpe ratio: 1.4857293800120774\n",
            "=================================\n"
          ]
        },
        {
          "output_type": "stream",
          "name": "stderr",
          "text": [
            "findfont: Font family 'Arial' not found.\n",
            "findfont: Font family 'Arial' not found.\n",
            "findfont: Font family 'Arial' not found.\n",
            "findfont: Font family 'Arial' not found.\n",
            "findfont: Font family 'Arial' not found.\n",
            "findfont: Font family 'Arial' not found.\n",
            "findfont: Font family 'Arial' not found.\n",
            "findfont: Font family 'Arial' not found.\n",
            "findfont: Font family 'Arial' not found.\n",
            "findfont: Font family 'Arial' not found.\n",
            "findfont: Font family 'Arial' not found.\n",
            "findfont: Font family 'Arial' not found.\n",
            "findfont: Font family 'Arial' not found.\n",
            "findfont: Font family 'Arial' not found.\n",
            " 70%|███████   | 7/10 [02:26<01:03, 21.01s/it]"
          ]
        },
        {
          "output_type": "stream",
          "name": "stdout",
          "text": [
            "=================================\n",
            "Initial portfolio value:100000\n",
            "Final portfolio value: 681135.1875\n",
            "Final accumulative portfolio value: 6.811351776123047\n",
            "Maximum DrawDown: -0.16985931055048475\n",
            "Sharpe ratio: 1.485731008118439\n",
            "=================================\n"
          ]
        },
        {
          "output_type": "stream",
          "name": "stderr",
          "text": [
            "findfont: Font family 'Arial' not found.\n",
            "findfont: Font family 'Arial' not found.\n",
            "findfont: Font family 'Arial' not found.\n",
            "findfont: Font family 'Arial' not found.\n",
            "findfont: Font family 'Arial' not found.\n",
            "findfont: Font family 'Arial' not found.\n",
            "findfont: Font family 'Arial' not found.\n",
            "findfont: Font family 'Arial' not found.\n",
            "findfont: Font family 'Arial' not found.\n",
            "findfont: Font family 'Arial' not found.\n",
            "findfont: Font family 'Arial' not found.\n",
            "findfont: Font family 'Arial' not found.\n",
            "findfont: Font family 'Arial' not found.\n",
            "findfont: Font family 'Arial' not found.\n",
            " 80%|████████  | 8/10 [02:46<00:41, 20.81s/it]"
          ]
        },
        {
          "output_type": "stream",
          "name": "stdout",
          "text": [
            "=================================\n",
            "Initial portfolio value:100000\n",
            "Final portfolio value: 682173.0\n",
            "Final accumulative portfolio value: 6.821730136871338\n",
            "Maximum DrawDown: -0.16995024955229932\n",
            "Sharpe ratio: 1.4857372393738848\n",
            "=================================\n"
          ]
        },
        {
          "output_type": "stream",
          "name": "stderr",
          "text": [
            "findfont: Font family 'Arial' not found.\n",
            "findfont: Font family 'Arial' not found.\n",
            "findfont: Font family 'Arial' not found.\n",
            "findfont: Font family 'Arial' not found.\n",
            "findfont: Font family 'Arial' not found.\n",
            "findfont: Font family 'Arial' not found.\n",
            "findfont: Font family 'Arial' not found.\n",
            "findfont: Font family 'Arial' not found.\n",
            "findfont: Font family 'Arial' not found.\n",
            "findfont: Font family 'Arial' not found.\n",
            "findfont: Font family 'Arial' not found.\n",
            "findfont: Font family 'Arial' not found.\n",
            "findfont: Font family 'Arial' not found.\n",
            "findfont: Font family 'Arial' not found.\n",
            " 90%|█████████ | 9/10 [03:07<00:20, 20.87s/it]"
          ]
        },
        {
          "output_type": "stream",
          "name": "stdout",
          "text": [
            "=================================\n",
            "Initial portfolio value:100000\n",
            "Final portfolio value: 683132.5\n",
            "Final accumulative portfolio value: 6.831325054168701\n",
            "Maximum DrawDown: -0.1700224506912169\n",
            "Sharpe ratio: 1.4857381759004635\n",
            "=================================\n"
          ]
        },
        {
          "output_type": "stream",
          "name": "stderr",
          "text": [
            "findfont: Font family 'Arial' not found.\n",
            "findfont: Font family 'Arial' not found.\n",
            "findfont: Font family 'Arial' not found.\n",
            "findfont: Font family 'Arial' not found.\n",
            "findfont: Font family 'Arial' not found.\n",
            "findfont: Font family 'Arial' not found.\n",
            "findfont: Font family 'Arial' not found.\n",
            "findfont: Font family 'Arial' not found.\n",
            "findfont: Font family 'Arial' not found.\n",
            "findfont: Font family 'Arial' not found.\n",
            "findfont: Font family 'Arial' not found.\n",
            "findfont: Font family 'Arial' not found.\n",
            "findfont: Font family 'Arial' not found.\n",
            "findfont: Font family 'Arial' not found.\n",
            "100%|██████████| 10/10 [03:28<00:00, 20.86s/it]\n"
          ]
        },
        {
          "output_type": "stream",
          "name": "stdout",
          "text": [
            "=================================\n",
            "Initial portfolio value:100000\n",
            "Final portfolio value: 170494.8125\n",
            "Final accumulative portfolio value: 1.7049480676651\n",
            "Maximum DrawDown: -0.28670537590076595\n",
            "Sharpe ratio: 0.9764808308267715\n",
            "=================================\n"
          ]
        },
        {
          "output_type": "stream",
          "name": "stderr",
          "text": [
            "findfont: Font family 'Arial' not found.\n",
            "findfont: Font family 'Arial' not found.\n",
            "findfont: Font family 'Arial' not found.\n",
            "findfont: Font family 'Arial' not found.\n",
            "findfont: Font family 'Arial' not found.\n",
            "findfont: Font family 'Arial' not found.\n",
            "findfont: Font family 'Arial' not found.\n",
            "findfont: Font family 'Arial' not found.\n",
            "findfont: Font family 'Arial' not found.\n",
            "findfont: Font family 'Arial' not found.\n",
            "findfont: Font family 'Arial' not found.\n",
            "findfont: Font family 'Arial' not found.\n",
            "findfont: Font family 'Arial' not found.\n",
            "findfont: Font family 'Arial' not found.\n",
            "[I 2025-04-23 04:47:39,850] Trial 3 finished with value: 170494.8125 and parameters: {'lr': 8.030630757126372e-05, 'k_size': 5, 'time_window': 60}. Best is trial 0 with value: 255640.4375.\n",
            "<ipython-input-9-77ffd919438e>:5: FutureWarning: suggest_loguniform has been deprecated in v3.0.0. This feature will be removed in v6.0.0. See https://github.com/optuna/optuna/releases/tag/v3.0.0. Use suggest_float(..., log=True) instead.\n",
            "  lr = trial.suggest_loguniform(\"lr\", 1e-5, 1e-2) # use trial to suggest values for lr\n",
            "  0%|          | 0/10 [00:00<?, ?it/s]"
          ]
        },
        {
          "output_type": "stream",
          "name": "stdout",
          "text": [
            "=================================\n",
            "Initial portfolio value:100000\n",
            "Final portfolio value: 670538.6875\n",
            "Final accumulative portfolio value: 6.705386638641357\n",
            "Maximum DrawDown: -0.16687177410552856\n",
            "Sharpe ratio: 1.4855521612708362\n",
            "=================================\n"
          ]
        },
        {
          "output_type": "stream",
          "name": "stderr",
          "text": [
            "findfont: Font family 'Arial' not found.\n",
            "findfont: Font family 'Arial' not found.\n",
            "findfont: Font family 'Arial' not found.\n",
            "findfont: Font family 'Arial' not found.\n",
            "findfont: Font family 'Arial' not found.\n",
            "findfont: Font family 'Arial' not found.\n",
            "findfont: Font family 'Arial' not found.\n",
            "findfont: Font family 'Arial' not found.\n",
            "findfont: Font family 'Arial' not found.\n",
            "findfont: Font family 'Arial' not found.\n",
            "findfont: Font family 'Arial' not found.\n",
            "findfont: Font family 'Arial' not found.\n",
            "findfont: Font family 'Arial' not found.\n",
            "findfont: Font family 'Arial' not found.\n",
            " 10%|█         | 1/10 [00:21<03:14, 21.63s/it]"
          ]
        },
        {
          "output_type": "stream",
          "name": "stdout",
          "text": [
            "=================================\n",
            "Initial portfolio value:100000\n",
            "Final portfolio value: 671516.25\n",
            "Final accumulative portfolio value: 6.71516227722168\n",
            "Maximum DrawDown: -0.16689339361381506\n",
            "Sharpe ratio: 1.4856097398899624\n",
            "=================================\n"
          ]
        },
        {
          "output_type": "stream",
          "name": "stderr",
          "text": [
            "findfont: Font family 'Arial' not found.\n",
            "findfont: Font family 'Arial' not found.\n",
            "findfont: Font family 'Arial' not found.\n",
            "findfont: Font family 'Arial' not found.\n",
            "findfont: Font family 'Arial' not found.\n",
            "findfont: Font family 'Arial' not found.\n",
            "findfont: Font family 'Arial' not found.\n",
            "findfont: Font family 'Arial' not found.\n",
            "findfont: Font family 'Arial' not found.\n",
            "findfont: Font family 'Arial' not found.\n",
            "findfont: Font family 'Arial' not found.\n",
            "findfont: Font family 'Arial' not found.\n",
            "findfont: Font family 'Arial' not found.\n",
            "findfont: Font family 'Arial' not found.\n",
            " 20%|██        | 2/10 [00:42<02:49, 21.21s/it]"
          ]
        },
        {
          "output_type": "stream",
          "name": "stdout",
          "text": [
            "=================================\n",
            "Initial portfolio value:100000\n",
            "Final portfolio value: 672086.875\n",
            "Final accumulative portfolio value: 6.7208685874938965\n",
            "Maximum DrawDown: -0.16692273414670555\n",
            "Sharpe ratio: 1.4856340717138792\n",
            "=================================\n"
          ]
        },
        {
          "output_type": "stream",
          "name": "stderr",
          "text": [
            "findfont: Font family 'Arial' not found.\n",
            "findfont: Font family 'Arial' not found.\n",
            "findfont: Font family 'Arial' not found.\n",
            "findfont: Font family 'Arial' not found.\n",
            "findfont: Font family 'Arial' not found.\n",
            "findfont: Font family 'Arial' not found.\n",
            "findfont: Font family 'Arial' not found.\n",
            "findfont: Font family 'Arial' not found.\n",
            "findfont: Font family 'Arial' not found.\n",
            "findfont: Font family 'Arial' not found.\n",
            "findfont: Font family 'Arial' not found.\n",
            "findfont: Font family 'Arial' not found.\n",
            "findfont: Font family 'Arial' not found.\n",
            "findfont: Font family 'Arial' not found.\n",
            " 30%|███       | 3/10 [01:03<02:26, 20.99s/it]"
          ]
        },
        {
          "output_type": "stream",
          "name": "stdout",
          "text": [
            "=================================\n",
            "Initial portfolio value:100000\n",
            "Final portfolio value: 672645.875\n",
            "Final accumulative portfolio value: 6.726458549499512\n",
            "Maximum DrawDown: -0.16695275168946788\n",
            "Sharpe ratio: 1.485671267973428\n",
            "=================================\n"
          ]
        },
        {
          "output_type": "stream",
          "name": "stderr",
          "text": [
            "findfont: Font family 'Arial' not found.\n",
            "findfont: Font family 'Arial' not found.\n",
            "findfont: Font family 'Arial' not found.\n",
            "findfont: Font family 'Arial' not found.\n",
            "findfont: Font family 'Arial' not found.\n",
            "findfont: Font family 'Arial' not found.\n",
            "findfont: Font family 'Arial' not found.\n",
            "findfont: Font family 'Arial' not found.\n",
            "findfont: Font family 'Arial' not found.\n",
            "findfont: Font family 'Arial' not found.\n",
            "findfont: Font family 'Arial' not found.\n",
            "findfont: Font family 'Arial' not found.\n",
            "findfont: Font family 'Arial' not found.\n",
            "findfont: Font family 'Arial' not found.\n",
            " 40%|████      | 4/10 [01:23<02:04, 20.80s/it]"
          ]
        },
        {
          "output_type": "stream",
          "name": "stdout",
          "text": [
            "=================================\n",
            "Initial portfolio value:100000\n",
            "Final portfolio value: 673199.4375\n",
            "Final accumulative portfolio value: 6.731994152069092\n",
            "Maximum DrawDown: -0.16698278332412853\n",
            "Sharpe ratio: 1.4857148004824519\n",
            "=================================\n"
          ]
        },
        {
          "output_type": "stream",
          "name": "stderr",
          "text": [
            "findfont: Font family 'Arial' not found.\n",
            "findfont: Font family 'Arial' not found.\n",
            "findfont: Font family 'Arial' not found.\n",
            "findfont: Font family 'Arial' not found.\n",
            "findfont: Font family 'Arial' not found.\n",
            "findfont: Font family 'Arial' not found.\n",
            "findfont: Font family 'Arial' not found.\n",
            "findfont: Font family 'Arial' not found.\n",
            "findfont: Font family 'Arial' not found.\n",
            "findfont: Font family 'Arial' not found.\n",
            "findfont: Font family 'Arial' not found.\n",
            "findfont: Font family 'Arial' not found.\n",
            "findfont: Font family 'Arial' not found.\n",
            "findfont: Font family 'Arial' not found.\n",
            " 50%|█████     | 5/10 [01:44<01:44, 20.88s/it]"
          ]
        },
        {
          "output_type": "stream",
          "name": "stdout",
          "text": [
            "=================================\n",
            "Initial portfolio value:100000\n",
            "Final portfolio value: 673715.3125\n",
            "Final accumulative portfolio value: 6.737153053283691\n",
            "Maximum DrawDown: -0.16701132290835408\n",
            "Sharpe ratio: 1.4857470955103758\n",
            "=================================\n"
          ]
        },
        {
          "output_type": "stream",
          "name": "stderr",
          "text": [
            "findfont: Font family 'Arial' not found.\n",
            "findfont: Font family 'Arial' not found.\n",
            "findfont: Font family 'Arial' not found.\n",
            "findfont: Font family 'Arial' not found.\n",
            "findfont: Font family 'Arial' not found.\n",
            "findfont: Font family 'Arial' not found.\n",
            "findfont: Font family 'Arial' not found.\n",
            "findfont: Font family 'Arial' not found.\n",
            "findfont: Font family 'Arial' not found.\n",
            "findfont: Font family 'Arial' not found.\n",
            "findfont: Font family 'Arial' not found.\n",
            "findfont: Font family 'Arial' not found.\n",
            "findfont: Font family 'Arial' not found.\n",
            "findfont: Font family 'Arial' not found.\n",
            " 60%|██████    | 6/10 [02:05<01:23, 20.95s/it]"
          ]
        },
        {
          "output_type": "stream",
          "name": "stdout",
          "text": [
            "=================================\n",
            "Initial portfolio value:100000\n",
            "Final portfolio value: 674229.5625\n",
            "Final accumulative portfolio value: 6.742295742034912\n",
            "Maximum DrawDown: -0.16704252729473457\n",
            "Sharpe ratio: 1.4857966444461808\n",
            "=================================\n"
          ]
        },
        {
          "output_type": "stream",
          "name": "stderr",
          "text": [
            "findfont: Font family 'Arial' not found.\n",
            "findfont: Font family 'Arial' not found.\n",
            "findfont: Font family 'Arial' not found.\n",
            "findfont: Font family 'Arial' not found.\n",
            "findfont: Font family 'Arial' not found.\n",
            "findfont: Font family 'Arial' not found.\n",
            "findfont: Font family 'Arial' not found.\n",
            "findfont: Font family 'Arial' not found.\n",
            "findfont: Font family 'Arial' not found.\n",
            "findfont: Font family 'Arial' not found.\n",
            "findfont: Font family 'Arial' not found.\n",
            "findfont: Font family 'Arial' not found.\n",
            "findfont: Font family 'Arial' not found.\n",
            "findfont: Font family 'Arial' not found.\n",
            " 70%|███████   | 7/10 [02:26<01:02, 20.80s/it]"
          ]
        },
        {
          "output_type": "stream",
          "name": "stdout",
          "text": [
            "=================================\n",
            "Initial portfolio value:100000\n",
            "Final portfolio value: 674783.25\n",
            "Final accumulative portfolio value: 6.747832298278809\n",
            "Maximum DrawDown: -0.16707288911812646\n",
            "Sharpe ratio: 1.4858843197980818\n",
            "=================================\n"
          ]
        },
        {
          "output_type": "stream",
          "name": "stderr",
          "text": [
            "findfont: Font family 'Arial' not found.\n",
            "findfont: Font family 'Arial' not found.\n",
            "findfont: Font family 'Arial' not found.\n",
            "findfont: Font family 'Arial' not found.\n",
            "findfont: Font family 'Arial' not found.\n",
            "findfont: Font family 'Arial' not found.\n",
            "findfont: Font family 'Arial' not found.\n",
            "findfont: Font family 'Arial' not found.\n",
            "findfont: Font family 'Arial' not found.\n",
            "findfont: Font family 'Arial' not found.\n",
            "findfont: Font family 'Arial' not found.\n",
            "findfont: Font family 'Arial' not found.\n",
            "findfont: Font family 'Arial' not found.\n",
            "findfont: Font family 'Arial' not found.\n",
            " 80%|████████  | 8/10 [02:47<00:41, 20.88s/it]"
          ]
        },
        {
          "output_type": "stream",
          "name": "stdout",
          "text": [
            "=================================\n",
            "Initial portfolio value:100000\n",
            "Final portfolio value: 675343.5625\n",
            "Final accumulative portfolio value: 6.7534356117248535\n",
            "Maximum DrawDown: -0.16711291391706384\n",
            "Sharpe ratio: 1.4859584440303173\n",
            "=================================\n"
          ]
        },
        {
          "output_type": "stream",
          "name": "stderr",
          "text": [
            "findfont: Font family 'Arial' not found.\n",
            "findfont: Font family 'Arial' not found.\n",
            "findfont: Font family 'Arial' not found.\n",
            "findfont: Font family 'Arial' not found.\n",
            "findfont: Font family 'Arial' not found.\n",
            "findfont: Font family 'Arial' not found.\n",
            "findfont: Font family 'Arial' not found.\n",
            "findfont: Font family 'Arial' not found.\n",
            "findfont: Font family 'Arial' not found.\n",
            "findfont: Font family 'Arial' not found.\n",
            "findfont: Font family 'Arial' not found.\n",
            "findfont: Font family 'Arial' not found.\n",
            "findfont: Font family 'Arial' not found.\n",
            "findfont: Font family 'Arial' not found.\n",
            " 90%|█████████ | 9/10 [03:08<00:20, 20.94s/it]"
          ]
        },
        {
          "output_type": "stream",
          "name": "stdout",
          "text": [
            "=================================\n",
            "Initial portfolio value:100000\n",
            "Final portfolio value: 675845.75\n",
            "Final accumulative portfolio value: 6.758457660675049\n",
            "Maximum DrawDown: -0.16716332808448908\n",
            "Sharpe ratio: 1.485988233289044\n",
            "=================================\n"
          ]
        },
        {
          "output_type": "stream",
          "name": "stderr",
          "text": [
            "findfont: Font family 'Arial' not found.\n",
            "findfont: Font family 'Arial' not found.\n",
            "findfont: Font family 'Arial' not found.\n",
            "findfont: Font family 'Arial' not found.\n",
            "findfont: Font family 'Arial' not found.\n",
            "findfont: Font family 'Arial' not found.\n",
            "findfont: Font family 'Arial' not found.\n",
            "findfont: Font family 'Arial' not found.\n",
            "findfont: Font family 'Arial' not found.\n",
            "findfont: Font family 'Arial' not found.\n",
            "findfont: Font family 'Arial' not found.\n",
            "findfont: Font family 'Arial' not found.\n",
            "findfont: Font family 'Arial' not found.\n",
            "findfont: Font family 'Arial' not found.\n",
            "100%|██████████| 10/10 [03:30<00:00, 21.02s/it]\n"
          ]
        },
        {
          "output_type": "stream",
          "name": "stdout",
          "text": [
            "=================================\n",
            "Initial portfolio value:100000\n",
            "Final portfolio value: 171939.65625\n",
            "Final accumulative portfolio value: 1.7193965911865234\n",
            "Maximum DrawDown: -0.2819741587932304\n",
            "Sharpe ratio: 1.0020880939211163\n",
            "=================================\n"
          ]
        },
        {
          "output_type": "stream",
          "name": "stderr",
          "text": [
            "findfont: Font family 'Arial' not found.\n",
            "findfont: Font family 'Arial' not found.\n",
            "findfont: Font family 'Arial' not found.\n",
            "findfont: Font family 'Arial' not found.\n",
            "findfont: Font family 'Arial' not found.\n",
            "findfont: Font family 'Arial' not found.\n",
            "findfont: Font family 'Arial' not found.\n",
            "findfont: Font family 'Arial' not found.\n",
            "findfont: Font family 'Arial' not found.\n",
            "findfont: Font family 'Arial' not found.\n",
            "findfont: Font family 'Arial' not found.\n",
            "findfont: Font family 'Arial' not found.\n",
            "findfont: Font family 'Arial' not found.\n",
            "findfont: Font family 'Arial' not found.\n",
            "[I 2025-04-23 04:51:17,475] Trial 4 finished with value: 171939.65625 and parameters: {'lr': 5.5320916365191646e-05, 'k_size': 7, 'time_window': 60}. Best is trial 0 with value: 255640.4375.\n",
            "<ipython-input-9-77ffd919438e>:5: FutureWarning: suggest_loguniform has been deprecated in v3.0.0. This feature will be removed in v6.0.0. See https://github.com/optuna/optuna/releases/tag/v3.0.0. Use suggest_float(..., log=True) instead.\n",
            "  lr = trial.suggest_loguniform(\"lr\", 1e-5, 1e-2) # use trial to suggest values for lr\n",
            "  0%|          | 0/10 [00:00<?, ?it/s]"
          ]
        },
        {
          "output_type": "stream",
          "name": "stdout",
          "text": [
            "=================================\n",
            "Initial portfolio value:100000\n",
            "Final portfolio value: 658198.125\n",
            "Final accumulative portfolio value: 6.581981182098389\n",
            "Maximum DrawDown: -0.17017229843990034\n",
            "Sharpe ratio: 1.4440813239628782\n",
            "=================================\n"
          ]
        },
        {
          "output_type": "stream",
          "name": "stderr",
          "text": [
            "findfont: Font family 'Arial' not found.\n",
            "findfont: Font family 'Arial' not found.\n",
            "findfont: Font family 'Arial' not found.\n",
            "findfont: Font family 'Arial' not found.\n",
            "findfont: Font family 'Arial' not found.\n",
            "findfont: Font family 'Arial' not found.\n",
            "findfont: Font family 'Arial' not found.\n",
            "findfont: Font family 'Arial' not found.\n",
            "findfont: Font family 'Arial' not found.\n",
            "findfont: Font family 'Arial' not found.\n",
            "findfont: Font family 'Arial' not found.\n",
            "findfont: Font family 'Arial' not found.\n",
            "findfont: Font family 'Arial' not found.\n",
            "findfont: Font family 'Arial' not found.\n",
            " 10%|█         | 1/10 [00:21<03:12, 21.36s/it]"
          ]
        },
        {
          "output_type": "stream",
          "name": "stdout",
          "text": [
            "=================================\n",
            "Initial portfolio value:100000\n",
            "Final portfolio value: 659495.375\n",
            "Final accumulative portfolio value: 6.594953536987305\n",
            "Maximum DrawDown: -0.17021737210422383\n",
            "Sharpe ratio: 1.4442182329032345\n",
            "=================================\n"
          ]
        },
        {
          "output_type": "stream",
          "name": "stderr",
          "text": [
            "findfont: Font family 'Arial' not found.\n",
            "findfont: Font family 'Arial' not found.\n",
            "findfont: Font family 'Arial' not found.\n",
            "findfont: Font family 'Arial' not found.\n",
            "findfont: Font family 'Arial' not found.\n",
            "findfont: Font family 'Arial' not found.\n",
            "findfont: Font family 'Arial' not found.\n",
            "findfont: Font family 'Arial' not found.\n",
            "findfont: Font family 'Arial' not found.\n",
            "findfont: Font family 'Arial' not found.\n",
            "findfont: Font family 'Arial' not found.\n",
            "findfont: Font family 'Arial' not found.\n",
            "findfont: Font family 'Arial' not found.\n",
            "findfont: Font family 'Arial' not found.\n",
            " 20%|██        | 2/10 [00:42<02:48, 21.06s/it]"
          ]
        },
        {
          "output_type": "stream",
          "name": "stdout",
          "text": [
            "=================================\n",
            "Initial portfolio value:100000\n",
            "Final portfolio value: 660639.9375\n",
            "Final accumulative portfolio value: 6.6063995361328125\n",
            "Maximum DrawDown: -0.17023399611024703\n",
            "Sharpe ratio: 1.4443673963610808\n",
            "=================================\n"
          ]
        },
        {
          "output_type": "stream",
          "name": "stderr",
          "text": [
            "findfont: Font family 'Arial' not found.\n",
            "findfont: Font family 'Arial' not found.\n",
            "findfont: Font family 'Arial' not found.\n",
            "findfont: Font family 'Arial' not found.\n",
            "findfont: Font family 'Arial' not found.\n",
            "findfont: Font family 'Arial' not found.\n",
            "findfont: Font family 'Arial' not found.\n",
            "findfont: Font family 'Arial' not found.\n",
            "findfont: Font family 'Arial' not found.\n",
            "findfont: Font family 'Arial' not found.\n",
            "findfont: Font family 'Arial' not found.\n",
            "findfont: Font family 'Arial' not found.\n",
            "findfont: Font family 'Arial' not found.\n",
            "findfont: Font family 'Arial' not found.\n",
            " 30%|███       | 3/10 [01:03<02:28, 21.17s/it]"
          ]
        },
        {
          "output_type": "stream",
          "name": "stdout",
          "text": [
            "=================================\n",
            "Initial portfolio value:100000\n",
            "Final portfolio value: 661688.6875\n",
            "Final accumulative portfolio value: 6.616887092590332\n",
            "Maximum DrawDown: -0.17026307456346446\n",
            "Sharpe ratio: 1.4445289136391328\n",
            "=================================\n"
          ]
        },
        {
          "output_type": "stream",
          "name": "stderr",
          "text": [
            "findfont: Font family 'Arial' not found.\n",
            "findfont: Font family 'Arial' not found.\n",
            "findfont: Font family 'Arial' not found.\n",
            "findfont: Font family 'Arial' not found.\n",
            "findfont: Font family 'Arial' not found.\n",
            "findfont: Font family 'Arial' not found.\n",
            "findfont: Font family 'Arial' not found.\n",
            "findfont: Font family 'Arial' not found.\n",
            "findfont: Font family 'Arial' not found.\n",
            "findfont: Font family 'Arial' not found.\n",
            "findfont: Font family 'Arial' not found.\n",
            "findfont: Font family 'Arial' not found.\n",
            "findfont: Font family 'Arial' not found.\n",
            "findfont: Font family 'Arial' not found.\n",
            " 40%|████      | 4/10 [01:25<02:08, 21.42s/it]"
          ]
        },
        {
          "output_type": "stream",
          "name": "stdout",
          "text": [
            "=================================\n",
            "Initial portfolio value:100000\n",
            "Final portfolio value: 662654.8125\n",
            "Final accumulative portfolio value: 6.6265482902526855\n",
            "Maximum DrawDown: -0.17027538623405647\n",
            "Sharpe ratio: 1.44467340752047\n",
            "=================================\n"
          ]
        },
        {
          "output_type": "stream",
          "name": "stderr",
          "text": [
            "findfont: Font family 'Arial' not found.\n",
            "findfont: Font family 'Arial' not found.\n",
            "findfont: Font family 'Arial' not found.\n",
            "findfont: Font family 'Arial' not found.\n",
            "findfont: Font family 'Arial' not found.\n",
            "findfont: Font family 'Arial' not found.\n",
            "findfont: Font family 'Arial' not found.\n",
            "findfont: Font family 'Arial' not found.\n",
            "findfont: Font family 'Arial' not found.\n",
            "findfont: Font family 'Arial' not found.\n",
            "findfont: Font family 'Arial' not found.\n",
            "findfont: Font family 'Arial' not found.\n",
            "findfont: Font family 'Arial' not found.\n",
            "findfont: Font family 'Arial' not found.\n",
            " 50%|█████     | 5/10 [01:46<01:46, 21.24s/it]"
          ]
        },
        {
          "output_type": "stream",
          "name": "stdout",
          "text": [
            "=================================\n",
            "Initial portfolio value:100000\n",
            "Final portfolio value: 663580.0625\n",
            "Final accumulative portfolio value: 6.635800838470459\n",
            "Maximum DrawDown: -0.17028131771248056\n",
            "Sharpe ratio: 1.4447823339521415\n",
            "=================================\n"
          ]
        },
        {
          "output_type": "stream",
          "name": "stderr",
          "text": [
            "findfont: Font family 'Arial' not found.\n",
            "findfont: Font family 'Arial' not found.\n",
            "findfont: Font family 'Arial' not found.\n",
            "findfont: Font family 'Arial' not found.\n",
            "findfont: Font family 'Arial' not found.\n",
            "findfont: Font family 'Arial' not found.\n",
            "findfont: Font family 'Arial' not found.\n",
            "findfont: Font family 'Arial' not found.\n",
            "findfont: Font family 'Arial' not found.\n",
            "findfont: Font family 'Arial' not found.\n",
            "findfont: Font family 'Arial' not found.\n",
            "findfont: Font family 'Arial' not found.\n",
            "findfont: Font family 'Arial' not found.\n",
            "findfont: Font family 'Arial' not found.\n",
            " 60%|██████    | 6/10 [02:07<01:25, 21.30s/it]"
          ]
        },
        {
          "output_type": "stream",
          "name": "stdout",
          "text": [
            "=================================\n",
            "Initial portfolio value:100000\n",
            "Final portfolio value: 664500.375\n",
            "Final accumulative portfolio value: 6.645003795623779\n",
            "Maximum DrawDown: -0.17027410981586089\n",
            "Sharpe ratio: 1.4448730833839696\n",
            "=================================\n"
          ]
        },
        {
          "output_type": "stream",
          "name": "stderr",
          "text": [
            "findfont: Font family 'Arial' not found.\n",
            "findfont: Font family 'Arial' not found.\n",
            "findfont: Font family 'Arial' not found.\n",
            "findfont: Font family 'Arial' not found.\n",
            "findfont: Font family 'Arial' not found.\n",
            "findfont: Font family 'Arial' not found.\n",
            "findfont: Font family 'Arial' not found.\n",
            "findfont: Font family 'Arial' not found.\n",
            "findfont: Font family 'Arial' not found.\n",
            "findfont: Font family 'Arial' not found.\n",
            "findfont: Font family 'Arial' not found.\n",
            "findfont: Font family 'Arial' not found.\n",
            "findfont: Font family 'Arial' not found.\n",
            "findfont: Font family 'Arial' not found.\n",
            " 70%|███████   | 7/10 [02:27<01:02, 20.94s/it]"
          ]
        },
        {
          "output_type": "stream",
          "name": "stdout",
          "text": [
            "=================================\n",
            "Initial portfolio value:100000\n",
            "Final portfolio value: 665444.125\n",
            "Final accumulative portfolio value: 6.6544413566589355\n",
            "Maximum DrawDown: -0.17026241114505125\n",
            "Sharpe ratio: 1.4449613591420674\n",
            "=================================\n"
          ]
        },
        {
          "output_type": "stream",
          "name": "stderr",
          "text": [
            "findfont: Font family 'Arial' not found.\n",
            "findfont: Font family 'Arial' not found.\n",
            "findfont: Font family 'Arial' not found.\n",
            "findfont: Font family 'Arial' not found.\n",
            "findfont: Font family 'Arial' not found.\n",
            "findfont: Font family 'Arial' not found.\n",
            "findfont: Font family 'Arial' not found.\n",
            "findfont: Font family 'Arial' not found.\n",
            "findfont: Font family 'Arial' not found.\n",
            "findfont: Font family 'Arial' not found.\n",
            "findfont: Font family 'Arial' not found.\n",
            "findfont: Font family 'Arial' not found.\n",
            "findfont: Font family 'Arial' not found.\n",
            "findfont: Font family 'Arial' not found.\n",
            " 80%|████████  | 8/10 [02:48<00:41, 20.83s/it]"
          ]
        },
        {
          "output_type": "stream",
          "name": "stdout",
          "text": [
            "=================================\n",
            "Initial portfolio value:100000\n",
            "Final portfolio value: 666444.0625\n",
            "Final accumulative portfolio value: 6.664440631866455\n",
            "Maximum DrawDown: -0.1702489348374644\n",
            "Sharpe ratio: 1.4450606094917646\n",
            "=================================\n"
          ]
        },
        {
          "output_type": "stream",
          "name": "stderr",
          "text": [
            "findfont: Font family 'Arial' not found.\n",
            "findfont: Font family 'Arial' not found.\n",
            "findfont: Font family 'Arial' not found.\n",
            "findfont: Font family 'Arial' not found.\n",
            "findfont: Font family 'Arial' not found.\n",
            "findfont: Font family 'Arial' not found.\n",
            "findfont: Font family 'Arial' not found.\n",
            "findfont: Font family 'Arial' not found.\n",
            "findfont: Font family 'Arial' not found.\n",
            "findfont: Font family 'Arial' not found.\n",
            "findfont: Font family 'Arial' not found.\n",
            "findfont: Font family 'Arial' not found.\n",
            "findfont: Font family 'Arial' not found.\n",
            "findfont: Font family 'Arial' not found.\n",
            " 90%|█████████ | 9/10 [03:09<00:20, 20.80s/it]"
          ]
        },
        {
          "output_type": "stream",
          "name": "stdout",
          "text": [
            "=================================\n",
            "Initial portfolio value:100000\n",
            "Final portfolio value: 667525.5\n",
            "Final accumulative portfolio value: 6.675254821777344\n",
            "Maximum DrawDown: -0.17023406380741823\n",
            "Sharpe ratio: 1.4451863003034555\n",
            "=================================\n"
          ]
        },
        {
          "output_type": "stream",
          "name": "stderr",
          "text": [
            "findfont: Font family 'Arial' not found.\n",
            "findfont: Font family 'Arial' not found.\n",
            "findfont: Font family 'Arial' not found.\n",
            "findfont: Font family 'Arial' not found.\n",
            "findfont: Font family 'Arial' not found.\n",
            "findfont: Font family 'Arial' not found.\n",
            "findfont: Font family 'Arial' not found.\n",
            "findfont: Font family 'Arial' not found.\n",
            "findfont: Font family 'Arial' not found.\n",
            "findfont: Font family 'Arial' not found.\n",
            "findfont: Font family 'Arial' not found.\n",
            "findfont: Font family 'Arial' not found.\n",
            "findfont: Font family 'Arial' not found.\n",
            "findfont: Font family 'Arial' not found.\n",
            "100%|██████████| 10/10 [03:29<00:00, 20.97s/it]\n"
          ]
        },
        {
          "output_type": "stream",
          "name": "stdout",
          "text": [
            "=================================\n",
            "Initial portfolio value:100000\n",
            "Final portfolio value: 141870.640625\n",
            "Final accumulative portfolio value: 1.4187064170837402\n",
            "Maximum DrawDown: -0.28763590478122825\n",
            "Sharpe ratio: 0.599266668852324\n",
            "=================================\n"
          ]
        },
        {
          "output_type": "stream",
          "name": "stderr",
          "text": [
            "findfont: Font family 'Arial' not found.\n",
            "findfont: Font family 'Arial' not found.\n",
            "findfont: Font family 'Arial' not found.\n",
            "findfont: Font family 'Arial' not found.\n",
            "findfont: Font family 'Arial' not found.\n",
            "findfont: Font family 'Arial' not found.\n",
            "findfont: Font family 'Arial' not found.\n",
            "findfont: Font family 'Arial' not found.\n",
            "findfont: Font family 'Arial' not found.\n",
            "findfont: Font family 'Arial' not found.\n",
            "findfont: Font family 'Arial' not found.\n",
            "findfont: Font family 'Arial' not found.\n",
            "findfont: Font family 'Arial' not found.\n",
            "findfont: Font family 'Arial' not found.\n",
            "[I 2025-04-23 04:54:54,560] Trial 5 finished with value: 141870.640625 and parameters: {'lr': 6.956745727556048e-05, 'k_size': 3, 'time_window': 30}. Best is trial 0 with value: 255640.4375.\n",
            "<ipython-input-9-77ffd919438e>:5: FutureWarning: suggest_loguniform has been deprecated in v3.0.0. This feature will be removed in v6.0.0. See https://github.com/optuna/optuna/releases/tag/v3.0.0. Use suggest_float(..., log=True) instead.\n",
            "  lr = trial.suggest_loguniform(\"lr\", 1e-5, 1e-2) # use trial to suggest values for lr\n",
            "  0%|          | 0/10 [00:00<?, ?it/s]"
          ]
        },
        {
          "output_type": "stream",
          "name": "stdout",
          "text": [
            "=================================\n",
            "Initial portfolio value:100000\n",
            "Final portfolio value: 616308.875\n",
            "Final accumulative portfolio value: 6.163088798522949\n",
            "Maximum DrawDown: -0.16505781584399137\n",
            "Sharpe ratio: 1.443925069646784\n",
            "=================================\n"
          ]
        },
        {
          "output_type": "stream",
          "name": "stderr",
          "text": [
            "findfont: Font family 'Arial' not found.\n",
            "findfont: Font family 'Arial' not found.\n",
            "findfont: Font family 'Arial' not found.\n",
            "findfont: Font family 'Arial' not found.\n",
            "findfont: Font family 'Arial' not found.\n",
            "findfont: Font family 'Arial' not found.\n",
            "findfont: Font family 'Arial' not found.\n",
            "findfont: Font family 'Arial' not found.\n",
            "findfont: Font family 'Arial' not found.\n",
            "findfont: Font family 'Arial' not found.\n",
            "findfont: Font family 'Arial' not found.\n",
            "findfont: Font family 'Arial' not found.\n",
            "findfont: Font family 'Arial' not found.\n",
            "findfont: Font family 'Arial' not found.\n",
            " 10%|█         | 1/10 [00:21<03:09, 21.01s/it]"
          ]
        },
        {
          "output_type": "stream",
          "name": "stdout",
          "text": [
            "=================================\n",
            "Initial portfolio value:100000\n",
            "Final portfolio value: 625732.5625\n",
            "Final accumulative portfolio value: 6.257325649261475\n",
            "Maximum DrawDown: -0.166376533826735\n",
            "Sharpe ratio: 1.4439154761065456\n",
            "=================================\n"
          ]
        },
        {
          "output_type": "stream",
          "name": "stderr",
          "text": [
            "findfont: Font family 'Arial' not found.\n",
            "findfont: Font family 'Arial' not found.\n",
            "findfont: Font family 'Arial' not found.\n",
            "findfont: Font family 'Arial' not found.\n",
            "findfont: Font family 'Arial' not found.\n",
            "findfont: Font family 'Arial' not found.\n",
            "findfont: Font family 'Arial' not found.\n",
            "findfont: Font family 'Arial' not found.\n",
            "findfont: Font family 'Arial' not found.\n",
            "findfont: Font family 'Arial' not found.\n",
            "findfont: Font family 'Arial' not found.\n",
            "findfont: Font family 'Arial' not found.\n",
            "findfont: Font family 'Arial' not found.\n",
            "findfont: Font family 'Arial' not found.\n",
            " 20%|██        | 2/10 [00:41<02:46, 20.85s/it]"
          ]
        },
        {
          "output_type": "stream",
          "name": "stdout",
          "text": [
            "=================================\n",
            "Initial portfolio value:100000\n",
            "Final portfolio value: 634958.8125\n",
            "Final accumulative portfolio value: 6.349587917327881\n",
            "Maximum DrawDown: -0.1677326512936328\n",
            "Sharpe ratio: 1.443941008205595\n",
            "=================================\n"
          ]
        },
        {
          "output_type": "stream",
          "name": "stderr",
          "text": [
            "findfont: Font family 'Arial' not found.\n",
            "findfont: Font family 'Arial' not found.\n",
            "findfont: Font family 'Arial' not found.\n",
            "findfont: Font family 'Arial' not found.\n",
            "findfont: Font family 'Arial' not found.\n",
            "findfont: Font family 'Arial' not found.\n",
            "findfont: Font family 'Arial' not found.\n",
            "findfont: Font family 'Arial' not found.\n",
            "findfont: Font family 'Arial' not found.\n",
            "findfont: Font family 'Arial' not found.\n",
            "findfont: Font family 'Arial' not found.\n",
            "findfont: Font family 'Arial' not found.\n",
            "findfont: Font family 'Arial' not found.\n",
            "findfont: Font family 'Arial' not found.\n",
            " 30%|███       | 3/10 [01:01<02:23, 20.50s/it]"
          ]
        },
        {
          "output_type": "stream",
          "name": "stdout",
          "text": [
            "=================================\n",
            "Initial portfolio value:100000\n",
            "Final portfolio value: 644964.3125\n",
            "Final accumulative portfolio value: 6.449643135070801\n",
            "Maximum DrawDown: -0.16921178952883853\n",
            "Sharpe ratio: 1.4439147152070237\n",
            "=================================\n"
          ]
        },
        {
          "output_type": "stream",
          "name": "stderr",
          "text": [
            "findfont: Font family 'Arial' not found.\n",
            "findfont: Font family 'Arial' not found.\n",
            "findfont: Font family 'Arial' not found.\n",
            "findfont: Font family 'Arial' not found.\n",
            "findfont: Font family 'Arial' not found.\n",
            "findfont: Font family 'Arial' not found.\n",
            "findfont: Font family 'Arial' not found.\n",
            "findfont: Font family 'Arial' not found.\n",
            "findfont: Font family 'Arial' not found.\n",
            "findfont: Font family 'Arial' not found.\n",
            "findfont: Font family 'Arial' not found.\n",
            "findfont: Font family 'Arial' not found.\n",
            "findfont: Font family 'Arial' not found.\n",
            "findfont: Font family 'Arial' not found.\n",
            " 40%|████      | 4/10 [01:22<02:04, 20.68s/it]"
          ]
        },
        {
          "output_type": "stream",
          "name": "stdout",
          "text": [
            "=================================\n",
            "Initial portfolio value:100000\n",
            "Final portfolio value: 655930.0625\n",
            "Final accumulative portfolio value: 6.559300422668457\n",
            "Maximum DrawDown: -0.17078871715701638\n",
            "Sharpe ratio: 1.4439251305389886\n",
            "=================================\n"
          ]
        },
        {
          "output_type": "stream",
          "name": "stderr",
          "text": [
            "findfont: Font family 'Arial' not found.\n",
            "findfont: Font family 'Arial' not found.\n",
            "findfont: Font family 'Arial' not found.\n",
            "findfont: Font family 'Arial' not found.\n",
            "findfont: Font family 'Arial' not found.\n",
            "findfont: Font family 'Arial' not found.\n",
            "findfont: Font family 'Arial' not found.\n",
            "findfont: Font family 'Arial' not found.\n",
            "findfont: Font family 'Arial' not found.\n",
            "findfont: Font family 'Arial' not found.\n",
            "findfont: Font family 'Arial' not found.\n",
            "findfont: Font family 'Arial' not found.\n",
            "findfont: Font family 'Arial' not found.\n",
            "findfont: Font family 'Arial' not found.\n",
            " 50%|█████     | 5/10 [01:43<01:43, 20.74s/it]"
          ]
        },
        {
          "output_type": "stream",
          "name": "stdout",
          "text": [
            "=================================\n",
            "Initial portfolio value:100000\n",
            "Final portfolio value: 667780.75\n",
            "Final accumulative portfolio value: 6.677807331085205\n",
            "Maximum DrawDown: -0.17245108571756196\n",
            "Sharpe ratio: 1.4439375528610499\n",
            "=================================\n"
          ]
        },
        {
          "output_type": "stream",
          "name": "stderr",
          "text": [
            "findfont: Font family 'Arial' not found.\n",
            "findfont: Font family 'Arial' not found.\n",
            "findfont: Font family 'Arial' not found.\n",
            "findfont: Font family 'Arial' not found.\n",
            "findfont: Font family 'Arial' not found.\n",
            "findfont: Font family 'Arial' not found.\n",
            "findfont: Font family 'Arial' not found.\n",
            "findfont: Font family 'Arial' not found.\n",
            "findfont: Font family 'Arial' not found.\n",
            "findfont: Font family 'Arial' not found.\n",
            "findfont: Font family 'Arial' not found.\n",
            "findfont: Font family 'Arial' not found.\n",
            "findfont: Font family 'Arial' not found.\n",
            "findfont: Font family 'Arial' not found.\n",
            " 60%|██████    | 6/10 [02:03<01:22, 20.56s/it]"
          ]
        },
        {
          "output_type": "stream",
          "name": "stdout",
          "text": [
            "=================================\n",
            "Initial portfolio value:100000\n",
            "Final portfolio value: 680113.625\n",
            "Final accumulative portfolio value: 6.801136016845703\n",
            "Maximum DrawDown: -0.17412004412926385\n",
            "Sharpe ratio: 1.4439577712662062\n",
            "=================================\n"
          ]
        },
        {
          "output_type": "stream",
          "name": "stderr",
          "text": [
            "findfont: Font family 'Arial' not found.\n",
            "findfont: Font family 'Arial' not found.\n",
            "findfont: Font family 'Arial' not found.\n",
            "findfont: Font family 'Arial' not found.\n",
            "findfont: Font family 'Arial' not found.\n",
            "findfont: Font family 'Arial' not found.\n",
            "findfont: Font family 'Arial' not found.\n",
            "findfont: Font family 'Arial' not found.\n",
            "findfont: Font family 'Arial' not found.\n",
            "findfont: Font family 'Arial' not found.\n",
            "findfont: Font family 'Arial' not found.\n",
            "findfont: Font family 'Arial' not found.\n",
            "findfont: Font family 'Arial' not found.\n",
            "findfont: Font family 'Arial' not found.\n",
            " 70%|███████   | 7/10 [02:25<01:02, 20.80s/it]"
          ]
        },
        {
          "output_type": "stream",
          "name": "stdout",
          "text": [
            "=================================\n",
            "Initial portfolio value:100000\n",
            "Final portfolio value: 692343.25\n",
            "Final accumulative portfolio value: 6.923432350158691\n",
            "Maximum DrawDown: -0.1757161825324126\n",
            "Sharpe ratio: 1.4439764128405228\n",
            "=================================\n"
          ]
        },
        {
          "output_type": "stream",
          "name": "stderr",
          "text": [
            "findfont: Font family 'Arial' not found.\n",
            "findfont: Font family 'Arial' not found.\n",
            "findfont: Font family 'Arial' not found.\n",
            "findfont: Font family 'Arial' not found.\n",
            "findfont: Font family 'Arial' not found.\n",
            "findfont: Font family 'Arial' not found.\n",
            "findfont: Font family 'Arial' not found.\n",
            "findfont: Font family 'Arial' not found.\n",
            "findfont: Font family 'Arial' not found.\n",
            "findfont: Font family 'Arial' not found.\n",
            "findfont: Font family 'Arial' not found.\n",
            "findfont: Font family 'Arial' not found.\n",
            "findfont: Font family 'Arial' not found.\n",
            "findfont: Font family 'Arial' not found.\n",
            " 80%|████████  | 8/10 [02:45<00:41, 20.78s/it]"
          ]
        },
        {
          "output_type": "stream",
          "name": "stdout",
          "text": [
            "=================================\n",
            "Initial portfolio value:100000\n",
            "Final portfolio value: 703969.1875\n",
            "Final accumulative portfolio value: 7.039691925048828\n",
            "Maximum DrawDown: -0.177196840795939\n",
            "Sharpe ratio: 1.4439815864793633\n",
            "=================================\n"
          ]
        },
        {
          "output_type": "stream",
          "name": "stderr",
          "text": [
            "findfont: Font family 'Arial' not found.\n",
            "findfont: Font family 'Arial' not found.\n",
            "findfont: Font family 'Arial' not found.\n",
            "findfont: Font family 'Arial' not found.\n",
            "findfont: Font family 'Arial' not found.\n",
            "findfont: Font family 'Arial' not found.\n",
            "findfont: Font family 'Arial' not found.\n",
            "findfont: Font family 'Arial' not found.\n",
            "findfont: Font family 'Arial' not found.\n",
            "findfont: Font family 'Arial' not found.\n",
            "findfont: Font family 'Arial' not found.\n",
            "findfont: Font family 'Arial' not found.\n",
            "findfont: Font family 'Arial' not found.\n",
            "findfont: Font family 'Arial' not found.\n",
            " 90%|█████████ | 9/10 [03:06<00:20, 20.72s/it]"
          ]
        },
        {
          "output_type": "stream",
          "name": "stdout",
          "text": [
            "=================================\n",
            "Initial portfolio value:100000\n",
            "Final portfolio value: 714687.75\n",
            "Final accumulative portfolio value: 7.146877288818359\n",
            "Maximum DrawDown: -0.17851810770280652\n",
            "Sharpe ratio: 1.4440040029640364\n",
            "=================================\n"
          ]
        },
        {
          "output_type": "stream",
          "name": "stderr",
          "text": [
            "findfont: Font family 'Arial' not found.\n",
            "findfont: Font family 'Arial' not found.\n",
            "findfont: Font family 'Arial' not found.\n",
            "findfont: Font family 'Arial' not found.\n",
            "findfont: Font family 'Arial' not found.\n",
            "findfont: Font family 'Arial' not found.\n",
            "findfont: Font family 'Arial' not found.\n",
            "findfont: Font family 'Arial' not found.\n",
            "findfont: Font family 'Arial' not found.\n",
            "findfont: Font family 'Arial' not found.\n",
            "findfont: Font family 'Arial' not found.\n",
            "findfont: Font family 'Arial' not found.\n",
            "findfont: Font family 'Arial' not found.\n",
            "findfont: Font family 'Arial' not found.\n",
            "100%|██████████| 10/10 [03:26<00:00, 20.68s/it]\n"
          ]
        },
        {
          "output_type": "stream",
          "name": "stdout",
          "text": [
            "=================================\n",
            "Initial portfolio value:100000\n",
            "Final portfolio value: 141017.515625\n",
            "Final accumulative portfolio value: 1.4101752042770386\n",
            "Maximum DrawDown: -0.30117605220164123\n",
            "Sharpe ratio: 0.5753253621194518\n",
            "=================================\n"
          ]
        },
        {
          "output_type": "stream",
          "name": "stderr",
          "text": [
            "findfont: Font family 'Arial' not found.\n",
            "findfont: Font family 'Arial' not found.\n",
            "findfont: Font family 'Arial' not found.\n",
            "findfont: Font family 'Arial' not found.\n",
            "findfont: Font family 'Arial' not found.\n",
            "findfont: Font family 'Arial' not found.\n",
            "findfont: Font family 'Arial' not found.\n",
            "findfont: Font family 'Arial' not found.\n",
            "findfont: Font family 'Arial' not found.\n",
            "findfont: Font family 'Arial' not found.\n",
            "findfont: Font family 'Arial' not found.\n",
            "findfont: Font family 'Arial' not found.\n",
            "findfont: Font family 'Arial' not found.\n",
            "findfont: Font family 'Arial' not found.\n",
            "[I 2025-04-23 04:58:29,013] Trial 6 finished with value: 141017.515625 and parameters: {'lr': 0.001670483771070996, 'k_size': 3, 'time_window': 30}. Best is trial 0 with value: 255640.4375.\n",
            "<ipython-input-9-77ffd919438e>:5: FutureWarning: suggest_loguniform has been deprecated in v3.0.0. This feature will be removed in v6.0.0. See https://github.com/optuna/optuna/releases/tag/v3.0.0. Use suggest_float(..., log=True) instead.\n",
            "  lr = trial.suggest_loguniform(\"lr\", 1e-5, 1e-2) # use trial to suggest values for lr\n",
            "  0%|          | 0/10 [00:00<?, ?it/s]"
          ]
        },
        {
          "output_type": "stream",
          "name": "stdout",
          "text": [
            "=================================\n",
            "Initial portfolio value:100000\n",
            "Final portfolio value: 673007.375\n",
            "Final accumulative portfolio value: 6.730073928833008\n",
            "Maximum DrawDown: -0.16937426982695458\n",
            "Sharpe ratio: 1.485647863389829\n",
            "=================================\n"
          ]
        },
        {
          "output_type": "stream",
          "name": "stderr",
          "text": [
            "findfont: Font family 'Arial' not found.\n",
            "findfont: Font family 'Arial' not found.\n",
            "findfont: Font family 'Arial' not found.\n",
            "findfont: Font family 'Arial' not found.\n",
            "findfont: Font family 'Arial' not found.\n",
            "findfont: Font family 'Arial' not found.\n",
            "findfont: Font family 'Arial' not found.\n",
            "findfont: Font family 'Arial' not found.\n",
            "findfont: Font family 'Arial' not found.\n",
            "findfont: Font family 'Arial' not found.\n",
            "findfont: Font family 'Arial' not found.\n",
            "findfont: Font family 'Arial' not found.\n",
            "findfont: Font family 'Arial' not found.\n",
            "findfont: Font family 'Arial' not found.\n",
            " 10%|█         | 1/10 [00:20<03:08, 20.97s/it]"
          ]
        },
        {
          "output_type": "stream",
          "name": "stdout",
          "text": [
            "=================================\n",
            "Initial portfolio value:100000\n",
            "Final portfolio value: 674570.0625\n",
            "Final accumulative portfolio value: 6.745700836181641\n",
            "Maximum DrawDown: -0.169421308964968\n",
            "Sharpe ratio: 1.4859481465245405\n",
            "=================================\n"
          ]
        },
        {
          "output_type": "stream",
          "name": "stderr",
          "text": [
            "findfont: Font family 'Arial' not found.\n",
            "findfont: Font family 'Arial' not found.\n",
            "findfont: Font family 'Arial' not found.\n",
            "findfont: Font family 'Arial' not found.\n",
            "findfont: Font family 'Arial' not found.\n",
            "findfont: Font family 'Arial' not found.\n",
            "findfont: Font family 'Arial' not found.\n",
            "findfont: Font family 'Arial' not found.\n",
            "findfont: Font family 'Arial' not found.\n",
            "findfont: Font family 'Arial' not found.\n",
            "findfont: Font family 'Arial' not found.\n",
            "findfont: Font family 'Arial' not found.\n",
            "findfont: Font family 'Arial' not found.\n",
            "findfont: Font family 'Arial' not found.\n",
            " 20%|██        | 2/10 [00:41<02:45, 20.64s/it]"
          ]
        },
        {
          "output_type": "stream",
          "name": "stdout",
          "text": [
            "=================================\n",
            "Initial portfolio value:100000\n",
            "Final portfolio value: 675561.25\n",
            "Final accumulative portfolio value: 6.755612373352051\n",
            "Maximum DrawDown: -0.16946043789575593\n",
            "Sharpe ratio: 1.486072019524087\n",
            "=================================\n"
          ]
        },
        {
          "output_type": "stream",
          "name": "stderr",
          "text": [
            "findfont: Font family 'Arial' not found.\n",
            "findfont: Font family 'Arial' not found.\n",
            "findfont: Font family 'Arial' not found.\n",
            "findfont: Font family 'Arial' not found.\n",
            "findfont: Font family 'Arial' not found.\n",
            "findfont: Font family 'Arial' not found.\n",
            "findfont: Font family 'Arial' not found.\n",
            "findfont: Font family 'Arial' not found.\n",
            "findfont: Font family 'Arial' not found.\n",
            "findfont: Font family 'Arial' not found.\n",
            "findfont: Font family 'Arial' not found.\n",
            "findfont: Font family 'Arial' not found.\n",
            "findfont: Font family 'Arial' not found.\n",
            "findfont: Font family 'Arial' not found.\n",
            " 30%|███       | 3/10 [01:02<02:25, 20.78s/it]"
          ]
        },
        {
          "output_type": "stream",
          "name": "stdout",
          "text": [
            "=================================\n",
            "Initial portfolio value:100000\n",
            "Final portfolio value: 676624.75\n",
            "Final accumulative portfolio value: 6.766247272491455\n",
            "Maximum DrawDown: -0.16947172510281705\n",
            "Sharpe ratio: 1.486246270854562\n",
            "=================================\n"
          ]
        },
        {
          "output_type": "stream",
          "name": "stderr",
          "text": [
            "findfont: Font family 'Arial' not found.\n",
            "findfont: Font family 'Arial' not found.\n",
            "findfont: Font family 'Arial' not found.\n",
            "findfont: Font family 'Arial' not found.\n",
            "findfont: Font family 'Arial' not found.\n",
            "findfont: Font family 'Arial' not found.\n",
            "findfont: Font family 'Arial' not found.\n",
            "findfont: Font family 'Arial' not found.\n",
            "findfont: Font family 'Arial' not found.\n",
            "findfont: Font family 'Arial' not found.\n",
            "findfont: Font family 'Arial' not found.\n",
            "findfont: Font family 'Arial' not found.\n",
            "findfont: Font family 'Arial' not found.\n",
            "findfont: Font family 'Arial' not found.\n",
            " 40%|████      | 4/10 [01:23<02:04, 20.83s/it]"
          ]
        },
        {
          "output_type": "stream",
          "name": "stdout",
          "text": [
            "=================================\n",
            "Initial portfolio value:100000\n",
            "Final portfolio value: 677785.0\n",
            "Final accumulative portfolio value: 6.777850151062012\n",
            "Maximum DrawDown: -0.16947865062356404\n",
            "Sharpe ratio: 1.4864318493537632\n",
            "=================================\n"
          ]
        },
        {
          "output_type": "stream",
          "name": "stderr",
          "text": [
            "findfont: Font family 'Arial' not found.\n",
            "findfont: Font family 'Arial' not found.\n",
            "findfont: Font family 'Arial' not found.\n",
            "findfont: Font family 'Arial' not found.\n",
            "findfont: Font family 'Arial' not found.\n",
            "findfont: Font family 'Arial' not found.\n",
            "findfont: Font family 'Arial' not found.\n",
            "findfont: Font family 'Arial' not found.\n",
            "findfont: Font family 'Arial' not found.\n",
            "findfont: Font family 'Arial' not found.\n",
            "findfont: Font family 'Arial' not found.\n",
            "findfont: Font family 'Arial' not found.\n",
            "findfont: Font family 'Arial' not found.\n",
            "findfont: Font family 'Arial' not found.\n",
            " 50%|█████     | 5/10 [01:43<01:43, 20.70s/it]"
          ]
        },
        {
          "output_type": "stream",
          "name": "stdout",
          "text": [
            "=================================\n",
            "Initial portfolio value:100000\n",
            "Final portfolio value: 678856.3125\n",
            "Final accumulative portfolio value: 6.788563251495361\n",
            "Maximum DrawDown: -0.16951292443195964\n",
            "Sharpe ratio: 1.4865686431504659\n",
            "=================================\n"
          ]
        },
        {
          "output_type": "stream",
          "name": "stderr",
          "text": [
            "findfont: Font family 'Arial' not found.\n",
            "findfont: Font family 'Arial' not found.\n",
            "findfont: Font family 'Arial' not found.\n",
            "findfont: Font family 'Arial' not found.\n",
            "findfont: Font family 'Arial' not found.\n",
            "findfont: Font family 'Arial' not found.\n",
            "findfont: Font family 'Arial' not found.\n",
            "findfont: Font family 'Arial' not found.\n",
            "findfont: Font family 'Arial' not found.\n",
            "findfont: Font family 'Arial' not found.\n",
            "findfont: Font family 'Arial' not found.\n",
            "findfont: Font family 'Arial' not found.\n",
            "findfont: Font family 'Arial' not found.\n",
            "findfont: Font family 'Arial' not found.\n",
            " 60%|██████    | 6/10 [02:04<01:23, 20.81s/it]"
          ]
        },
        {
          "output_type": "stream",
          "name": "stdout",
          "text": [
            "=================================\n",
            "Initial portfolio value:100000\n",
            "Final portfolio value: 679872.75\n",
            "Final accumulative portfolio value: 6.798727512359619\n",
            "Maximum DrawDown: -0.1695477305631261\n",
            "Sharpe ratio: 1.486693739127369\n",
            "=================================\n"
          ]
        },
        {
          "output_type": "stream",
          "name": "stderr",
          "text": [
            "findfont: Font family 'Arial' not found.\n",
            "findfont: Font family 'Arial' not found.\n",
            "findfont: Font family 'Arial' not found.\n",
            "findfont: Font family 'Arial' not found.\n",
            "findfont: Font family 'Arial' not found.\n",
            "findfont: Font family 'Arial' not found.\n",
            "findfont: Font family 'Arial' not found.\n",
            "findfont: Font family 'Arial' not found.\n",
            "findfont: Font family 'Arial' not found.\n",
            "findfont: Font family 'Arial' not found.\n",
            "findfont: Font family 'Arial' not found.\n",
            "findfont: Font family 'Arial' not found.\n",
            "findfont: Font family 'Arial' not found.\n",
            "findfont: Font family 'Arial' not found.\n",
            " 70%|███████   | 7/10 [02:25<01:02, 20.90s/it]"
          ]
        },
        {
          "output_type": "stream",
          "name": "stdout",
          "text": [
            "=================================\n",
            "Initial portfolio value:100000\n",
            "Final portfolio value: 680859.4375\n",
            "Final accumulative portfolio value: 6.808594226837158\n",
            "Maximum DrawDown: -0.16958306474118412\n",
            "Sharpe ratio: 1.486802757594318\n",
            "=================================\n"
          ]
        },
        {
          "output_type": "stream",
          "name": "stderr",
          "text": [
            "findfont: Font family 'Arial' not found.\n",
            "findfont: Font family 'Arial' not found.\n",
            "findfont: Font family 'Arial' not found.\n",
            "findfont: Font family 'Arial' not found.\n",
            "findfont: Font family 'Arial' not found.\n",
            "findfont: Font family 'Arial' not found.\n",
            "findfont: Font family 'Arial' not found.\n",
            "findfont: Font family 'Arial' not found.\n",
            "findfont: Font family 'Arial' not found.\n",
            "findfont: Font family 'Arial' not found.\n",
            "findfont: Font family 'Arial' not found.\n",
            "findfont: Font family 'Arial' not found.\n",
            "findfont: Font family 'Arial' not found.\n",
            "findfont: Font family 'Arial' not found.\n",
            " 80%|████████  | 8/10 [02:46<00:41, 20.93s/it]"
          ]
        },
        {
          "output_type": "stream",
          "name": "stdout",
          "text": [
            "=================================\n",
            "Initial portfolio value:100000\n",
            "Final portfolio value: 681824.5625\n",
            "Final accumulative portfolio value: 6.8182454109191895\n",
            "Maximum DrawDown: -0.169618368911314\n",
            "Sharpe ratio: 1.4869002554936868\n",
            "=================================\n"
          ]
        },
        {
          "output_type": "stream",
          "name": "stderr",
          "text": [
            "findfont: Font family 'Arial' not found.\n",
            "findfont: Font family 'Arial' not found.\n",
            "findfont: Font family 'Arial' not found.\n",
            "findfont: Font family 'Arial' not found.\n",
            "findfont: Font family 'Arial' not found.\n",
            "findfont: Font family 'Arial' not found.\n",
            "findfont: Font family 'Arial' not found.\n",
            "findfont: Font family 'Arial' not found.\n",
            "findfont: Font family 'Arial' not found.\n",
            "findfont: Font family 'Arial' not found.\n",
            "findfont: Font family 'Arial' not found.\n",
            "findfont: Font family 'Arial' not found.\n",
            "findfont: Font family 'Arial' not found.\n",
            "findfont: Font family 'Arial' not found.\n",
            " 90%|█████████ | 9/10 [03:07<00:20, 20.93s/it]"
          ]
        },
        {
          "output_type": "stream",
          "name": "stdout",
          "text": [
            "=================================\n",
            "Initial portfolio value:100000\n",
            "Final portfolio value: 682789.4375\n",
            "Final accumulative portfolio value: 6.82789421081543\n",
            "Maximum DrawDown: -0.16965402776993266\n",
            "Sharpe ratio: 1.48698838417331\n",
            "=================================\n"
          ]
        },
        {
          "output_type": "stream",
          "name": "stderr",
          "text": [
            "findfont: Font family 'Arial' not found.\n",
            "findfont: Font family 'Arial' not found.\n",
            "findfont: Font family 'Arial' not found.\n",
            "findfont: Font family 'Arial' not found.\n",
            "findfont: Font family 'Arial' not found.\n",
            "findfont: Font family 'Arial' not found.\n",
            "findfont: Font family 'Arial' not found.\n",
            "findfont: Font family 'Arial' not found.\n",
            "findfont: Font family 'Arial' not found.\n",
            "findfont: Font family 'Arial' not found.\n",
            "findfont: Font family 'Arial' not found.\n",
            "findfont: Font family 'Arial' not found.\n",
            "findfont: Font family 'Arial' not found.\n",
            "findfont: Font family 'Arial' not found.\n",
            "100%|██████████| 10/10 [03:28<00:00, 20.84s/it]\n"
          ]
        },
        {
          "output_type": "stream",
          "name": "stdout",
          "text": [
            "=================================\n",
            "Initial portfolio value:100000\n",
            "Final portfolio value: 172418.84375\n",
            "Final accumulative portfolio value: 1.7241884469985962\n",
            "Maximum DrawDown: -0.2866297338892242\n",
            "Sharpe ratio: 0.9958499524331865\n",
            "=================================\n"
          ]
        },
        {
          "output_type": "stream",
          "name": "stderr",
          "text": [
            "findfont: Font family 'Arial' not found.\n",
            "findfont: Font family 'Arial' not found.\n",
            "findfont: Font family 'Arial' not found.\n",
            "findfont: Font family 'Arial' not found.\n",
            "findfont: Font family 'Arial' not found.\n",
            "findfont: Font family 'Arial' not found.\n",
            "findfont: Font family 'Arial' not found.\n",
            "findfont: Font family 'Arial' not found.\n",
            "findfont: Font family 'Arial' not found.\n",
            "findfont: Font family 'Arial' not found.\n",
            "findfont: Font family 'Arial' not found.\n",
            "findfont: Font family 'Arial' not found.\n",
            "findfont: Font family 'Arial' not found.\n",
            "findfont: Font family 'Arial' not found.\n",
            "[I 2025-04-23 05:02:04,953] Trial 7 finished with value: 172418.84375 and parameters: {'lr': 0.00012635034905534052, 'k_size': 3, 'time_window': 60}. Best is trial 0 with value: 255640.4375.\n",
            "<ipython-input-9-77ffd919438e>:5: FutureWarning: suggest_loguniform has been deprecated in v3.0.0. This feature will be removed in v6.0.0. See https://github.com/optuna/optuna/releases/tag/v3.0.0. Use suggest_float(..., log=True) instead.\n",
            "  lr = trial.suggest_loguniform(\"lr\", 1e-5, 1e-2) # use trial to suggest values for lr\n",
            "  0%|          | 0/10 [00:00<?, ?it/s]"
          ]
        },
        {
          "output_type": "stream",
          "name": "stdout",
          "text": [
            "=================================\n",
            "Initial portfolio value:100000\n",
            "Final portfolio value: 650544.125\n",
            "Final accumulative portfolio value: 6.505441188812256\n",
            "Maximum DrawDown: -0.16516168882880677\n",
            "Sharpe ratio: 1.4731941792990702\n",
            "=================================\n"
          ]
        },
        {
          "output_type": "stream",
          "name": "stderr",
          "text": [
            "findfont: Font family 'Arial' not found.\n",
            "findfont: Font family 'Arial' not found.\n",
            "findfont: Font family 'Arial' not found.\n",
            "findfont: Font family 'Arial' not found.\n",
            "findfont: Font family 'Arial' not found.\n",
            "findfont: Font family 'Arial' not found.\n",
            "findfont: Font family 'Arial' not found.\n",
            "findfont: Font family 'Arial' not found.\n",
            "findfont: Font family 'Arial' not found.\n",
            "findfont: Font family 'Arial' not found.\n",
            "findfont: Font family 'Arial' not found.\n",
            "findfont: Font family 'Arial' not found.\n",
            "findfont: Font family 'Arial' not found.\n",
            "findfont: Font family 'Arial' not found.\n",
            " 10%|█         | 1/10 [00:20<03:02, 20.26s/it]"
          ]
        },
        {
          "output_type": "stream",
          "name": "stdout",
          "text": [
            "=================================\n",
            "Initial portfolio value:100000\n",
            "Final portfolio value: 663478.25\n",
            "Final accumulative portfolio value: 6.634782314300537\n",
            "Maximum DrawDown: -0.1639688360406798\n",
            "Sharpe ratio: 1.4743763734822994\n",
            "=================================\n"
          ]
        },
        {
          "output_type": "stream",
          "name": "stderr",
          "text": [
            "findfont: Font family 'Arial' not found.\n",
            "findfont: Font family 'Arial' not found.\n",
            "findfont: Font family 'Arial' not found.\n",
            "findfont: Font family 'Arial' not found.\n",
            "findfont: Font family 'Arial' not found.\n",
            "findfont: Font family 'Arial' not found.\n",
            "findfont: Font family 'Arial' not found.\n",
            "findfont: Font family 'Arial' not found.\n",
            "findfont: Font family 'Arial' not found.\n",
            "findfont: Font family 'Arial' not found.\n",
            "findfont: Font family 'Arial' not found.\n",
            "findfont: Font family 'Arial' not found.\n",
            "findfont: Font family 'Arial' not found.\n",
            "findfont: Font family 'Arial' not found.\n",
            " 20%|██        | 2/10 [00:41<02:45, 20.63s/it]"
          ]
        },
        {
          "output_type": "stream",
          "name": "stdout",
          "text": [
            "=================================\n",
            "Initial portfolio value:100000\n",
            "Final portfolio value: 675745.375\n",
            "Final accumulative portfolio value: 6.757453918457031\n",
            "Maximum DrawDown: -0.1625276188301935\n",
            "Sharpe ratio: 1.4740424646607633\n",
            "=================================\n"
          ]
        },
        {
          "output_type": "stream",
          "name": "stderr",
          "text": [
            "findfont: Font family 'Arial' not found.\n",
            "findfont: Font family 'Arial' not found.\n",
            "findfont: Font family 'Arial' not found.\n",
            "findfont: Font family 'Arial' not found.\n",
            "findfont: Font family 'Arial' not found.\n",
            "findfont: Font family 'Arial' not found.\n",
            "findfont: Font family 'Arial' not found.\n",
            "findfont: Font family 'Arial' not found.\n",
            "findfont: Font family 'Arial' not found.\n",
            "findfont: Font family 'Arial' not found.\n",
            "findfont: Font family 'Arial' not found.\n",
            "findfont: Font family 'Arial' not found.\n",
            "findfont: Font family 'Arial' not found.\n",
            "findfont: Font family 'Arial' not found.\n",
            " 30%|███       | 3/10 [01:02<02:25, 20.74s/it]"
          ]
        },
        {
          "output_type": "stream",
          "name": "stdout",
          "text": [
            "=================================\n",
            "Initial portfolio value:100000\n",
            "Final portfolio value: 688665.8125\n",
            "Final accumulative portfolio value: 6.886658191680908\n",
            "Maximum DrawDown: -0.16072762832873666\n",
            "Sharpe ratio: 1.4726287023489115\n",
            "=================================\n"
          ]
        },
        {
          "output_type": "stream",
          "name": "stderr",
          "text": [
            "findfont: Font family 'Arial' not found.\n",
            "findfont: Font family 'Arial' not found.\n",
            "findfont: Font family 'Arial' not found.\n",
            "findfont: Font family 'Arial' not found.\n",
            "findfont: Font family 'Arial' not found.\n",
            "findfont: Font family 'Arial' not found.\n",
            "findfont: Font family 'Arial' not found.\n",
            "findfont: Font family 'Arial' not found.\n",
            "findfont: Font family 'Arial' not found.\n",
            "findfont: Font family 'Arial' not found.\n",
            "findfont: Font family 'Arial' not found.\n",
            "findfont: Font family 'Arial' not found.\n",
            "findfont: Font family 'Arial' not found.\n",
            "findfont: Font family 'Arial' not found.\n",
            " 40%|████      | 4/10 [01:22<02:03, 20.63s/it]"
          ]
        },
        {
          "output_type": "stream",
          "name": "stdout",
          "text": [
            "=================================\n",
            "Initial portfolio value:100000\n",
            "Final portfolio value: 702174.3125\n",
            "Final accumulative portfolio value: 7.021743297576904\n",
            "Maximum DrawDown: -0.158203706003602\n",
            "Sharpe ratio: 1.4697441561150915\n",
            "=================================\n"
          ]
        },
        {
          "output_type": "stream",
          "name": "stderr",
          "text": [
            "findfont: Font family 'Arial' not found.\n",
            "findfont: Font family 'Arial' not found.\n",
            "findfont: Font family 'Arial' not found.\n",
            "findfont: Font family 'Arial' not found.\n",
            "findfont: Font family 'Arial' not found.\n",
            "findfont: Font family 'Arial' not found.\n",
            "findfont: Font family 'Arial' not found.\n",
            "findfont: Font family 'Arial' not found.\n",
            "findfont: Font family 'Arial' not found.\n",
            "findfont: Font family 'Arial' not found.\n",
            "findfont: Font family 'Arial' not found.\n",
            "findfont: Font family 'Arial' not found.\n",
            "findfont: Font family 'Arial' not found.\n",
            "findfont: Font family 'Arial' not found.\n",
            " 50%|█████     | 5/10 [01:42<01:42, 20.57s/it]"
          ]
        },
        {
          "output_type": "stream",
          "name": "stdout",
          "text": [
            "=================================\n",
            "Initial portfolio value:100000\n",
            "Final portfolio value: 715968.0\n",
            "Final accumulative portfolio value: 7.159679889678955\n",
            "Maximum DrawDown: -0.1552503089773256\n",
            "Sharpe ratio: 1.465548574100752\n",
            "=================================\n"
          ]
        },
        {
          "output_type": "stream",
          "name": "stderr",
          "text": [
            "findfont: Font family 'Arial' not found.\n",
            "findfont: Font family 'Arial' not found.\n",
            "findfont: Font family 'Arial' not found.\n",
            "findfont: Font family 'Arial' not found.\n",
            "findfont: Font family 'Arial' not found.\n",
            "findfont: Font family 'Arial' not found.\n",
            "findfont: Font family 'Arial' not found.\n",
            "findfont: Font family 'Arial' not found.\n",
            "findfont: Font family 'Arial' not found.\n",
            "findfont: Font family 'Arial' not found.\n",
            "findfont: Font family 'Arial' not found.\n",
            "findfont: Font family 'Arial' not found.\n",
            "findfont: Font family 'Arial' not found.\n",
            "findfont: Font family 'Arial' not found.\n",
            " 60%|██████    | 6/10 [02:03<01:22, 20.66s/it]"
          ]
        },
        {
          "output_type": "stream",
          "name": "stdout",
          "text": [
            "=================================\n",
            "Initial portfolio value:100000\n",
            "Final portfolio value: 729528.9375\n",
            "Final accumulative portfolio value: 7.295289516448975\n",
            "Maximum DrawDown: -0.15221965083673938\n",
            "Sharpe ratio: 1.4601086243669392\n",
            "=================================\n"
          ]
        },
        {
          "output_type": "stream",
          "name": "stderr",
          "text": [
            "findfont: Font family 'Arial' not found.\n",
            "findfont: Font family 'Arial' not found.\n",
            "findfont: Font family 'Arial' not found.\n",
            "findfont: Font family 'Arial' not found.\n",
            "findfont: Font family 'Arial' not found.\n",
            "findfont: Font family 'Arial' not found.\n",
            "findfont: Font family 'Arial' not found.\n",
            "findfont: Font family 'Arial' not found.\n",
            "findfont: Font family 'Arial' not found.\n",
            "findfont: Font family 'Arial' not found.\n",
            "findfont: Font family 'Arial' not found.\n",
            "findfont: Font family 'Arial' not found.\n",
            "findfont: Font family 'Arial' not found.\n",
            "findfont: Font family 'Arial' not found.\n",
            " 70%|███████   | 7/10 [02:24<01:02, 20.71s/it]"
          ]
        },
        {
          "output_type": "stream",
          "name": "stdout",
          "text": [
            "=================================\n",
            "Initial portfolio value:100000\n",
            "Final portfolio value: 742300.3125\n",
            "Final accumulative portfolio value: 7.423003196716309\n",
            "Maximum DrawDown: -0.15486642402820738\n",
            "Sharpe ratio: 1.4533622881753148\n",
            "=================================\n"
          ]
        },
        {
          "output_type": "stream",
          "name": "stderr",
          "text": [
            "findfont: Font family 'Arial' not found.\n",
            "findfont: Font family 'Arial' not found.\n",
            "findfont: Font family 'Arial' not found.\n",
            "findfont: Font family 'Arial' not found.\n",
            "findfont: Font family 'Arial' not found.\n",
            "findfont: Font family 'Arial' not found.\n",
            "findfont: Font family 'Arial' not found.\n",
            "findfont: Font family 'Arial' not found.\n",
            "findfont: Font family 'Arial' not found.\n",
            "findfont: Font family 'Arial' not found.\n",
            "findfont: Font family 'Arial' not found.\n",
            "findfont: Font family 'Arial' not found.\n",
            "findfont: Font family 'Arial' not found.\n",
            "findfont: Font family 'Arial' not found.\n",
            " 80%|████████  | 8/10 [02:44<00:41, 20.53s/it]"
          ]
        },
        {
          "output_type": "stream",
          "name": "stdout",
          "text": [
            "=================================\n",
            "Initial portfolio value:100000\n",
            "Final portfolio value: 754278.375\n",
            "Final accumulative portfolio value: 7.542783737182617\n",
            "Maximum DrawDown: -0.1577941003174297\n",
            "Sharpe ratio: 1.4455645354788846\n",
            "=================================\n"
          ]
        },
        {
          "output_type": "stream",
          "name": "stderr",
          "text": [
            "findfont: Font family 'Arial' not found.\n",
            "findfont: Font family 'Arial' not found.\n",
            "findfont: Font family 'Arial' not found.\n",
            "findfont: Font family 'Arial' not found.\n",
            "findfont: Font family 'Arial' not found.\n",
            "findfont: Font family 'Arial' not found.\n",
            "findfont: Font family 'Arial' not found.\n",
            "findfont: Font family 'Arial' not found.\n",
            "findfont: Font family 'Arial' not found.\n",
            "findfont: Font family 'Arial' not found.\n",
            "findfont: Font family 'Arial' not found.\n",
            "findfont: Font family 'Arial' not found.\n",
            "findfont: Font family 'Arial' not found.\n",
            "findfont: Font family 'Arial' not found.\n",
            " 90%|█████████ | 9/10 [03:05<00:20, 20.63s/it]"
          ]
        },
        {
          "output_type": "stream",
          "name": "stdout",
          "text": [
            "=================================\n",
            "Initial portfolio value:100000\n",
            "Final portfolio value: 765652.0\n",
            "Final accumulative portfolio value: 7.656519889831543\n",
            "Maximum DrawDown: -0.16063245447257823\n",
            "Sharpe ratio: 1.4370312826903393\n",
            "=================================\n"
          ]
        },
        {
          "output_type": "stream",
          "name": "stderr",
          "text": [
            "findfont: Font family 'Arial' not found.\n",
            "findfont: Font family 'Arial' not found.\n",
            "findfont: Font family 'Arial' not found.\n",
            "findfont: Font family 'Arial' not found.\n",
            "findfont: Font family 'Arial' not found.\n",
            "findfont: Font family 'Arial' not found.\n",
            "findfont: Font family 'Arial' not found.\n",
            "findfont: Font family 'Arial' not found.\n",
            "findfont: Font family 'Arial' not found.\n",
            "findfont: Font family 'Arial' not found.\n",
            "findfont: Font family 'Arial' not found.\n",
            "findfont: Font family 'Arial' not found.\n",
            "findfont: Font family 'Arial' not found.\n",
            "findfont: Font family 'Arial' not found.\n",
            "100%|██████████| 10/10 [03:26<00:00, 20.65s/it]\n"
          ]
        },
        {
          "output_type": "stream",
          "name": "stdout",
          "text": [
            "=================================\n",
            "Initial portfolio value:100000\n",
            "Final portfolio value: 198128.328125\n",
            "Final accumulative portfolio value: 1.9812833070755005\n",
            "Maximum DrawDown: -0.2420503149280142\n",
            "Sharpe ratio: 1.164533045091421\n",
            "=================================\n"
          ]
        },
        {
          "output_type": "stream",
          "name": "stderr",
          "text": [
            "findfont: Font family 'Arial' not found.\n",
            "findfont: Font family 'Arial' not found.\n",
            "findfont: Font family 'Arial' not found.\n",
            "findfont: Font family 'Arial' not found.\n",
            "findfont: Font family 'Arial' not found.\n",
            "findfont: Font family 'Arial' not found.\n",
            "findfont: Font family 'Arial' not found.\n",
            "findfont: Font family 'Arial' not found.\n",
            "findfont: Font family 'Arial' not found.\n",
            "findfont: Font family 'Arial' not found.\n",
            "findfont: Font family 'Arial' not found.\n",
            "findfont: Font family 'Arial' not found.\n",
            "findfont: Font family 'Arial' not found.\n",
            "findfont: Font family 'Arial' not found.\n",
            "[I 2025-04-23 05:05:38,959] Trial 8 finished with value: 198128.328125 and parameters: {'lr': 0.0006751572818487969, 'k_size': 3, 'time_window': 40}. Best is trial 0 with value: 255640.4375.\n",
            "<ipython-input-9-77ffd919438e>:5: FutureWarning: suggest_loguniform has been deprecated in v3.0.0. This feature will be removed in v6.0.0. See https://github.com/optuna/optuna/releases/tag/v3.0.0. Use suggest_float(..., log=True) instead.\n",
            "  lr = trial.suggest_loguniform(\"lr\", 1e-5, 1e-2) # use trial to suggest values for lr\n",
            "  0%|          | 0/10 [00:00<?, ?it/s]"
          ]
        },
        {
          "output_type": "stream",
          "name": "stdout",
          "text": [
            "=================================\n",
            "Initial portfolio value:100000\n",
            "Final portfolio value: 622866.9375\n",
            "Final accumulative portfolio value: 6.228669166564941\n",
            "Maximum DrawDown: -0.16647067512089986\n",
            "Sharpe ratio: 1.4435736324190498\n",
            "=================================\n"
          ]
        },
        {
          "output_type": "stream",
          "name": "stderr",
          "text": [
            "findfont: Font family 'Arial' not found.\n",
            "findfont: Font family 'Arial' not found.\n",
            "findfont: Font family 'Arial' not found.\n",
            "findfont: Font family 'Arial' not found.\n",
            "findfont: Font family 'Arial' not found.\n",
            "findfont: Font family 'Arial' not found.\n",
            "findfont: Font family 'Arial' not found.\n",
            "findfont: Font family 'Arial' not found.\n",
            "findfont: Font family 'Arial' not found.\n",
            "findfont: Font family 'Arial' not found.\n",
            "findfont: Font family 'Arial' not found.\n",
            "findfont: Font family 'Arial' not found.\n",
            "findfont: Font family 'Arial' not found.\n",
            "findfont: Font family 'Arial' not found.\n",
            " 10%|█         | 1/10 [00:20<03:04, 20.54s/it]"
          ]
        },
        {
          "output_type": "stream",
          "name": "stdout",
          "text": [
            "=================================\n",
            "Initial portfolio value:100000\n",
            "Final portfolio value: 640577.4375\n",
            "Final accumulative portfolio value: 6.4057745933532715\n",
            "Maximum DrawDown: -0.1679073096908349\n",
            "Sharpe ratio: 1.4429229534963048\n",
            "=================================\n"
          ]
        },
        {
          "output_type": "stream",
          "name": "stderr",
          "text": [
            "findfont: Font family 'Arial' not found.\n",
            "findfont: Font family 'Arial' not found.\n",
            "findfont: Font family 'Arial' not found.\n",
            "findfont: Font family 'Arial' not found.\n",
            "findfont: Font family 'Arial' not found.\n",
            "findfont: Font family 'Arial' not found.\n",
            "findfont: Font family 'Arial' not found.\n",
            "findfont: Font family 'Arial' not found.\n",
            "findfont: Font family 'Arial' not found.\n",
            "findfont: Font family 'Arial' not found.\n",
            "findfont: Font family 'Arial' not found.\n",
            "findfont: Font family 'Arial' not found.\n",
            "findfont: Font family 'Arial' not found.\n",
            "findfont: Font family 'Arial' not found.\n",
            " 20%|██        | 2/10 [00:41<02:45, 20.65s/it]"
          ]
        },
        {
          "output_type": "stream",
          "name": "stdout",
          "text": [
            "=================================\n",
            "Initial portfolio value:100000\n",
            "Final portfolio value: 675109.6875\n",
            "Final accumulative portfolio value: 6.751096725463867\n",
            "Maximum DrawDown: -0.1651480259258491\n",
            "Sharpe ratio: 1.4392747899033598\n",
            "=================================\n"
          ]
        },
        {
          "output_type": "stream",
          "name": "stderr",
          "text": [
            "findfont: Font family 'Arial' not found.\n",
            "findfont: Font family 'Arial' not found.\n",
            "findfont: Font family 'Arial' not found.\n",
            "findfont: Font family 'Arial' not found.\n",
            "findfont: Font family 'Arial' not found.\n",
            "findfont: Font family 'Arial' not found.\n",
            "findfont: Font family 'Arial' not found.\n",
            "findfont: Font family 'Arial' not found.\n",
            "findfont: Font family 'Arial' not found.\n",
            "findfont: Font family 'Arial' not found.\n",
            "findfont: Font family 'Arial' not found.\n",
            "findfont: Font family 'Arial' not found.\n",
            "findfont: Font family 'Arial' not found.\n",
            "findfont: Font family 'Arial' not found.\n",
            " 30%|███       | 3/10 [01:01<02:22, 20.38s/it]"
          ]
        },
        {
          "output_type": "stream",
          "name": "stdout",
          "text": [
            "=================================\n",
            "Initial portfolio value:100000\n",
            "Final portfolio value: 736017.4375\n",
            "Final accumulative portfolio value: 7.360174179077148\n",
            "Maximum DrawDown: -0.1643130030624953\n",
            "Sharpe ratio: 1.4313506449265956\n",
            "=================================\n"
          ]
        },
        {
          "output_type": "stream",
          "name": "stderr",
          "text": [
            "findfont: Font family 'Arial' not found.\n",
            "findfont: Font family 'Arial' not found.\n",
            "findfont: Font family 'Arial' not found.\n",
            "findfont: Font family 'Arial' not found.\n",
            "findfont: Font family 'Arial' not found.\n",
            "findfont: Font family 'Arial' not found.\n",
            "findfont: Font family 'Arial' not found.\n",
            "findfont: Font family 'Arial' not found.\n",
            "findfont: Font family 'Arial' not found.\n",
            "findfont: Font family 'Arial' not found.\n",
            "findfont: Font family 'Arial' not found.\n",
            "findfont: Font family 'Arial' not found.\n",
            "findfont: Font family 'Arial' not found.\n",
            "findfont: Font family 'Arial' not found.\n",
            " 40%|████      | 4/10 [01:22<02:03, 20.55s/it]"
          ]
        },
        {
          "output_type": "stream",
          "name": "stdout",
          "text": [
            "=================================\n",
            "Initial portfolio value:100000\n",
            "Final portfolio value: 814794.1875\n",
            "Final accumulative portfolio value: 8.147941589355469\n",
            "Maximum DrawDown: -0.17046747820432784\n",
            "Sharpe ratio: 1.4053230312569713\n",
            "=================================\n"
          ]
        },
        {
          "output_type": "stream",
          "name": "stderr",
          "text": [
            "findfont: Font family 'Arial' not found.\n",
            "findfont: Font family 'Arial' not found.\n",
            "findfont: Font family 'Arial' not found.\n",
            "findfont: Font family 'Arial' not found.\n",
            "findfont: Font family 'Arial' not found.\n",
            "findfont: Font family 'Arial' not found.\n",
            "findfont: Font family 'Arial' not found.\n",
            "findfont: Font family 'Arial' not found.\n",
            "findfont: Font family 'Arial' not found.\n",
            "findfont: Font family 'Arial' not found.\n",
            "findfont: Font family 'Arial' not found.\n",
            "findfont: Font family 'Arial' not found.\n",
            "findfont: Font family 'Arial' not found.\n",
            "findfont: Font family 'Arial' not found.\n",
            " 50%|█████     | 5/10 [01:42<01:42, 20.60s/it]"
          ]
        },
        {
          "output_type": "stream",
          "name": "stdout",
          "text": [
            "=================================\n",
            "Initial portfolio value:100000\n",
            "Final portfolio value: 918338.0\n",
            "Final accumulative portfolio value: 9.183380126953125\n",
            "Maximum DrawDown: -0.19605009160243303\n",
            "Sharpe ratio: 1.3649716986698635\n",
            "=================================\n"
          ]
        },
        {
          "output_type": "stream",
          "name": "stderr",
          "text": [
            "findfont: Font family 'Arial' not found.\n",
            "findfont: Font family 'Arial' not found.\n",
            "findfont: Font family 'Arial' not found.\n",
            "findfont: Font family 'Arial' not found.\n",
            "findfont: Font family 'Arial' not found.\n",
            "findfont: Font family 'Arial' not found.\n",
            "findfont: Font family 'Arial' not found.\n",
            "findfont: Font family 'Arial' not found.\n",
            "findfont: Font family 'Arial' not found.\n",
            "findfont: Font family 'Arial' not found.\n",
            "findfont: Font family 'Arial' not found.\n",
            "findfont: Font family 'Arial' not found.\n",
            "findfont: Font family 'Arial' not found.\n",
            "findfont: Font family 'Arial' not found.\n",
            " 60%|██████    | 6/10 [02:03<01:22, 20.55s/it]"
          ]
        },
        {
          "output_type": "stream",
          "name": "stdout",
          "text": [
            "=================================\n",
            "Initial portfolio value:100000\n",
            "Final portfolio value: 1007598.125\n",
            "Final accumulative portfolio value: 10.075981140136719\n",
            "Maximum DrawDown: -0.24547035032192666\n",
            "Sharpe ratio: 1.3064151347401898\n",
            "=================================\n"
          ]
        },
        {
          "output_type": "stream",
          "name": "stderr",
          "text": [
            "findfont: Font family 'Arial' not found.\n",
            "findfont: Font family 'Arial' not found.\n",
            "findfont: Font family 'Arial' not found.\n",
            "findfont: Font family 'Arial' not found.\n",
            "findfont: Font family 'Arial' not found.\n",
            "findfont: Font family 'Arial' not found.\n",
            "findfont: Font family 'Arial' not found.\n",
            "findfont: Font family 'Arial' not found.\n",
            "findfont: Font family 'Arial' not found.\n",
            "findfont: Font family 'Arial' not found.\n",
            "findfont: Font family 'Arial' not found.\n",
            "findfont: Font family 'Arial' not found.\n",
            "findfont: Font family 'Arial' not found.\n",
            "findfont: Font family 'Arial' not found.\n",
            " 70%|███████   | 7/10 [02:23<01:01, 20.46s/it]"
          ]
        },
        {
          "output_type": "stream",
          "name": "stdout",
          "text": [
            "=================================\n",
            "Initial portfolio value:100000\n",
            "Final portfolio value: 1083183.25\n",
            "Final accumulative portfolio value: 10.831832885742188\n",
            "Maximum DrawDown: -0.2896021800969245\n",
            "Sharpe ratio: 1.2595691993777425\n",
            "=================================\n"
          ]
        },
        {
          "output_type": "stream",
          "name": "stderr",
          "text": [
            "findfont: Font family 'Arial' not found.\n",
            "findfont: Font family 'Arial' not found.\n",
            "findfont: Font family 'Arial' not found.\n",
            "findfont: Font family 'Arial' not found.\n",
            "findfont: Font family 'Arial' not found.\n",
            "findfont: Font family 'Arial' not found.\n",
            "findfont: Font family 'Arial' not found.\n",
            "findfont: Font family 'Arial' not found.\n",
            "findfont: Font family 'Arial' not found.\n",
            "findfont: Font family 'Arial' not found.\n",
            "findfont: Font family 'Arial' not found.\n",
            "findfont: Font family 'Arial' not found.\n",
            "findfont: Font family 'Arial' not found.\n",
            "findfont: Font family 'Arial' not found.\n",
            " 80%|████████  | 8/10 [02:44<00:41, 20.50s/it]"
          ]
        },
        {
          "output_type": "stream",
          "name": "stdout",
          "text": [
            "=================================\n",
            "Initial portfolio value:100000\n",
            "Final portfolio value: 1127232.25\n",
            "Final accumulative portfolio value: 11.272322654724121\n",
            "Maximum DrawDown: -0.3304111468601867\n",
            "Sharpe ratio: 1.2082787124658614\n",
            "=================================\n"
          ]
        },
        {
          "output_type": "stream",
          "name": "stderr",
          "text": [
            "findfont: Font family 'Arial' not found.\n",
            "findfont: Font family 'Arial' not found.\n",
            "findfont: Font family 'Arial' not found.\n",
            "findfont: Font family 'Arial' not found.\n",
            "findfont: Font family 'Arial' not found.\n",
            "findfont: Font family 'Arial' not found.\n",
            "findfont: Font family 'Arial' not found.\n",
            "findfont: Font family 'Arial' not found.\n",
            "findfont: Font family 'Arial' not found.\n",
            "findfont: Font family 'Arial' not found.\n",
            "findfont: Font family 'Arial' not found.\n",
            "findfont: Font family 'Arial' not found.\n",
            "findfont: Font family 'Arial' not found.\n",
            "findfont: Font family 'Arial' not found.\n",
            " 90%|█████████ | 9/10 [03:04<00:20, 20.56s/it]"
          ]
        },
        {
          "output_type": "stream",
          "name": "stdout",
          "text": [
            "=================================\n",
            "Initial portfolio value:100000\n",
            "Final portfolio value: 1168228.75\n",
            "Final accumulative portfolio value: 11.682287216186523\n",
            "Maximum DrawDown: -0.35577807328808564\n",
            "Sharpe ratio: 1.1802973915471255\n",
            "=================================\n"
          ]
        },
        {
          "output_type": "stream",
          "name": "stderr",
          "text": [
            "findfont: Font family 'Arial' not found.\n",
            "findfont: Font family 'Arial' not found.\n",
            "findfont: Font family 'Arial' not found.\n",
            "findfont: Font family 'Arial' not found.\n",
            "findfont: Font family 'Arial' not found.\n",
            "findfont: Font family 'Arial' not found.\n",
            "findfont: Font family 'Arial' not found.\n",
            "findfont: Font family 'Arial' not found.\n",
            "findfont: Font family 'Arial' not found.\n",
            "findfont: Font family 'Arial' not found.\n",
            "findfont: Font family 'Arial' not found.\n",
            "findfont: Font family 'Arial' not found.\n",
            "findfont: Font family 'Arial' not found.\n",
            "findfont: Font family 'Arial' not found.\n",
            "100%|██████████| 10/10 [03:24<00:00, 20.49s/it]\n"
          ]
        },
        {
          "output_type": "stream",
          "name": "stdout",
          "text": [
            "=================================\n",
            "Initial portfolio value:100000\n",
            "Final portfolio value: 176618.078125\n",
            "Final accumulative portfolio value: 1.7661807537078857\n",
            "Maximum DrawDown: -0.4693362510541387\n",
            "Sharpe ratio: 0.7343699821362811\n",
            "=================================\n"
          ]
        },
        {
          "output_type": "stream",
          "name": "stderr",
          "text": [
            "findfont: Font family 'Arial' not found.\n",
            "findfont: Font family 'Arial' not found.\n",
            "findfont: Font family 'Arial' not found.\n",
            "findfont: Font family 'Arial' not found.\n",
            "findfont: Font family 'Arial' not found.\n",
            "findfont: Font family 'Arial' not found.\n",
            "findfont: Font family 'Arial' not found.\n",
            "findfont: Font family 'Arial' not found.\n",
            "findfont: Font family 'Arial' not found.\n",
            "findfont: Font family 'Arial' not found.\n",
            "findfont: Font family 'Arial' not found.\n",
            "findfont: Font family 'Arial' not found.\n",
            "findfont: Font family 'Arial' not found.\n",
            "findfont: Font family 'Arial' not found.\n",
            "[I 2025-04-23 05:09:11,511] Trial 9 finished with value: 176618.078125 and parameters: {'lr': 0.0017988547765805244, 'k_size': 7, 'time_window': 30}. Best is trial 0 with value: 255640.4375.\n",
            "<ipython-input-9-77ffd919438e>:5: FutureWarning: suggest_loguniform has been deprecated in v3.0.0. This feature will be removed in v6.0.0. See https://github.com/optuna/optuna/releases/tag/v3.0.0. Use suggest_float(..., log=True) instead.\n",
            "  lr = trial.suggest_loguniform(\"lr\", 1e-5, 1e-2) # use trial to suggest values for lr\n",
            "  0%|          | 0/10 [00:00<?, ?it/s]"
          ]
        },
        {
          "output_type": "stream",
          "name": "stdout",
          "text": [
            "=================================\n",
            "Initial portfolio value:100000\n",
            "Final portfolio value: 657301.75\n",
            "Final accumulative portfolio value: 6.573017597198486\n",
            "Maximum DrawDown: -0.16620652890977172\n",
            "Sharpe ratio: 1.4949113395495544\n",
            "=================================\n"
          ]
        },
        {
          "output_type": "stream",
          "name": "stderr",
          "text": [
            "findfont: Font family 'Arial' not found.\n",
            "findfont: Font family 'Arial' not found.\n",
            "findfont: Font family 'Arial' not found.\n",
            "findfont: Font family 'Arial' not found.\n",
            "findfont: Font family 'Arial' not found.\n",
            "findfont: Font family 'Arial' not found.\n",
            "findfont: Font family 'Arial' not found.\n",
            "findfont: Font family 'Arial' not found.\n",
            "findfont: Font family 'Arial' not found.\n",
            "findfont: Font family 'Arial' not found.\n",
            "findfont: Font family 'Arial' not found.\n",
            "findfont: Font family 'Arial' not found.\n",
            "findfont: Font family 'Arial' not found.\n",
            "findfont: Font family 'Arial' not found.\n",
            " 10%|█         | 1/10 [00:20<03:07, 20.79s/it]"
          ]
        },
        {
          "output_type": "stream",
          "name": "stdout",
          "text": [
            "=================================\n",
            "Initial portfolio value:100000\n",
            "Final portfolio value: 657607.3125\n",
            "Final accumulative portfolio value: 6.576073169708252\n",
            "Maximum DrawDown: -0.16619854931964673\n",
            "Sharpe ratio: 1.4949353947492612\n",
            "=================================\n"
          ]
        },
        {
          "output_type": "stream",
          "name": "stderr",
          "text": [
            "findfont: Font family 'Arial' not found.\n",
            "findfont: Font family 'Arial' not found.\n",
            "findfont: Font family 'Arial' not found.\n",
            "findfont: Font family 'Arial' not found.\n",
            "findfont: Font family 'Arial' not found.\n",
            "findfont: Font family 'Arial' not found.\n",
            "findfont: Font family 'Arial' not found.\n",
            "findfont: Font family 'Arial' not found.\n",
            "findfont: Font family 'Arial' not found.\n",
            "findfont: Font family 'Arial' not found.\n",
            "findfont: Font family 'Arial' not found.\n",
            "findfont: Font family 'Arial' not found.\n",
            "findfont: Font family 'Arial' not found.\n",
            "findfont: Font family 'Arial' not found.\n",
            " 20%|██        | 2/10 [00:41<02:45, 20.73s/it]"
          ]
        },
        {
          "output_type": "stream",
          "name": "stdout",
          "text": [
            "=================================\n",
            "Initial portfolio value:100000\n",
            "Final portfolio value: 657923.625\n",
            "Final accumulative portfolio value: 6.579236030578613\n",
            "Maximum DrawDown: -0.16619337048421867\n",
            "Sharpe ratio: 1.4949754983481722\n",
            "=================================\n"
          ]
        },
        {
          "output_type": "stream",
          "name": "stderr",
          "text": [
            "findfont: Font family 'Arial' not found.\n",
            "findfont: Font family 'Arial' not found.\n",
            "findfont: Font family 'Arial' not found.\n",
            "findfont: Font family 'Arial' not found.\n",
            "findfont: Font family 'Arial' not found.\n",
            "findfont: Font family 'Arial' not found.\n",
            "findfont: Font family 'Arial' not found.\n",
            "findfont: Font family 'Arial' not found.\n",
            "findfont: Font family 'Arial' not found.\n",
            "findfont: Font family 'Arial' not found.\n",
            "findfont: Font family 'Arial' not found.\n",
            "findfont: Font family 'Arial' not found.\n",
            "findfont: Font family 'Arial' not found.\n",
            "findfont: Font family 'Arial' not found.\n",
            " 30%|███       | 3/10 [01:02<02:24, 20.71s/it]"
          ]
        },
        {
          "output_type": "stream",
          "name": "stdout",
          "text": [
            "=================================\n",
            "Initial portfolio value:100000\n",
            "Final portfolio value: 658235.125\n",
            "Final accumulative portfolio value: 6.582351207733154\n",
            "Maximum DrawDown: -0.16619053003005735\n",
            "Sharpe ratio: 1.495013914831831\n",
            "=================================\n"
          ]
        },
        {
          "output_type": "stream",
          "name": "stderr",
          "text": [
            "findfont: Font family 'Arial' not found.\n",
            "findfont: Font family 'Arial' not found.\n",
            "findfont: Font family 'Arial' not found.\n",
            "findfont: Font family 'Arial' not found.\n",
            "findfont: Font family 'Arial' not found.\n",
            "findfont: Font family 'Arial' not found.\n",
            "findfont: Font family 'Arial' not found.\n",
            "findfont: Font family 'Arial' not found.\n",
            "findfont: Font family 'Arial' not found.\n",
            "findfont: Font family 'Arial' not found.\n",
            "findfont: Font family 'Arial' not found.\n",
            "findfont: Font family 'Arial' not found.\n",
            "findfont: Font family 'Arial' not found.\n",
            "findfont: Font family 'Arial' not found.\n",
            " 40%|████      | 4/10 [01:23<02:04, 20.80s/it]"
          ]
        },
        {
          "output_type": "stream",
          "name": "stdout",
          "text": [
            "=================================\n",
            "Initial portfolio value:100000\n",
            "Final portfolio value: 658514.0\n",
            "Final accumulative portfolio value: 6.585140228271484\n",
            "Maximum DrawDown: -0.166184352216883\n",
            "Sharpe ratio: 1.4950324877107788\n",
            "=================================\n"
          ]
        },
        {
          "output_type": "stream",
          "name": "stderr",
          "text": [
            "findfont: Font family 'Arial' not found.\n",
            "findfont: Font family 'Arial' not found.\n",
            "findfont: Font family 'Arial' not found.\n",
            "findfont: Font family 'Arial' not found.\n",
            "findfont: Font family 'Arial' not found.\n",
            "findfont: Font family 'Arial' not found.\n",
            "findfont: Font family 'Arial' not found.\n",
            "findfont: Font family 'Arial' not found.\n",
            "findfont: Font family 'Arial' not found.\n",
            "findfont: Font family 'Arial' not found.\n",
            "findfont: Font family 'Arial' not found.\n",
            "findfont: Font family 'Arial' not found.\n",
            "findfont: Font family 'Arial' not found.\n",
            "findfont: Font family 'Arial' not found.\n",
            " 50%|█████     | 5/10 [01:44<01:44, 20.95s/it]"
          ]
        },
        {
          "output_type": "stream",
          "name": "stdout",
          "text": [
            "=================================\n",
            "Initial portfolio value:100000\n",
            "Final portfolio value: 658792.5\n",
            "Final accumulative portfolio value: 6.587924957275391\n",
            "Maximum DrawDown: -0.16617162874078628\n",
            "Sharpe ratio: 1.4950587897747796\n",
            "=================================\n"
          ]
        },
        {
          "output_type": "stream",
          "name": "stderr",
          "text": [
            "findfont: Font family 'Arial' not found.\n",
            "findfont: Font family 'Arial' not found.\n",
            "findfont: Font family 'Arial' not found.\n",
            "findfont: Font family 'Arial' not found.\n",
            "findfont: Font family 'Arial' not found.\n",
            "findfont: Font family 'Arial' not found.\n",
            "findfont: Font family 'Arial' not found.\n",
            "findfont: Font family 'Arial' not found.\n",
            "findfont: Font family 'Arial' not found.\n",
            "findfont: Font family 'Arial' not found.\n",
            "findfont: Font family 'Arial' not found.\n",
            "findfont: Font family 'Arial' not found.\n",
            "findfont: Font family 'Arial' not found.\n",
            "findfont: Font family 'Arial' not found.\n",
            " 60%|██████    | 6/10 [02:05<01:23, 20.98s/it]"
          ]
        },
        {
          "output_type": "stream",
          "name": "stdout",
          "text": [
            "=================================\n",
            "Initial portfolio value:100000\n",
            "Final portfolio value: 659086.625\n",
            "Final accumulative portfolio value: 6.5908660888671875\n",
            "Maximum DrawDown: -0.16616216869364087\n",
            "Sharpe ratio: 1.4950938726348648\n",
            "=================================\n"
          ]
        },
        {
          "output_type": "stream",
          "name": "stderr",
          "text": [
            "findfont: Font family 'Arial' not found.\n",
            "findfont: Font family 'Arial' not found.\n",
            "findfont: Font family 'Arial' not found.\n",
            "findfont: Font family 'Arial' not found.\n",
            "findfont: Font family 'Arial' not found.\n",
            "findfont: Font family 'Arial' not found.\n",
            "findfont: Font family 'Arial' not found.\n",
            "findfont: Font family 'Arial' not found.\n",
            "findfont: Font family 'Arial' not found.\n",
            "findfont: Font family 'Arial' not found.\n",
            "findfont: Font family 'Arial' not found.\n",
            "findfont: Font family 'Arial' not found.\n",
            "findfont: Font family 'Arial' not found.\n",
            "findfont: Font family 'Arial' not found.\n",
            " 70%|███████   | 7/10 [02:27<01:03, 21.23s/it]"
          ]
        },
        {
          "output_type": "stream",
          "name": "stdout",
          "text": [
            "=================================\n",
            "Initial portfolio value:100000\n",
            "Final portfolio value: 659352.75\n",
            "Final accumulative portfolio value: 6.593527317047119\n",
            "Maximum DrawDown: -0.16615065851805788\n",
            "Sharpe ratio: 1.4951014704858439\n",
            "=================================\n"
          ]
        },
        {
          "output_type": "stream",
          "name": "stderr",
          "text": [
            "findfont: Font family 'Arial' not found.\n",
            "findfont: Font family 'Arial' not found.\n",
            "findfont: Font family 'Arial' not found.\n",
            "findfont: Font family 'Arial' not found.\n",
            "findfont: Font family 'Arial' not found.\n",
            "findfont: Font family 'Arial' not found.\n",
            "findfont: Font family 'Arial' not found.\n",
            "findfont: Font family 'Arial' not found.\n",
            "findfont: Font family 'Arial' not found.\n",
            "findfont: Font family 'Arial' not found.\n",
            "findfont: Font family 'Arial' not found.\n",
            "findfont: Font family 'Arial' not found.\n",
            "findfont: Font family 'Arial' not found.\n",
            "findfont: Font family 'Arial' not found.\n",
            " 80%|████████  | 8/10 [02:48<00:42, 21.39s/it]"
          ]
        },
        {
          "output_type": "stream",
          "name": "stdout",
          "text": [
            "=================================\n",
            "Initial portfolio value:100000\n",
            "Final portfolio value: 659614.5\n",
            "Final accumulative portfolio value: 6.596145153045654\n",
            "Maximum DrawDown: -0.166132044339521\n",
            "Sharpe ratio: 1.4951137243470884\n",
            "=================================\n"
          ]
        },
        {
          "output_type": "stream",
          "name": "stderr",
          "text": [
            "findfont: Font family 'Arial' not found.\n",
            "findfont: Font family 'Arial' not found.\n",
            "findfont: Font family 'Arial' not found.\n",
            "findfont: Font family 'Arial' not found.\n",
            "findfont: Font family 'Arial' not found.\n",
            "findfont: Font family 'Arial' not found.\n",
            "findfont: Font family 'Arial' not found.\n",
            "findfont: Font family 'Arial' not found.\n",
            "findfont: Font family 'Arial' not found.\n",
            "findfont: Font family 'Arial' not found.\n",
            "findfont: Font family 'Arial' not found.\n",
            "findfont: Font family 'Arial' not found.\n",
            "findfont: Font family 'Arial' not found.\n",
            "findfont: Font family 'Arial' not found.\n",
            " 90%|█████████ | 9/10 [03:10<00:21, 21.33s/it]"
          ]
        },
        {
          "output_type": "stream",
          "name": "stdout",
          "text": [
            "=================================\n",
            "Initial portfolio value:100000\n",
            "Final portfolio value: 659867.8125\n",
            "Final accumulative portfolio value: 6.598678112030029\n",
            "Maximum DrawDown: -0.16611469591408667\n",
            "Sharpe ratio: 1.495121046395723\n",
            "=================================\n"
          ]
        },
        {
          "output_type": "stream",
          "name": "stderr",
          "text": [
            "findfont: Font family 'Arial' not found.\n",
            "findfont: Font family 'Arial' not found.\n",
            "findfont: Font family 'Arial' not found.\n",
            "findfont: Font family 'Arial' not found.\n",
            "findfont: Font family 'Arial' not found.\n",
            "findfont: Font family 'Arial' not found.\n",
            "findfont: Font family 'Arial' not found.\n",
            "findfont: Font family 'Arial' not found.\n",
            "findfont: Font family 'Arial' not found.\n",
            "findfont: Font family 'Arial' not found.\n",
            "findfont: Font family 'Arial' not found.\n",
            "findfont: Font family 'Arial' not found.\n",
            "findfont: Font family 'Arial' not found.\n",
            "findfont: Font family 'Arial' not found.\n",
            "100%|██████████| 10/10 [03:30<00:00, 21.08s/it]\n"
          ]
        },
        {
          "output_type": "stream",
          "name": "stdout",
          "text": [
            "=================================\n",
            "Initial portfolio value:100000\n",
            "Final portfolio value: 160482.484375\n",
            "Final accumulative portfolio value: 1.6048249006271362\n",
            "Maximum DrawDown: -0.2801901066758308\n",
            "Sharpe ratio: 0.8394587947530654\n",
            "=================================\n"
          ]
        },
        {
          "output_type": "stream",
          "name": "stderr",
          "text": [
            "findfont: Font family 'Arial' not found.\n",
            "findfont: Font family 'Arial' not found.\n",
            "findfont: Font family 'Arial' not found.\n",
            "findfont: Font family 'Arial' not found.\n",
            "findfont: Font family 'Arial' not found.\n",
            "findfont: Font family 'Arial' not found.\n",
            "findfont: Font family 'Arial' not found.\n",
            "findfont: Font family 'Arial' not found.\n",
            "findfont: Font family 'Arial' not found.\n",
            "findfont: Font family 'Arial' not found.\n",
            "findfont: Font family 'Arial' not found.\n",
            "findfont: Font family 'Arial' not found.\n",
            "findfont: Font family 'Arial' not found.\n",
            "findfont: Font family 'Arial' not found.\n",
            "[I 2025-04-23 05:12:49,910] Trial 10 finished with value: 160482.484375 and parameters: {'lr': 1.6959883629631255e-05, 'k_size': 5, 'time_window': 50}. Best is trial 0 with value: 255640.4375.\n",
            "<ipython-input-9-77ffd919438e>:5: FutureWarning: suggest_loguniform has been deprecated in v3.0.0. This feature will be removed in v6.0.0. See https://github.com/optuna/optuna/releases/tag/v3.0.0. Use suggest_float(..., log=True) instead.\n",
            "  lr = trial.suggest_loguniform(\"lr\", 1e-5, 1e-2) # use trial to suggest values for lr\n",
            "  0%|          | 0/10 [00:00<?, ?it/s]"
          ]
        },
        {
          "output_type": "stream",
          "name": "stdout",
          "text": [
            "=================================\n",
            "Initial portfolio value:100000\n",
            "Final portfolio value: 688748.0\n",
            "Final accumulative portfolio value: 6.887479782104492\n",
            "Maximum DrawDown: -0.16994170349086923\n",
            "Sharpe ratio: 1.484958567952304\n",
            "=================================\n"
          ]
        },
        {
          "output_type": "stream",
          "name": "stderr",
          "text": [
            "findfont: Font family 'Arial' not found.\n",
            "findfont: Font family 'Arial' not found.\n",
            "findfont: Font family 'Arial' not found.\n",
            "findfont: Font family 'Arial' not found.\n",
            "findfont: Font family 'Arial' not found.\n",
            "findfont: Font family 'Arial' not found.\n",
            "findfont: Font family 'Arial' not found.\n",
            "findfont: Font family 'Arial' not found.\n",
            "findfont: Font family 'Arial' not found.\n",
            "findfont: Font family 'Arial' not found.\n",
            "findfont: Font family 'Arial' not found.\n",
            "findfont: Font family 'Arial' not found.\n",
            "findfont: Font family 'Arial' not found.\n",
            "findfont: Font family 'Arial' not found.\n",
            " 10%|█         | 1/10 [00:21<03:12, 21.34s/it]"
          ]
        },
        {
          "output_type": "stream",
          "name": "stdout",
          "text": [
            "=================================\n",
            "Initial portfolio value:100000\n",
            "Final portfolio value: 760038.875\n",
            "Final accumulative portfolio value: 7.600388526916504\n",
            "Maximum DrawDown: -0.18229810218391196\n",
            "Sharpe ratio: 1.3695997985517625\n",
            "=================================\n"
          ]
        },
        {
          "output_type": "stream",
          "name": "stderr",
          "text": [
            "findfont: Font family 'Arial' not found.\n",
            "findfont: Font family 'Arial' not found.\n",
            "findfont: Font family 'Arial' not found.\n",
            "findfont: Font family 'Arial' not found.\n",
            "findfont: Font family 'Arial' not found.\n",
            "findfont: Font family 'Arial' not found.\n",
            "findfont: Font family 'Arial' not found.\n",
            "findfont: Font family 'Arial' not found.\n",
            "findfont: Font family 'Arial' not found.\n",
            "findfont: Font family 'Arial' not found.\n",
            "findfont: Font family 'Arial' not found.\n",
            "findfont: Font family 'Arial' not found.\n",
            "findfont: Font family 'Arial' not found.\n",
            "findfont: Font family 'Arial' not found.\n",
            " 20%|██        | 2/10 [00:41<02:47, 20.94s/it]"
          ]
        },
        {
          "output_type": "stream",
          "name": "stdout",
          "text": [
            "=================================\n",
            "Initial portfolio value:100000\n",
            "Final portfolio value: 825174.9375\n",
            "Final accumulative portfolio value: 8.251749038696289\n",
            "Maximum DrawDown: -0.3226544702325542\n",
            "Sharpe ratio: 1.1411204366902132\n",
            "=================================\n"
          ]
        },
        {
          "output_type": "stream",
          "name": "stderr",
          "text": [
            "findfont: Font family 'Arial' not found.\n",
            "findfont: Font family 'Arial' not found.\n",
            "findfont: Font family 'Arial' not found.\n",
            "findfont: Font family 'Arial' not found.\n",
            "findfont: Font family 'Arial' not found.\n",
            "findfont: Font family 'Arial' not found.\n",
            "findfont: Font family 'Arial' not found.\n",
            "findfont: Font family 'Arial' not found.\n",
            "findfont: Font family 'Arial' not found.\n",
            "findfont: Font family 'Arial' not found.\n",
            "findfont: Font family 'Arial' not found.\n",
            "findfont: Font family 'Arial' not found.\n",
            "findfont: Font family 'Arial' not found.\n",
            "findfont: Font family 'Arial' not found.\n",
            " 30%|███       | 3/10 [01:03<02:27, 21.03s/it]"
          ]
        },
        {
          "output_type": "stream",
          "name": "stdout",
          "text": [
            "=================================\n",
            "Initial portfolio value:100000\n",
            "Final portfolio value: 986854.0625\n",
            "Final accumulative portfolio value: 9.86854076385498\n",
            "Maximum DrawDown: -0.35472000216942534\n",
            "Sharpe ratio: 1.106618522039511\n",
            "=================================\n"
          ]
        },
        {
          "output_type": "stream",
          "name": "stderr",
          "text": [
            "findfont: Font family 'Arial' not found.\n",
            "findfont: Font family 'Arial' not found.\n",
            "findfont: Font family 'Arial' not found.\n",
            "findfont: Font family 'Arial' not found.\n",
            "findfont: Font family 'Arial' not found.\n",
            "findfont: Font family 'Arial' not found.\n",
            "findfont: Font family 'Arial' not found.\n",
            "findfont: Font family 'Arial' not found.\n",
            "findfont: Font family 'Arial' not found.\n",
            "findfont: Font family 'Arial' not found.\n",
            "findfont: Font family 'Arial' not found.\n",
            "findfont: Font family 'Arial' not found.\n",
            "findfont: Font family 'Arial' not found.\n",
            "findfont: Font family 'Arial' not found.\n",
            " 40%|████      | 4/10 [01:24<02:07, 21.27s/it]"
          ]
        },
        {
          "output_type": "stream",
          "name": "stdout",
          "text": [
            "=================================\n",
            "Initial portfolio value:100000\n",
            "Final portfolio value: 1373709.125\n",
            "Final accumulative portfolio value: 13.737091064453125\n",
            "Maximum DrawDown: -0.35604605968910996\n",
            "Sharpe ratio: 1.1272760665377313\n",
            "=================================\n"
          ]
        },
        {
          "output_type": "stream",
          "name": "stderr",
          "text": [
            "findfont: Font family 'Arial' not found.\n",
            "findfont: Font family 'Arial' not found.\n",
            "findfont: Font family 'Arial' not found.\n",
            "findfont: Font family 'Arial' not found.\n",
            "findfont: Font family 'Arial' not found.\n",
            "findfont: Font family 'Arial' not found.\n",
            "findfont: Font family 'Arial' not found.\n",
            "findfont: Font family 'Arial' not found.\n",
            "findfont: Font family 'Arial' not found.\n",
            "findfont: Font family 'Arial' not found.\n",
            "findfont: Font family 'Arial' not found.\n",
            "findfont: Font family 'Arial' not found.\n",
            "findfont: Font family 'Arial' not found.\n",
            "findfont: Font family 'Arial' not found.\n",
            " 50%|█████     | 5/10 [01:45<01:45, 21.10s/it]"
          ]
        },
        {
          "output_type": "stream",
          "name": "stdout",
          "text": [
            "=================================\n",
            "Initial portfolio value:100000\n",
            "Final portfolio value: 1773926.25\n",
            "Final accumulative portfolio value: 17.739261627197266\n",
            "Maximum DrawDown: -0.38169057768965486\n",
            "Sharpe ratio: 1.1120935228339859\n",
            "=================================\n"
          ]
        },
        {
          "output_type": "stream",
          "name": "stderr",
          "text": [
            "findfont: Font family 'Arial' not found.\n",
            "findfont: Font family 'Arial' not found.\n",
            "findfont: Font family 'Arial' not found.\n",
            "findfont: Font family 'Arial' not found.\n",
            "findfont: Font family 'Arial' not found.\n",
            "findfont: Font family 'Arial' not found.\n",
            "findfont: Font family 'Arial' not found.\n",
            "findfont: Font family 'Arial' not found.\n",
            "findfont: Font family 'Arial' not found.\n",
            "findfont: Font family 'Arial' not found.\n",
            "findfont: Font family 'Arial' not found.\n",
            "findfont: Font family 'Arial' not found.\n",
            "findfont: Font family 'Arial' not found.\n",
            "findfont: Font family 'Arial' not found.\n",
            " 60%|██████    | 6/10 [02:06<01:23, 21.00s/it]"
          ]
        },
        {
          "output_type": "stream",
          "name": "stdout",
          "text": [
            "=================================\n",
            "Initial portfolio value:100000\n",
            "Final portfolio value: 2063376.625\n",
            "Final accumulative portfolio value: 20.633766174316406\n",
            "Maximum DrawDown: -0.37717195527657943\n",
            "Sharpe ratio: 1.12011497477256\n",
            "=================================\n"
          ]
        },
        {
          "output_type": "stream",
          "name": "stderr",
          "text": [
            "findfont: Font family 'Arial' not found.\n",
            "findfont: Font family 'Arial' not found.\n",
            "findfont: Font family 'Arial' not found.\n",
            "findfont: Font family 'Arial' not found.\n",
            "findfont: Font family 'Arial' not found.\n",
            "findfont: Font family 'Arial' not found.\n",
            "findfont: Font family 'Arial' not found.\n",
            "findfont: Font family 'Arial' not found.\n",
            "findfont: Font family 'Arial' not found.\n",
            "findfont: Font family 'Arial' not found.\n",
            "findfont: Font family 'Arial' not found.\n",
            "findfont: Font family 'Arial' not found.\n",
            "findfont: Font family 'Arial' not found.\n",
            "findfont: Font family 'Arial' not found.\n",
            " 70%|███████   | 7/10 [02:27<01:03, 21.08s/it]"
          ]
        },
        {
          "output_type": "stream",
          "name": "stdout",
          "text": [
            "=================================\n",
            "Initial portfolio value:100000\n",
            "Final portfolio value: 2241712.25\n",
            "Final accumulative portfolio value: 22.41712188720703\n",
            "Maximum DrawDown: -0.39021113132081886\n",
            "Sharpe ratio: 1.102124356585745\n",
            "=================================\n"
          ]
        },
        {
          "output_type": "stream",
          "name": "stderr",
          "text": [
            "findfont: Font family 'Arial' not found.\n",
            "findfont: Font family 'Arial' not found.\n",
            "findfont: Font family 'Arial' not found.\n",
            "findfont: Font family 'Arial' not found.\n",
            "findfont: Font family 'Arial' not found.\n",
            "findfont: Font family 'Arial' not found.\n",
            "findfont: Font family 'Arial' not found.\n",
            "findfont: Font family 'Arial' not found.\n",
            "findfont: Font family 'Arial' not found.\n",
            "findfont: Font family 'Arial' not found.\n",
            "findfont: Font family 'Arial' not found.\n",
            "findfont: Font family 'Arial' not found.\n",
            "findfont: Font family 'Arial' not found.\n",
            "findfont: Font family 'Arial' not found.\n",
            " 80%|████████  | 8/10 [02:48<00:42, 21.12s/it]"
          ]
        },
        {
          "output_type": "stream",
          "name": "stdout",
          "text": [
            "=================================\n",
            "Initial portfolio value:100000\n",
            "Final portfolio value: 2459691.25\n",
            "Final accumulative portfolio value: 24.596912384033203\n",
            "Maximum DrawDown: -0.3819163295851471\n",
            "Sharpe ratio: 1.1376178038651692\n",
            "=================================\n"
          ]
        },
        {
          "output_type": "stream",
          "name": "stderr",
          "text": [
            "findfont: Font family 'Arial' not found.\n",
            "findfont: Font family 'Arial' not found.\n",
            "findfont: Font family 'Arial' not found.\n",
            "findfont: Font family 'Arial' not found.\n",
            "findfont: Font family 'Arial' not found.\n",
            "findfont: Font family 'Arial' not found.\n",
            "findfont: Font family 'Arial' not found.\n",
            "findfont: Font family 'Arial' not found.\n",
            "findfont: Font family 'Arial' not found.\n",
            "findfont: Font family 'Arial' not found.\n",
            "findfont: Font family 'Arial' not found.\n",
            "findfont: Font family 'Arial' not found.\n",
            "findfont: Font family 'Arial' not found.\n",
            "findfont: Font family 'Arial' not found.\n",
            " 90%|█████████ | 9/10 [03:09<00:21, 21.03s/it]"
          ]
        },
        {
          "output_type": "stream",
          "name": "stdout",
          "text": [
            "=================================\n",
            "Initial portfolio value:100000\n",
            "Final portfolio value: 2643727.25\n",
            "Final accumulative portfolio value: 26.437273025512695\n",
            "Maximum DrawDown: -0.3684940138153202\n",
            "Sharpe ratio: 1.155929716585648\n",
            "=================================\n"
          ]
        },
        {
          "output_type": "stream",
          "name": "stderr",
          "text": [
            "findfont: Font family 'Arial' not found.\n",
            "findfont: Font family 'Arial' not found.\n",
            "findfont: Font family 'Arial' not found.\n",
            "findfont: Font family 'Arial' not found.\n",
            "findfont: Font family 'Arial' not found.\n",
            "findfont: Font family 'Arial' not found.\n",
            "findfont: Font family 'Arial' not found.\n",
            "findfont: Font family 'Arial' not found.\n",
            "findfont: Font family 'Arial' not found.\n",
            "findfont: Font family 'Arial' not found.\n",
            "findfont: Font family 'Arial' not found.\n",
            "findfont: Font family 'Arial' not found.\n",
            "findfont: Font family 'Arial' not found.\n",
            "findfont: Font family 'Arial' not found.\n",
            "100%|██████████| 10/10 [03:30<00:00, 21.08s/it]\n"
          ]
        },
        {
          "output_type": "stream",
          "name": "stdout",
          "text": [
            "=================================\n",
            "Initial portfolio value:100000\n",
            "Final portfolio value: 250856.609375\n",
            "Final accumulative portfolio value: 2.50856614112854\n",
            "Maximum DrawDown: -0.3048740021099877\n",
            "Sharpe ratio: 1.2983277788654857\n",
            "=================================\n"
          ]
        },
        {
          "output_type": "stream",
          "name": "stderr",
          "text": [
            "findfont: Font family 'Arial' not found.\n",
            "findfont: Font family 'Arial' not found.\n",
            "findfont: Font family 'Arial' not found.\n",
            "findfont: Font family 'Arial' not found.\n",
            "findfont: Font family 'Arial' not found.\n",
            "findfont: Font family 'Arial' not found.\n",
            "findfont: Font family 'Arial' not found.\n",
            "findfont: Font family 'Arial' not found.\n",
            "findfont: Font family 'Arial' not found.\n",
            "findfont: Font family 'Arial' not found.\n",
            "findfont: Font family 'Arial' not found.\n",
            "findfont: Font family 'Arial' not found.\n",
            "findfont: Font family 'Arial' not found.\n",
            "findfont: Font family 'Arial' not found.\n",
            "[I 2025-04-23 05:16:28,476] Trial 11 finished with value: 250856.609375 and parameters: {'lr': 0.007021276008810286, 'k_size': 5, 'time_window': 50}. Best is trial 0 with value: 255640.4375.\n",
            "<ipython-input-9-77ffd919438e>:5: FutureWarning: suggest_loguniform has been deprecated in v3.0.0. This feature will be removed in v6.0.0. See https://github.com/optuna/optuna/releases/tag/v3.0.0. Use suggest_float(..., log=True) instead.\n",
            "  lr = trial.suggest_loguniform(\"lr\", 1e-5, 1e-2) # use trial to suggest values for lr\n",
            "  0%|          | 0/10 [00:00<?, ?it/s]"
          ]
        },
        {
          "output_type": "stream",
          "name": "stdout",
          "text": [
            "=================================\n",
            "Initial portfolio value:100000\n",
            "Final portfolio value: 764865.875\n",
            "Final accumulative portfolio value: 7.648658752441406\n",
            "Maximum DrawDown: -0.17135255957322004\n",
            "Sharpe ratio: 1.4448051031624896\n",
            "=================================\n"
          ]
        },
        {
          "output_type": "stream",
          "name": "stderr",
          "text": [
            "findfont: Font family 'Arial' not found.\n",
            "findfont: Font family 'Arial' not found.\n",
            "findfont: Font family 'Arial' not found.\n",
            "findfont: Font family 'Arial' not found.\n",
            "findfont: Font family 'Arial' not found.\n",
            "findfont: Font family 'Arial' not found.\n",
            "findfont: Font family 'Arial' not found.\n",
            "findfont: Font family 'Arial' not found.\n",
            "findfont: Font family 'Arial' not found.\n",
            "findfont: Font family 'Arial' not found.\n",
            "findfont: Font family 'Arial' not found.\n",
            "findfont: Font family 'Arial' not found.\n",
            "findfont: Font family 'Arial' not found.\n",
            "findfont: Font family 'Arial' not found.\n",
            " 10%|█         | 1/10 [00:20<03:08, 20.90s/it]"
          ]
        },
        {
          "output_type": "stream",
          "name": "stdout",
          "text": [
            "=================================\n",
            "Initial portfolio value:100000\n",
            "Final portfolio value: 987909.375\n",
            "Final accumulative portfolio value: 9.879094123840332\n",
            "Maximum DrawDown: -0.4313820131729402\n",
            "Sharpe ratio: 1.048868495479562\n",
            "=================================\n"
          ]
        },
        {
          "output_type": "stream",
          "name": "stderr",
          "text": [
            "findfont: Font family 'Arial' not found.\n",
            "findfont: Font family 'Arial' not found.\n",
            "findfont: Font family 'Arial' not found.\n",
            "findfont: Font family 'Arial' not found.\n",
            "findfont: Font family 'Arial' not found.\n",
            "findfont: Font family 'Arial' not found.\n",
            "findfont: Font family 'Arial' not found.\n",
            "findfont: Font family 'Arial' not found.\n",
            "findfont: Font family 'Arial' not found.\n",
            "findfont: Font family 'Arial' not found.\n",
            "findfont: Font family 'Arial' not found.\n",
            "findfont: Font family 'Arial' not found.\n",
            "findfont: Font family 'Arial' not found.\n",
            "findfont: Font family 'Arial' not found.\n",
            " 20%|██        | 2/10 [00:41<02:46, 20.80s/it]"
          ]
        },
        {
          "output_type": "stream",
          "name": "stdout",
          "text": [
            "=================================\n",
            "Initial portfolio value:100000\n",
            "Final portfolio value: 1170041.625\n",
            "Final accumulative portfolio value: 11.700416564941406\n",
            "Maximum DrawDown: -0.504289455589059\n",
            "Sharpe ratio: 0.9677213474647\n",
            "=================================\n"
          ]
        },
        {
          "output_type": "stream",
          "name": "stderr",
          "text": [
            "findfont: Font family 'Arial' not found.\n",
            "findfont: Font family 'Arial' not found.\n",
            "findfont: Font family 'Arial' not found.\n",
            "findfont: Font family 'Arial' not found.\n",
            "findfont: Font family 'Arial' not found.\n",
            "findfont: Font family 'Arial' not found.\n",
            "findfont: Font family 'Arial' not found.\n",
            "findfont: Font family 'Arial' not found.\n",
            "findfont: Font family 'Arial' not found.\n",
            "findfont: Font family 'Arial' not found.\n",
            "findfont: Font family 'Arial' not found.\n",
            "findfont: Font family 'Arial' not found.\n",
            "findfont: Font family 'Arial' not found.\n",
            "findfont: Font family 'Arial' not found.\n",
            " 30%|███       | 3/10 [01:02<02:27, 21.01s/it]"
          ]
        },
        {
          "output_type": "stream",
          "name": "stdout",
          "text": [
            "=================================\n",
            "Initial portfolio value:100000\n",
            "Final portfolio value: 1268548.375\n",
            "Final accumulative portfolio value: 12.685483932495117\n",
            "Maximum DrawDown: -0.5252324863788225\n",
            "Sharpe ratio: 0.9382553020603926\n",
            "=================================\n"
          ]
        },
        {
          "output_type": "stream",
          "name": "stderr",
          "text": [
            "findfont: Font family 'Arial' not found.\n",
            "findfont: Font family 'Arial' not found.\n",
            "findfont: Font family 'Arial' not found.\n",
            "findfont: Font family 'Arial' not found.\n",
            "findfont: Font family 'Arial' not found.\n",
            "findfont: Font family 'Arial' not found.\n",
            "findfont: Font family 'Arial' not found.\n",
            "findfont: Font family 'Arial' not found.\n",
            "findfont: Font family 'Arial' not found.\n",
            "findfont: Font family 'Arial' not found.\n",
            "findfont: Font family 'Arial' not found.\n",
            "findfont: Font family 'Arial' not found.\n",
            "findfont: Font family 'Arial' not found.\n",
            "findfont: Font family 'Arial' not found.\n",
            " 40%|████      | 4/10 [01:23<02:06, 21.04s/it]"
          ]
        },
        {
          "output_type": "stream",
          "name": "stdout",
          "text": [
            "=================================\n",
            "Initial portfolio value:100000\n",
            "Final portfolio value: 1574595.75\n",
            "Final accumulative portfolio value: 15.745957374572754\n",
            "Maximum DrawDown: -0.5322091004590641\n",
            "Sharpe ratio: 0.9405609208176327\n",
            "=================================\n"
          ]
        },
        {
          "output_type": "stream",
          "name": "stderr",
          "text": [
            "findfont: Font family 'Arial' not found.\n",
            "findfont: Font family 'Arial' not found.\n",
            "findfont: Font family 'Arial' not found.\n",
            "findfont: Font family 'Arial' not found.\n",
            "findfont: Font family 'Arial' not found.\n",
            "findfont: Font family 'Arial' not found.\n",
            "findfont: Font family 'Arial' not found.\n",
            "findfont: Font family 'Arial' not found.\n",
            "findfont: Font family 'Arial' not found.\n",
            "findfont: Font family 'Arial' not found.\n",
            "findfont: Font family 'Arial' not found.\n",
            "findfont: Font family 'Arial' not found.\n",
            "findfont: Font family 'Arial' not found.\n",
            "findfont: Font family 'Arial' not found.\n",
            " 50%|█████     | 5/10 [01:44<01:44, 20.88s/it]"
          ]
        },
        {
          "output_type": "stream",
          "name": "stdout",
          "text": [
            "=================================\n",
            "Initial portfolio value:100000\n",
            "Final portfolio value: 1775749.5\n",
            "Final accumulative portfolio value: 17.757495880126953\n",
            "Maximum DrawDown: -0.5332046026951525\n",
            "Sharpe ratio: 0.9347321034111243\n",
            "=================================\n"
          ]
        },
        {
          "output_type": "stream",
          "name": "stderr",
          "text": [
            "findfont: Font family 'Arial' not found.\n",
            "findfont: Font family 'Arial' not found.\n",
            "findfont: Font family 'Arial' not found.\n",
            "findfont: Font family 'Arial' not found.\n",
            "findfont: Font family 'Arial' not found.\n",
            "findfont: Font family 'Arial' not found.\n",
            "findfont: Font family 'Arial' not found.\n",
            "findfont: Font family 'Arial' not found.\n",
            "findfont: Font family 'Arial' not found.\n",
            "findfont: Font family 'Arial' not found.\n",
            "findfont: Font family 'Arial' not found.\n",
            "findfont: Font family 'Arial' not found.\n",
            "findfont: Font family 'Arial' not found.\n",
            "findfont: Font family 'Arial' not found.\n",
            " 60%|██████    | 6/10 [02:05<01:24, 21.02s/it]"
          ]
        },
        {
          "output_type": "stream",
          "name": "stdout",
          "text": [
            "=================================\n",
            "Initial portfolio value:100000\n",
            "Final portfolio value: 1818476.0\n",
            "Final accumulative portfolio value: 18.18475914001465\n",
            "Maximum DrawDown: -0.5333285736678524\n",
            "Sharpe ratio: 0.9292111992196702\n",
            "=================================\n"
          ]
        },
        {
          "output_type": "stream",
          "name": "stderr",
          "text": [
            "findfont: Font family 'Arial' not found.\n",
            "findfont: Font family 'Arial' not found.\n",
            "findfont: Font family 'Arial' not found.\n",
            "findfont: Font family 'Arial' not found.\n",
            "findfont: Font family 'Arial' not found.\n",
            "findfont: Font family 'Arial' not found.\n",
            "findfont: Font family 'Arial' not found.\n",
            "findfont: Font family 'Arial' not found.\n",
            "findfont: Font family 'Arial' not found.\n",
            "findfont: Font family 'Arial' not found.\n",
            "findfont: Font family 'Arial' not found.\n",
            "findfont: Font family 'Arial' not found.\n",
            "findfont: Font family 'Arial' not found.\n",
            "findfont: Font family 'Arial' not found.\n",
            " 70%|███████   | 7/10 [02:27<01:03, 21.24s/it]"
          ]
        },
        {
          "output_type": "stream",
          "name": "stdout",
          "text": [
            "=================================\n",
            "Initial portfolio value:100000\n",
            "Final portfolio value: 1828980.125\n",
            "Final accumulative portfolio value: 18.2898006439209\n",
            "Maximum DrawDown: -0.5332597434049642\n",
            "Sharpe ratio: 0.9267099344049915\n",
            "=================================\n"
          ]
        },
        {
          "output_type": "stream",
          "name": "stderr",
          "text": [
            "findfont: Font family 'Arial' not found.\n",
            "findfont: Font family 'Arial' not found.\n",
            "findfont: Font family 'Arial' not found.\n",
            "findfont: Font family 'Arial' not found.\n",
            "findfont: Font family 'Arial' not found.\n",
            "findfont: Font family 'Arial' not found.\n",
            "findfont: Font family 'Arial' not found.\n",
            "findfont: Font family 'Arial' not found.\n",
            "findfont: Font family 'Arial' not found.\n",
            "findfont: Font family 'Arial' not found.\n",
            "findfont: Font family 'Arial' not found.\n",
            "findfont: Font family 'Arial' not found.\n",
            "findfont: Font family 'Arial' not found.\n",
            "findfont: Font family 'Arial' not found.\n",
            " 80%|████████  | 8/10 [02:48<00:42, 21.20s/it]"
          ]
        },
        {
          "output_type": "stream",
          "name": "stdout",
          "text": [
            "=================================\n",
            "Initial portfolio value:100000\n",
            "Final portfolio value: 1833178.125\n",
            "Final accumulative portfolio value: 18.3317813873291\n",
            "Maximum DrawDown: -0.5330873778681346\n",
            "Sharpe ratio: 0.9254742002811929\n",
            "=================================\n"
          ]
        },
        {
          "output_type": "stream",
          "name": "stderr",
          "text": [
            "findfont: Font family 'Arial' not found.\n",
            "findfont: Font family 'Arial' not found.\n",
            "findfont: Font family 'Arial' not found.\n",
            "findfont: Font family 'Arial' not found.\n",
            "findfont: Font family 'Arial' not found.\n",
            "findfont: Font family 'Arial' not found.\n",
            "findfont: Font family 'Arial' not found.\n",
            "findfont: Font family 'Arial' not found.\n",
            "findfont: Font family 'Arial' not found.\n",
            "findfont: Font family 'Arial' not found.\n",
            "findfont: Font family 'Arial' not found.\n",
            "findfont: Font family 'Arial' not found.\n",
            "findfont: Font family 'Arial' not found.\n",
            "findfont: Font family 'Arial' not found.\n",
            " 90%|█████████ | 9/10 [03:09<00:21, 21.01s/it]"
          ]
        },
        {
          "output_type": "stream",
          "name": "stdout",
          "text": [
            "=================================\n",
            "Initial portfolio value:100000\n",
            "Final portfolio value: 1835651.75\n",
            "Final accumulative portfolio value: 18.356517791748047\n",
            "Maximum DrawDown: -0.5328220574131929\n",
            "Sharpe ratio: 0.9248081701210464\n",
            "=================================\n"
          ]
        },
        {
          "output_type": "stream",
          "name": "stderr",
          "text": [
            "findfont: Font family 'Arial' not found.\n",
            "findfont: Font family 'Arial' not found.\n",
            "findfont: Font family 'Arial' not found.\n",
            "findfont: Font family 'Arial' not found.\n",
            "findfont: Font family 'Arial' not found.\n",
            "findfont: Font family 'Arial' not found.\n",
            "findfont: Font family 'Arial' not found.\n",
            "findfont: Font family 'Arial' not found.\n",
            "findfont: Font family 'Arial' not found.\n",
            "findfont: Font family 'Arial' not found.\n",
            "findfont: Font family 'Arial' not found.\n",
            "findfont: Font family 'Arial' not found.\n",
            "findfont: Font family 'Arial' not found.\n",
            "findfont: Font family 'Arial' not found.\n",
            "100%|██████████| 10/10 [03:30<00:00, 21.03s/it]\n"
          ]
        },
        {
          "output_type": "stream",
          "name": "stdout",
          "text": [
            "=================================\n",
            "Initial portfolio value:100000\n",
            "Final portfolio value: 414389.4375\n",
            "Final accumulative portfolio value: 4.143894195556641\n",
            "Maximum DrawDown: -0.577802437154006\n",
            "Sharpe ratio: 1.240964592379482\n",
            "=================================\n"
          ]
        },
        {
          "output_type": "stream",
          "name": "stderr",
          "text": [
            "findfont: Font family 'Arial' not found.\n",
            "findfont: Font family 'Arial' not found.\n",
            "findfont: Font family 'Arial' not found.\n",
            "findfont: Font family 'Arial' not found.\n",
            "findfont: Font family 'Arial' not found.\n",
            "findfont: Font family 'Arial' not found.\n",
            "findfont: Font family 'Arial' not found.\n",
            "findfont: Font family 'Arial' not found.\n",
            "findfont: Font family 'Arial' not found.\n",
            "findfont: Font family 'Arial' not found.\n",
            "findfont: Font family 'Arial' not found.\n",
            "findfont: Font family 'Arial' not found.\n",
            "findfont: Font family 'Arial' not found.\n",
            "findfont: Font family 'Arial' not found.\n",
            "[I 2025-04-23 05:20:06,500] Trial 12 finished with value: 414389.4375 and parameters: {'lr': 0.009989562388670565, 'k_size': 5, 'time_window': 50}. Best is trial 12 with value: 414389.4375.\n",
            "<ipython-input-9-77ffd919438e>:5: FutureWarning: suggest_loguniform has been deprecated in v3.0.0. This feature will be removed in v6.0.0. See https://github.com/optuna/optuna/releases/tag/v3.0.0. Use suggest_float(..., log=True) instead.\n",
            "  lr = trial.suggest_loguniform(\"lr\", 1e-5, 1e-2) # use trial to suggest values for lr\n",
            "  0%|          | 0/10 [00:00<?, ?it/s]"
          ]
        },
        {
          "output_type": "stream",
          "name": "stdout",
          "text": [
            "=================================\n",
            "Initial portfolio value:100000\n",
            "Final portfolio value: 677117.125\n",
            "Final accumulative portfolio value: 6.7711710929870605\n",
            "Maximum DrawDown: -0.158946898455953\n",
            "Sharpe ratio: 1.398264463626098\n",
            "=================================\n"
          ]
        },
        {
          "output_type": "stream",
          "name": "stderr",
          "text": [
            "findfont: Font family 'Arial' not found.\n",
            "findfont: Font family 'Arial' not found.\n",
            "findfont: Font family 'Arial' not found.\n",
            "findfont: Font family 'Arial' not found.\n",
            "findfont: Font family 'Arial' not found.\n",
            "findfont: Font family 'Arial' not found.\n",
            "findfont: Font family 'Arial' not found.\n",
            "findfont: Font family 'Arial' not found.\n",
            "findfont: Font family 'Arial' not found.\n",
            "findfont: Font family 'Arial' not found.\n",
            "findfont: Font family 'Arial' not found.\n",
            "findfont: Font family 'Arial' not found.\n",
            "findfont: Font family 'Arial' not found.\n",
            "findfont: Font family 'Arial' not found.\n",
            " 10%|█         | 1/10 [00:20<03:04, 20.46s/it]"
          ]
        },
        {
          "output_type": "stream",
          "name": "stdout",
          "text": [
            "=================================\n",
            "Initial portfolio value:100000\n",
            "Final portfolio value: 808282.5625\n",
            "Final accumulative portfolio value: 8.082825660705566\n",
            "Maximum DrawDown: -0.20163413171710032\n",
            "Sharpe ratio: 1.3520432784780279\n",
            "=================================\n"
          ]
        },
        {
          "output_type": "stream",
          "name": "stderr",
          "text": [
            "findfont: Font family 'Arial' not found.\n",
            "findfont: Font family 'Arial' not found.\n",
            "findfont: Font family 'Arial' not found.\n",
            "findfont: Font family 'Arial' not found.\n",
            "findfont: Font family 'Arial' not found.\n",
            "findfont: Font family 'Arial' not found.\n",
            "findfont: Font family 'Arial' not found.\n",
            "findfont: Font family 'Arial' not found.\n",
            "findfont: Font family 'Arial' not found.\n",
            "findfont: Font family 'Arial' not found.\n",
            "findfont: Font family 'Arial' not found.\n",
            "findfont: Font family 'Arial' not found.\n",
            "findfont: Font family 'Arial' not found.\n",
            "findfont: Font family 'Arial' not found.\n",
            " 20%|██        | 2/10 [00:41<02:46, 20.85s/it]"
          ]
        },
        {
          "output_type": "stream",
          "name": "stdout",
          "text": [
            "=================================\n",
            "Initial portfolio value:100000\n",
            "Final portfolio value: 876496.625\n",
            "Final accumulative portfolio value: 8.764966011047363\n",
            "Maximum DrawDown: -0.3001205611850949\n",
            "Sharpe ratio: 1.2033618592539366\n",
            "=================================\n"
          ]
        },
        {
          "output_type": "stream",
          "name": "stderr",
          "text": [
            "findfont: Font family 'Arial' not found.\n",
            "findfont: Font family 'Arial' not found.\n",
            "findfont: Font family 'Arial' not found.\n",
            "findfont: Font family 'Arial' not found.\n",
            "findfont: Font family 'Arial' not found.\n",
            "findfont: Font family 'Arial' not found.\n",
            "findfont: Font family 'Arial' not found.\n",
            "findfont: Font family 'Arial' not found.\n",
            "findfont: Font family 'Arial' not found.\n",
            "findfont: Font family 'Arial' not found.\n",
            "findfont: Font family 'Arial' not found.\n",
            "findfont: Font family 'Arial' not found.\n",
            "findfont: Font family 'Arial' not found.\n",
            "findfont: Font family 'Arial' not found.\n",
            " 30%|███       | 3/10 [01:02<02:26, 20.97s/it]"
          ]
        },
        {
          "output_type": "stream",
          "name": "stdout",
          "text": [
            "=================================\n",
            "Initial portfolio value:100000\n",
            "Final portfolio value: 1094556.625\n",
            "Final accumulative portfolio value: 10.945566177368164\n",
            "Maximum DrawDown: -0.24413124417132603\n",
            "Sharpe ratio: 1.3557936100663974\n",
            "=================================\n"
          ]
        },
        {
          "output_type": "stream",
          "name": "stderr",
          "text": [
            "findfont: Font family 'Arial' not found.\n",
            "findfont: Font family 'Arial' not found.\n",
            "findfont: Font family 'Arial' not found.\n",
            "findfont: Font family 'Arial' not found.\n",
            "findfont: Font family 'Arial' not found.\n",
            "findfont: Font family 'Arial' not found.\n",
            "findfont: Font family 'Arial' not found.\n",
            "findfont: Font family 'Arial' not found.\n",
            "findfont: Font family 'Arial' not found.\n",
            "findfont: Font family 'Arial' not found.\n",
            "findfont: Font family 'Arial' not found.\n",
            "findfont: Font family 'Arial' not found.\n",
            "findfont: Font family 'Arial' not found.\n",
            "findfont: Font family 'Arial' not found.\n",
            " 40%|████      | 4/10 [01:23<02:06, 21.03s/it]"
          ]
        },
        {
          "output_type": "stream",
          "name": "stdout",
          "text": [
            "=================================\n",
            "Initial portfolio value:100000\n",
            "Final portfolio value: 817453.4375\n",
            "Final accumulative portfolio value: 8.174534797668457\n",
            "Maximum DrawDown: -0.4811927852960437\n",
            "Sharpe ratio: 0.9528801510219443\n",
            "=================================\n"
          ]
        },
        {
          "output_type": "stream",
          "name": "stderr",
          "text": [
            "findfont: Font family 'Arial' not found.\n",
            "findfont: Font family 'Arial' not found.\n",
            "findfont: Font family 'Arial' not found.\n",
            "findfont: Font family 'Arial' not found.\n",
            "findfont: Font family 'Arial' not found.\n",
            "findfont: Font family 'Arial' not found.\n",
            "findfont: Font family 'Arial' not found.\n",
            "findfont: Font family 'Arial' not found.\n",
            "findfont: Font family 'Arial' not found.\n",
            "findfont: Font family 'Arial' not found.\n",
            "findfont: Font family 'Arial' not found.\n",
            "findfont: Font family 'Arial' not found.\n",
            "findfont: Font family 'Arial' not found.\n",
            "findfont: Font family 'Arial' not found.\n",
            " 50%|█████     | 5/10 [01:44<01:44, 20.82s/it]"
          ]
        },
        {
          "output_type": "stream",
          "name": "stdout",
          "text": [
            "=================================\n",
            "Initial portfolio value:100000\n",
            "Final portfolio value: 907039.6875\n",
            "Final accumulative portfolio value: 9.070396423339844\n",
            "Maximum DrawDown: -0.48220439812033367\n",
            "Sharpe ratio: 0.9595735348406255\n",
            "=================================\n"
          ]
        },
        {
          "output_type": "stream",
          "name": "stderr",
          "text": [
            "findfont: Font family 'Arial' not found.\n",
            "findfont: Font family 'Arial' not found.\n",
            "findfont: Font family 'Arial' not found.\n",
            "findfont: Font family 'Arial' not found.\n",
            "findfont: Font family 'Arial' not found.\n",
            "findfont: Font family 'Arial' not found.\n",
            "findfont: Font family 'Arial' not found.\n",
            "findfont: Font family 'Arial' not found.\n",
            "findfont: Font family 'Arial' not found.\n",
            "findfont: Font family 'Arial' not found.\n",
            "findfont: Font family 'Arial' not found.\n",
            "findfont: Font family 'Arial' not found.\n",
            "findfont: Font family 'Arial' not found.\n",
            "findfont: Font family 'Arial' not found.\n",
            " 60%|██████    | 6/10 [02:05<01:23, 20.92s/it]"
          ]
        },
        {
          "output_type": "stream",
          "name": "stdout",
          "text": [
            "=================================\n",
            "Initial portfolio value:100000\n",
            "Final portfolio value: 1231562.875\n",
            "Final accumulative portfolio value: 12.315629005432129\n",
            "Maximum DrawDown: -0.2781915791565567\n",
            "Sharpe ratio: 1.2942287647808055\n",
            "=================================\n"
          ]
        },
        {
          "output_type": "stream",
          "name": "stderr",
          "text": [
            "findfont: Font family 'Arial' not found.\n",
            "findfont: Font family 'Arial' not found.\n",
            "findfont: Font family 'Arial' not found.\n",
            "findfont: Font family 'Arial' not found.\n",
            "findfont: Font family 'Arial' not found.\n",
            "findfont: Font family 'Arial' not found.\n",
            "findfont: Font family 'Arial' not found.\n",
            "findfont: Font family 'Arial' not found.\n",
            "findfont: Font family 'Arial' not found.\n",
            "findfont: Font family 'Arial' not found.\n",
            "findfont: Font family 'Arial' not found.\n",
            "findfont: Font family 'Arial' not found.\n",
            "findfont: Font family 'Arial' not found.\n",
            "findfont: Font family 'Arial' not found.\n",
            " 70%|███████   | 7/10 [02:26<01:03, 21.01s/it]"
          ]
        },
        {
          "output_type": "stream",
          "name": "stdout",
          "text": [
            "=================================\n",
            "Initial portfolio value:100000\n",
            "Final portfolio value: 1218947.5\n",
            "Final accumulative portfolio value: 12.189475059509277\n",
            "Maximum DrawDown: -0.3103709688356082\n",
            "Sharpe ratio: 1.2136120728087327\n",
            "=================================\n"
          ]
        },
        {
          "output_type": "stream",
          "name": "stderr",
          "text": [
            "findfont: Font family 'Arial' not found.\n",
            "findfont: Font family 'Arial' not found.\n",
            "findfont: Font family 'Arial' not found.\n",
            "findfont: Font family 'Arial' not found.\n",
            "findfont: Font family 'Arial' not found.\n",
            "findfont: Font family 'Arial' not found.\n",
            "findfont: Font family 'Arial' not found.\n",
            "findfont: Font family 'Arial' not found.\n",
            "findfont: Font family 'Arial' not found.\n",
            "findfont: Font family 'Arial' not found.\n",
            "findfont: Font family 'Arial' not found.\n",
            "findfont: Font family 'Arial' not found.\n",
            "findfont: Font family 'Arial' not found.\n",
            "findfont: Font family 'Arial' not found.\n",
            " 80%|████████  | 8/10 [02:47<00:42, 21.06s/it]"
          ]
        },
        {
          "output_type": "stream",
          "name": "stdout",
          "text": [
            "=================================\n",
            "Initial portfolio value:100000\n",
            "Final portfolio value: 1345102.125\n",
            "Final accumulative portfolio value: 13.451021194458008\n",
            "Maximum DrawDown: -0.29545085769828605\n",
            "Sharpe ratio: 1.3609264753605208\n",
            "=================================\n"
          ]
        },
        {
          "output_type": "stream",
          "name": "stderr",
          "text": [
            "findfont: Font family 'Arial' not found.\n",
            "findfont: Font family 'Arial' not found.\n",
            "findfont: Font family 'Arial' not found.\n",
            "findfont: Font family 'Arial' not found.\n",
            "findfont: Font family 'Arial' not found.\n",
            "findfont: Font family 'Arial' not found.\n",
            "findfont: Font family 'Arial' not found.\n",
            "findfont: Font family 'Arial' not found.\n",
            "findfont: Font family 'Arial' not found.\n",
            "findfont: Font family 'Arial' not found.\n",
            "findfont: Font family 'Arial' not found.\n",
            "findfont: Font family 'Arial' not found.\n",
            "findfont: Font family 'Arial' not found.\n",
            "findfont: Font family 'Arial' not found.\n",
            " 90%|█████████ | 9/10 [03:08<00:20, 20.91s/it]"
          ]
        },
        {
          "output_type": "stream",
          "name": "stdout",
          "text": [
            "=================================\n",
            "Initial portfolio value:100000\n",
            "Final portfolio value: 1260199.0\n",
            "Final accumulative portfolio value: 12.60198974609375\n",
            "Maximum DrawDown: -0.32598379361950425\n",
            "Sharpe ratio: 1.1937504016374005\n",
            "=================================\n"
          ]
        },
        {
          "output_type": "stream",
          "name": "stderr",
          "text": [
            "findfont: Font family 'Arial' not found.\n",
            "findfont: Font family 'Arial' not found.\n",
            "findfont: Font family 'Arial' not found.\n",
            "findfont: Font family 'Arial' not found.\n",
            "findfont: Font family 'Arial' not found.\n",
            "findfont: Font family 'Arial' not found.\n",
            "findfont: Font family 'Arial' not found.\n",
            "findfont: Font family 'Arial' not found.\n",
            "findfont: Font family 'Arial' not found.\n",
            "findfont: Font family 'Arial' not found.\n",
            "findfont: Font family 'Arial' not found.\n",
            "findfont: Font family 'Arial' not found.\n",
            "findfont: Font family 'Arial' not found.\n",
            "findfont: Font family 'Arial' not found.\n",
            "100%|██████████| 10/10 [03:29<00:00, 20.99s/it]\n"
          ]
        },
        {
          "output_type": "stream",
          "name": "stdout",
          "text": [
            "=================================\n",
            "Initial portfolio value:100000\n",
            "Final portfolio value: 355321.78125\n",
            "Final accumulative portfolio value: 3.553217887878418\n",
            "Maximum DrawDown: -0.502392368225919\n",
            "Sharpe ratio: 1.1847061084025796\n",
            "=================================\n"
          ]
        },
        {
          "output_type": "stream",
          "name": "stderr",
          "text": [
            "findfont: Font family 'Arial' not found.\n",
            "findfont: Font family 'Arial' not found.\n",
            "findfont: Font family 'Arial' not found.\n",
            "findfont: Font family 'Arial' not found.\n",
            "findfont: Font family 'Arial' not found.\n",
            "findfont: Font family 'Arial' not found.\n",
            "findfont: Font family 'Arial' not found.\n",
            "findfont: Font family 'Arial' not found.\n",
            "findfont: Font family 'Arial' not found.\n",
            "findfont: Font family 'Arial' not found.\n",
            "findfont: Font family 'Arial' not found.\n",
            "findfont: Font family 'Arial' not found.\n",
            "findfont: Font family 'Arial' not found.\n",
            "findfont: Font family 'Arial' not found.\n",
            "[I 2025-04-23 05:23:44,092] Trial 13 finished with value: 355321.78125 and parameters: {'lr': 0.009410428636724113, 'k_size': 5, 'time_window': 40}. Best is trial 12 with value: 414389.4375.\n",
            "<ipython-input-9-77ffd919438e>:5: FutureWarning: suggest_loguniform has been deprecated in v3.0.0. This feature will be removed in v6.0.0. See https://github.com/optuna/optuna/releases/tag/v3.0.0. Use suggest_float(..., log=True) instead.\n",
            "  lr = trial.suggest_loguniform(\"lr\", 1e-5, 1e-2) # use trial to suggest values for lr\n",
            "  0%|          | 0/10 [00:00<?, ?it/s]"
          ]
        },
        {
          "output_type": "stream",
          "name": "stdout",
          "text": [
            "=================================\n",
            "Initial portfolio value:100000\n",
            "Final portfolio value: 644103.4375\n",
            "Final accumulative portfolio value: 6.441034317016602\n",
            "Maximum DrawDown: -0.16410672419115246\n",
            "Sharpe ratio: 1.4949844607499847\n",
            "=================================\n"
          ]
        },
        {
          "output_type": "stream",
          "name": "stderr",
          "text": [
            "findfont: Font family 'Arial' not found.\n",
            "findfont: Font family 'Arial' not found.\n",
            "findfont: Font family 'Arial' not found.\n",
            "findfont: Font family 'Arial' not found.\n",
            "findfont: Font family 'Arial' not found.\n",
            "findfont: Font family 'Arial' not found.\n",
            "findfont: Font family 'Arial' not found.\n",
            "findfont: Font family 'Arial' not found.\n",
            "findfont: Font family 'Arial' not found.\n",
            "findfont: Font family 'Arial' not found.\n",
            "findfont: Font family 'Arial' not found.\n",
            "findfont: Font family 'Arial' not found.\n",
            "findfont: Font family 'Arial' not found.\n",
            "findfont: Font family 'Arial' not found.\n",
            " 10%|█         | 1/10 [00:20<03:03, 20.41s/it]"
          ]
        },
        {
          "output_type": "stream",
          "name": "stdout",
          "text": [
            "=================================\n",
            "Initial portfolio value:100000\n",
            "Final portfolio value: 648895.75\n",
            "Final accumulative portfolio value: 6.488957405090332\n",
            "Maximum DrawDown: -0.1647064525753532\n",
            "Sharpe ratio: 1.4950524194758776\n",
            "=================================\n"
          ]
        },
        {
          "output_type": "stream",
          "name": "stderr",
          "text": [
            "findfont: Font family 'Arial' not found.\n",
            "findfont: Font family 'Arial' not found.\n",
            "findfont: Font family 'Arial' not found.\n",
            "findfont: Font family 'Arial' not found.\n",
            "findfont: Font family 'Arial' not found.\n",
            "findfont: Font family 'Arial' not found.\n",
            "findfont: Font family 'Arial' not found.\n",
            "findfont: Font family 'Arial' not found.\n",
            "findfont: Font family 'Arial' not found.\n",
            "findfont: Font family 'Arial' not found.\n",
            "findfont: Font family 'Arial' not found.\n",
            "findfont: Font family 'Arial' not found.\n",
            "findfont: Font family 'Arial' not found.\n",
            "findfont: Font family 'Arial' not found.\n",
            " 20%|██        | 2/10 [00:41<02:45, 20.74s/it]"
          ]
        },
        {
          "output_type": "stream",
          "name": "stdout",
          "text": [
            "=================================\n",
            "Initial portfolio value:100000\n",
            "Final portfolio value: 653011.375\n",
            "Final accumulative portfolio value: 6.530113697052002\n",
            "Maximum DrawDown: -0.16524735322292095\n",
            "Sharpe ratio: 1.4950645085227072\n",
            "=================================\n"
          ]
        },
        {
          "output_type": "stream",
          "name": "stderr",
          "text": [
            "findfont: Font family 'Arial' not found.\n",
            "findfont: Font family 'Arial' not found.\n",
            "findfont: Font family 'Arial' not found.\n",
            "findfont: Font family 'Arial' not found.\n",
            "findfont: Font family 'Arial' not found.\n",
            "findfont: Font family 'Arial' not found.\n",
            "findfont: Font family 'Arial' not found.\n",
            "findfont: Font family 'Arial' not found.\n",
            "findfont: Font family 'Arial' not found.\n",
            "findfont: Font family 'Arial' not found.\n",
            "findfont: Font family 'Arial' not found.\n",
            "findfont: Font family 'Arial' not found.\n",
            "findfont: Font family 'Arial' not found.\n",
            "findfont: Font family 'Arial' not found.\n",
            " 30%|███       | 3/10 [01:02<02:26, 20.92s/it]"
          ]
        },
        {
          "output_type": "stream",
          "name": "stdout",
          "text": [
            "=================================\n",
            "Initial portfolio value:100000\n",
            "Final portfolio value: 656856.0\n",
            "Final accumulative portfolio value: 6.5685601234436035\n",
            "Maximum DrawDown: -0.16574844821368484\n",
            "Sharpe ratio: 1.4950838762177323\n",
            "=================================\n"
          ]
        },
        {
          "output_type": "stream",
          "name": "stderr",
          "text": [
            "findfont: Font family 'Arial' not found.\n",
            "findfont: Font family 'Arial' not found.\n",
            "findfont: Font family 'Arial' not found.\n",
            "findfont: Font family 'Arial' not found.\n",
            "findfont: Font family 'Arial' not found.\n",
            "findfont: Font family 'Arial' not found.\n",
            "findfont: Font family 'Arial' not found.\n",
            "findfont: Font family 'Arial' not found.\n",
            "findfont: Font family 'Arial' not found.\n",
            "findfont: Font family 'Arial' not found.\n",
            "findfont: Font family 'Arial' not found.\n",
            "findfont: Font family 'Arial' not found.\n",
            "findfont: Font family 'Arial' not found.\n",
            "findfont: Font family 'Arial' not found.\n",
            " 40%|████      | 4/10 [01:23<02:04, 20.83s/it]"
          ]
        },
        {
          "output_type": "stream",
          "name": "stdout",
          "text": [
            "=================================\n",
            "Initial portfolio value:100000\n",
            "Final portfolio value: 660297.25\n",
            "Final accumulative portfolio value: 6.602972507476807\n",
            "Maximum DrawDown: -0.16619342609831178\n",
            "Sharpe ratio: 1.4950809261318005\n",
            "=================================\n"
          ]
        },
        {
          "output_type": "stream",
          "name": "stderr",
          "text": [
            "findfont: Font family 'Arial' not found.\n",
            "findfont: Font family 'Arial' not found.\n",
            "findfont: Font family 'Arial' not found.\n",
            "findfont: Font family 'Arial' not found.\n",
            "findfont: Font family 'Arial' not found.\n",
            "findfont: Font family 'Arial' not found.\n",
            "findfont: Font family 'Arial' not found.\n",
            "findfont: Font family 'Arial' not found.\n",
            "findfont: Font family 'Arial' not found.\n",
            "findfont: Font family 'Arial' not found.\n",
            "findfont: Font family 'Arial' not found.\n",
            "findfont: Font family 'Arial' not found.\n",
            "findfont: Font family 'Arial' not found.\n",
            "findfont: Font family 'Arial' not found.\n",
            " 50%|█████     | 5/10 [01:43<01:43, 20.70s/it]"
          ]
        },
        {
          "output_type": "stream",
          "name": "stdout",
          "text": [
            "=================================\n",
            "Initial portfolio value:100000\n",
            "Final portfolio value: 663557.0\n",
            "Final accumulative portfolio value: 6.635570049285889\n",
            "Maximum DrawDown: -0.1666383216310996\n",
            "Sharpe ratio: 1.495039945424898\n",
            "=================================\n"
          ]
        },
        {
          "output_type": "stream",
          "name": "stderr",
          "text": [
            "findfont: Font family 'Arial' not found.\n",
            "findfont: Font family 'Arial' not found.\n",
            "findfont: Font family 'Arial' not found.\n",
            "findfont: Font family 'Arial' not found.\n",
            "findfont: Font family 'Arial' not found.\n",
            "findfont: Font family 'Arial' not found.\n",
            "findfont: Font family 'Arial' not found.\n",
            "findfont: Font family 'Arial' not found.\n",
            "findfont: Font family 'Arial' not found.\n",
            "findfont: Font family 'Arial' not found.\n",
            "findfont: Font family 'Arial' not found.\n",
            "findfont: Font family 'Arial' not found.\n",
            "findfont: Font family 'Arial' not found.\n",
            "findfont: Font family 'Arial' not found.\n",
            " 60%|██████    | 6/10 [02:04<01:23, 20.75s/it]"
          ]
        },
        {
          "output_type": "stream",
          "name": "stdout",
          "text": [
            "=================================\n",
            "Initial portfolio value:100000\n",
            "Final portfolio value: 666921.0\n",
            "Final accumulative portfolio value: 6.669209957122803\n",
            "Maximum DrawDown: -0.16708510775872565\n",
            "Sharpe ratio: 1.495066728355383\n",
            "=================================\n"
          ]
        },
        {
          "output_type": "stream",
          "name": "stderr",
          "text": [
            "findfont: Font family 'Arial' not found.\n",
            "findfont: Font family 'Arial' not found.\n",
            "findfont: Font family 'Arial' not found.\n",
            "findfont: Font family 'Arial' not found.\n",
            "findfont: Font family 'Arial' not found.\n",
            "findfont: Font family 'Arial' not found.\n",
            "findfont: Font family 'Arial' not found.\n",
            "findfont: Font family 'Arial' not found.\n",
            "findfont: Font family 'Arial' not found.\n",
            "findfont: Font family 'Arial' not found.\n",
            "findfont: Font family 'Arial' not found.\n",
            "findfont: Font family 'Arial' not found.\n",
            "findfont: Font family 'Arial' not found.\n",
            "findfont: Font family 'Arial' not found.\n",
            " 70%|███████   | 7/10 [02:25<01:02, 20.82s/it]"
          ]
        },
        {
          "output_type": "stream",
          "name": "stdout",
          "text": [
            "=================================\n",
            "Initial portfolio value:100000\n",
            "Final portfolio value: 670336.4375\n",
            "Final accumulative portfolio value: 6.703364372253418\n",
            "Maximum DrawDown: -0.16754183263654077\n",
            "Sharpe ratio: 1.4950699386510642\n",
            "=================================\n"
          ]
        },
        {
          "output_type": "stream",
          "name": "stderr",
          "text": [
            "findfont: Font family 'Arial' not found.\n",
            "findfont: Font family 'Arial' not found.\n",
            "findfont: Font family 'Arial' not found.\n",
            "findfont: Font family 'Arial' not found.\n",
            "findfont: Font family 'Arial' not found.\n",
            "findfont: Font family 'Arial' not found.\n",
            "findfont: Font family 'Arial' not found.\n",
            "findfont: Font family 'Arial' not found.\n",
            "findfont: Font family 'Arial' not found.\n",
            "findfont: Font family 'Arial' not found.\n",
            "findfont: Font family 'Arial' not found.\n",
            "findfont: Font family 'Arial' not found.\n",
            "findfont: Font family 'Arial' not found.\n",
            "findfont: Font family 'Arial' not found.\n",
            " 80%|████████  | 8/10 [02:45<00:41, 20.63s/it]"
          ]
        },
        {
          "output_type": "stream",
          "name": "stdout",
          "text": [
            "=================================\n",
            "Initial portfolio value:100000\n",
            "Final portfolio value: 673864.25\n",
            "Final accumulative portfolio value: 6.738642692565918\n",
            "Maximum DrawDown: -0.16800980969127133\n",
            "Sharpe ratio: 1.4950956114585732\n",
            "=================================\n"
          ]
        },
        {
          "output_type": "stream",
          "name": "stderr",
          "text": [
            "findfont: Font family 'Arial' not found.\n",
            "findfont: Font family 'Arial' not found.\n",
            "findfont: Font family 'Arial' not found.\n",
            "findfont: Font family 'Arial' not found.\n",
            "findfont: Font family 'Arial' not found.\n",
            "findfont: Font family 'Arial' not found.\n",
            "findfont: Font family 'Arial' not found.\n",
            "findfont: Font family 'Arial' not found.\n",
            "findfont: Font family 'Arial' not found.\n",
            "findfont: Font family 'Arial' not found.\n",
            "findfont: Font family 'Arial' not found.\n",
            "findfont: Font family 'Arial' not found.\n",
            "findfont: Font family 'Arial' not found.\n",
            "findfont: Font family 'Arial' not found.\n",
            " 90%|█████████ | 9/10 [03:06<00:20, 20.78s/it]"
          ]
        },
        {
          "output_type": "stream",
          "name": "stdout",
          "text": [
            "=================================\n",
            "Initial portfolio value:100000\n",
            "Final portfolio value: 677411.375\n",
            "Final accumulative portfolio value: 6.774113655090332\n",
            "Maximum DrawDown: -0.1684784586853585\n",
            "Sharpe ratio: 1.495074230729102\n",
            "=================================\n"
          ]
        },
        {
          "output_type": "stream",
          "name": "stderr",
          "text": [
            "findfont: Font family 'Arial' not found.\n",
            "findfont: Font family 'Arial' not found.\n",
            "findfont: Font family 'Arial' not found.\n",
            "findfont: Font family 'Arial' not found.\n",
            "findfont: Font family 'Arial' not found.\n",
            "findfont: Font family 'Arial' not found.\n",
            "findfont: Font family 'Arial' not found.\n",
            "findfont: Font family 'Arial' not found.\n",
            "findfont: Font family 'Arial' not found.\n",
            "findfont: Font family 'Arial' not found.\n",
            "findfont: Font family 'Arial' not found.\n",
            "findfont: Font family 'Arial' not found.\n",
            "findfont: Font family 'Arial' not found.\n",
            "findfont: Font family 'Arial' not found.\n",
            "100%|██████████| 10/10 [03:28<00:00, 20.81s/it]\n"
          ]
        },
        {
          "output_type": "stream",
          "name": "stdout",
          "text": [
            "=================================\n",
            "Initial portfolio value:100000\n",
            "Final portfolio value: 161697.109375\n",
            "Final accumulative portfolio value: 1.6169711351394653\n",
            "Maximum DrawDown: -0.2846644853334115\n",
            "Sharpe ratio: 0.8410195800750011\n",
            "=================================\n"
          ]
        },
        {
          "output_type": "stream",
          "name": "stderr",
          "text": [
            "findfont: Font family 'Arial' not found.\n",
            "findfont: Font family 'Arial' not found.\n",
            "findfont: Font family 'Arial' not found.\n",
            "findfont: Font family 'Arial' not found.\n",
            "findfont: Font family 'Arial' not found.\n",
            "findfont: Font family 'Arial' not found.\n",
            "findfont: Font family 'Arial' not found.\n",
            "findfont: Font family 'Arial' not found.\n",
            "findfont: Font family 'Arial' not found.\n",
            "findfont: Font family 'Arial' not found.\n",
            "findfont: Font family 'Arial' not found.\n",
            "findfont: Font family 'Arial' not found.\n",
            "findfont: Font family 'Arial' not found.\n",
            "findfont: Font family 'Arial' not found.\n",
            "[I 2025-04-23 05:27:20,170] Trial 14 finished with value: 161697.109375 and parameters: {'lr': 0.0007101235238341182, 'k_size': 5, 'time_window': 50}. Best is trial 12 with value: 414389.4375.\n",
            "<ipython-input-9-77ffd919438e>:5: FutureWarning: suggest_loguniform has been deprecated in v3.0.0. This feature will be removed in v6.0.0. See https://github.com/optuna/optuna/releases/tag/v3.0.0. Use suggest_float(..., log=True) instead.\n",
            "  lr = trial.suggest_loguniform(\"lr\", 1e-5, 1e-2) # use trial to suggest values for lr\n",
            "  0%|          | 0/10 [00:00<?, ?it/s]"
          ]
        },
        {
          "output_type": "stream",
          "name": "stdout",
          "text": [
            "=================================\n",
            "Initial portfolio value:100000\n",
            "Final portfolio value: 746921.125\n",
            "Final accumulative portfolio value: 7.469211101531982\n",
            "Maximum DrawDown: -0.18111313897725356\n",
            "Sharpe ratio: 1.3776916345021368\n",
            "=================================\n"
          ]
        },
        {
          "output_type": "stream",
          "name": "stderr",
          "text": [
            "findfont: Font family 'Arial' not found.\n",
            "findfont: Font family 'Arial' not found.\n",
            "findfont: Font family 'Arial' not found.\n",
            "findfont: Font family 'Arial' not found.\n",
            "findfont: Font family 'Arial' not found.\n",
            "findfont: Font family 'Arial' not found.\n",
            "findfont: Font family 'Arial' not found.\n",
            "findfont: Font family 'Arial' not found.\n",
            "findfont: Font family 'Arial' not found.\n",
            "findfont: Font family 'Arial' not found.\n",
            "findfont: Font family 'Arial' not found.\n",
            "findfont: Font family 'Arial' not found.\n",
            "findfont: Font family 'Arial' not found.\n",
            "findfont: Font family 'Arial' not found.\n",
            " 10%|█         | 1/10 [00:21<03:12, 21.37s/it]"
          ]
        },
        {
          "output_type": "stream",
          "name": "stdout",
          "text": [
            "=================================\n",
            "Initial portfolio value:100000\n",
            "Final portfolio value: 974295.8125\n",
            "Final accumulative portfolio value: 9.742958068847656\n",
            "Maximum DrawDown: -0.4335276754697275\n",
            "Sharpe ratio: 1.0292159912254712\n",
            "=================================\n"
          ]
        },
        {
          "output_type": "stream",
          "name": "stderr",
          "text": [
            "findfont: Font family 'Arial' not found.\n",
            "findfont: Font family 'Arial' not found.\n",
            "findfont: Font family 'Arial' not found.\n",
            "findfont: Font family 'Arial' not found.\n",
            "findfont: Font family 'Arial' not found.\n",
            "findfont: Font family 'Arial' not found.\n",
            "findfont: Font family 'Arial' not found.\n",
            "findfont: Font family 'Arial' not found.\n",
            "findfont: Font family 'Arial' not found.\n",
            "findfont: Font family 'Arial' not found.\n",
            "findfont: Font family 'Arial' not found.\n",
            "findfont: Font family 'Arial' not found.\n",
            "findfont: Font family 'Arial' not found.\n",
            "findfont: Font family 'Arial' not found.\n",
            " 20%|██        | 2/10 [00:42<02:50, 21.32s/it]"
          ]
        },
        {
          "output_type": "stream",
          "name": "stdout",
          "text": [
            "=================================\n",
            "Initial portfolio value:100000\n",
            "Final portfolio value: 1095442.0\n",
            "Final accumulative portfolio value: 10.95442008972168\n",
            "Maximum DrawDown: -0.4987005681040042\n",
            "Sharpe ratio: 0.9568189211073738\n",
            "=================================\n"
          ]
        },
        {
          "output_type": "stream",
          "name": "stderr",
          "text": [
            "findfont: Font family 'Arial' not found.\n",
            "findfont: Font family 'Arial' not found.\n",
            "findfont: Font family 'Arial' not found.\n",
            "findfont: Font family 'Arial' not found.\n",
            "findfont: Font family 'Arial' not found.\n",
            "findfont: Font family 'Arial' not found.\n",
            "findfont: Font family 'Arial' not found.\n",
            "findfont: Font family 'Arial' not found.\n",
            "findfont: Font family 'Arial' not found.\n",
            "findfont: Font family 'Arial' not found.\n",
            "findfont: Font family 'Arial' not found.\n",
            "findfont: Font family 'Arial' not found.\n",
            "findfont: Font family 'Arial' not found.\n",
            "findfont: Font family 'Arial' not found.\n",
            " 30%|███       | 3/10 [01:03<02:28, 21.28s/it]"
          ]
        },
        {
          "output_type": "stream",
          "name": "stdout",
          "text": [
            "=================================\n",
            "Initial portfolio value:100000\n",
            "Final portfolio value: 1186906.75\n",
            "Final accumulative portfolio value: 11.869067192077637\n",
            "Maximum DrawDown: -0.519220259213047\n",
            "Sharpe ratio: 0.9289276775316674\n",
            "=================================\n"
          ]
        },
        {
          "output_type": "stream",
          "name": "stderr",
          "text": [
            "findfont: Font family 'Arial' not found.\n",
            "findfont: Font family 'Arial' not found.\n",
            "findfont: Font family 'Arial' not found.\n",
            "findfont: Font family 'Arial' not found.\n",
            "findfont: Font family 'Arial' not found.\n",
            "findfont: Font family 'Arial' not found.\n",
            "findfont: Font family 'Arial' not found.\n",
            "findfont: Font family 'Arial' not found.\n",
            "findfont: Font family 'Arial' not found.\n",
            "findfont: Font family 'Arial' not found.\n",
            "findfont: Font family 'Arial' not found.\n",
            "findfont: Font family 'Arial' not found.\n",
            "findfont: Font family 'Arial' not found.\n",
            "findfont: Font family 'Arial' not found.\n",
            " 40%|████      | 4/10 [01:24<02:05, 20.98s/it]"
          ]
        },
        {
          "output_type": "stream",
          "name": "stdout",
          "text": [
            "=================================\n",
            "Initial portfolio value:100000\n",
            "Final portfolio value: 1439302.0\n",
            "Final accumulative portfolio value: 14.393019676208496\n",
            "Maximum DrawDown: -0.5298066483894563\n",
            "Sharpe ratio: 0.928051048356421\n",
            "=================================\n"
          ]
        },
        {
          "output_type": "stream",
          "name": "stderr",
          "text": [
            "findfont: Font family 'Arial' not found.\n",
            "findfont: Font family 'Arial' not found.\n",
            "findfont: Font family 'Arial' not found.\n",
            "findfont: Font family 'Arial' not found.\n",
            "findfont: Font family 'Arial' not found.\n",
            "findfont: Font family 'Arial' not found.\n",
            "findfont: Font family 'Arial' not found.\n",
            "findfont: Font family 'Arial' not found.\n",
            "findfont: Font family 'Arial' not found.\n",
            "findfont: Font family 'Arial' not found.\n",
            "findfont: Font family 'Arial' not found.\n",
            "findfont: Font family 'Arial' not found.\n",
            "findfont: Font family 'Arial' not found.\n",
            "findfont: Font family 'Arial' not found.\n",
            " 50%|█████     | 5/10 [01:45<01:45, 21.06s/it]"
          ]
        },
        {
          "output_type": "stream",
          "name": "stdout",
          "text": [
            "=================================\n",
            "Initial portfolio value:100000\n",
            "Final portfolio value: 1690090.5\n",
            "Final accumulative portfolio value: 16.90090560913086\n",
            "Maximum DrawDown: -0.531619678096997\n",
            "Sharpe ratio: 0.9249288908639488\n",
            "=================================\n"
          ]
        },
        {
          "output_type": "stream",
          "name": "stderr",
          "text": [
            "findfont: Font family 'Arial' not found.\n",
            "findfont: Font family 'Arial' not found.\n",
            "findfont: Font family 'Arial' not found.\n",
            "findfont: Font family 'Arial' not found.\n",
            "findfont: Font family 'Arial' not found.\n",
            "findfont: Font family 'Arial' not found.\n",
            "findfont: Font family 'Arial' not found.\n",
            "findfont: Font family 'Arial' not found.\n",
            "findfont: Font family 'Arial' not found.\n",
            "findfont: Font family 'Arial' not found.\n",
            "findfont: Font family 'Arial' not found.\n",
            "findfont: Font family 'Arial' not found.\n",
            "findfont: Font family 'Arial' not found.\n",
            "findfont: Font family 'Arial' not found.\n",
            " 60%|██████    | 6/10 [02:06<01:24, 21.06s/it]"
          ]
        },
        {
          "output_type": "stream",
          "name": "stdout",
          "text": [
            "=================================\n",
            "Initial portfolio value:100000\n",
            "Final portfolio value: 1747770.0\n",
            "Final accumulative portfolio value: 17.477699279785156\n",
            "Maximum DrawDown: -0.5316985225404041\n",
            "Sharpe ratio: 0.9187105698875249\n",
            "=================================\n"
          ]
        },
        {
          "output_type": "stream",
          "name": "stderr",
          "text": [
            "findfont: Font family 'Arial' not found.\n",
            "findfont: Font family 'Arial' not found.\n",
            "findfont: Font family 'Arial' not found.\n",
            "findfont: Font family 'Arial' not found.\n",
            "findfont: Font family 'Arial' not found.\n",
            "findfont: Font family 'Arial' not found.\n",
            "findfont: Font family 'Arial' not found.\n",
            "findfont: Font family 'Arial' not found.\n",
            "findfont: Font family 'Arial' not found.\n",
            "findfont: Font family 'Arial' not found.\n",
            "findfont: Font family 'Arial' not found.\n",
            "findfont: Font family 'Arial' not found.\n",
            "findfont: Font family 'Arial' not found.\n",
            "findfont: Font family 'Arial' not found.\n",
            " 70%|███████   | 7/10 [02:27<01:03, 21.05s/it]"
          ]
        },
        {
          "output_type": "stream",
          "name": "stdout",
          "text": [
            "=================================\n",
            "Initial portfolio value:100000\n",
            "Final portfolio value: 1760138.375\n",
            "Final accumulative portfolio value: 17.601383209228516\n",
            "Maximum DrawDown: -0.531259370043759\n",
            "Sharpe ratio: 0.9161840653101074\n",
            "=================================\n"
          ]
        },
        {
          "output_type": "stream",
          "name": "stderr",
          "text": [
            "findfont: Font family 'Arial' not found.\n",
            "findfont: Font family 'Arial' not found.\n",
            "findfont: Font family 'Arial' not found.\n",
            "findfont: Font family 'Arial' not found.\n",
            "findfont: Font family 'Arial' not found.\n",
            "findfont: Font family 'Arial' not found.\n",
            "findfont: Font family 'Arial' not found.\n",
            "findfont: Font family 'Arial' not found.\n",
            "findfont: Font family 'Arial' not found.\n",
            "findfont: Font family 'Arial' not found.\n",
            "findfont: Font family 'Arial' not found.\n",
            "findfont: Font family 'Arial' not found.\n",
            "findfont: Font family 'Arial' not found.\n",
            "findfont: Font family 'Arial' not found.\n",
            " 80%|████████  | 8/10 [02:48<00:41, 20.92s/it]"
          ]
        },
        {
          "output_type": "stream",
          "name": "stdout",
          "text": [
            "=================================\n",
            "Initial portfolio value:100000\n",
            "Final portfolio value: 1765530.625\n",
            "Final accumulative portfolio value: 17.655305862426758\n",
            "Maximum DrawDown: -0.5304187459018799\n",
            "Sharpe ratio: 0.915320675988549\n",
            "=================================\n"
          ]
        },
        {
          "output_type": "stream",
          "name": "stderr",
          "text": [
            "findfont: Font family 'Arial' not found.\n",
            "findfont: Font family 'Arial' not found.\n",
            "findfont: Font family 'Arial' not found.\n",
            "findfont: Font family 'Arial' not found.\n",
            "findfont: Font family 'Arial' not found.\n",
            "findfont: Font family 'Arial' not found.\n",
            "findfont: Font family 'Arial' not found.\n",
            "findfont: Font family 'Arial' not found.\n",
            "findfont: Font family 'Arial' not found.\n",
            "findfont: Font family 'Arial' not found.\n",
            "findfont: Font family 'Arial' not found.\n",
            "findfont: Font family 'Arial' not found.\n",
            "findfont: Font family 'Arial' not found.\n",
            "findfont: Font family 'Arial' not found.\n",
            " 90%|█████████ | 9/10 [03:09<00:21, 21.04s/it]"
          ]
        },
        {
          "output_type": "stream",
          "name": "stdout",
          "text": [
            "=================================\n",
            "Initial portfolio value:100000\n",
            "Final portfolio value: 1769962.5\n",
            "Final accumulative portfolio value: 17.69962501525879\n",
            "Maximum DrawDown: -0.5290084886513401\n",
            "Sharpe ratio: 0.9153069957268546\n",
            "=================================\n"
          ]
        },
        {
          "output_type": "stream",
          "name": "stderr",
          "text": [
            "findfont: Font family 'Arial' not found.\n",
            "findfont: Font family 'Arial' not found.\n",
            "findfont: Font family 'Arial' not found.\n",
            "findfont: Font family 'Arial' not found.\n",
            "findfont: Font family 'Arial' not found.\n",
            "findfont: Font family 'Arial' not found.\n",
            "findfont: Font family 'Arial' not found.\n",
            "findfont: Font family 'Arial' not found.\n",
            "findfont: Font family 'Arial' not found.\n",
            "findfont: Font family 'Arial' not found.\n",
            "findfont: Font family 'Arial' not found.\n",
            "findfont: Font family 'Arial' not found.\n",
            "findfont: Font family 'Arial' not found.\n",
            "findfont: Font family 'Arial' not found.\n",
            "100%|██████████| 10/10 [03:30<00:00, 21.10s/it]\n"
          ]
        },
        {
          "output_type": "stream",
          "name": "stdout",
          "text": [
            "=================================\n",
            "Initial portfolio value:100000\n",
            "Final portfolio value: 176860.28125\n",
            "Final accumulative portfolio value: 1.7686028480529785\n",
            "Maximum DrawDown: -0.37639638410807985\n",
            "Sharpe ratio: 0.7924347090848202\n",
            "=================================\n"
          ]
        },
        {
          "output_type": "stream",
          "name": "stderr",
          "text": [
            "findfont: Font family 'Arial' not found.\n",
            "findfont: Font family 'Arial' not found.\n",
            "findfont: Font family 'Arial' not found.\n",
            "findfont: Font family 'Arial' not found.\n",
            "findfont: Font family 'Arial' not found.\n",
            "findfont: Font family 'Arial' not found.\n",
            "findfont: Font family 'Arial' not found.\n",
            "findfont: Font family 'Arial' not found.\n",
            "findfont: Font family 'Arial' not found.\n",
            "findfont: Font family 'Arial' not found.\n",
            "findfont: Font family 'Arial' not found.\n",
            "findfont: Font family 'Arial' not found.\n",
            "findfont: Font family 'Arial' not found.\n",
            "findfont: Font family 'Arial' not found.\n",
            "[I 2025-04-23 05:30:58,417] Trial 15 finished with value: 176860.28125 and parameters: {'lr': 0.009820150536701199, 'k_size': 5, 'time_window': 40}. Best is trial 12 with value: 414389.4375.\n",
            "<ipython-input-9-77ffd919438e>:5: FutureWarning: suggest_loguniform has been deprecated in v3.0.0. This feature will be removed in v6.0.0. See https://github.com/optuna/optuna/releases/tag/v3.0.0. Use suggest_float(..., log=True) instead.\n",
            "  lr = trial.suggest_loguniform(\"lr\", 1e-5, 1e-2) # use trial to suggest values for lr\n",
            "  0%|          | 0/10 [00:00<?, ?it/s]"
          ]
        },
        {
          "output_type": "stream",
          "name": "stdout",
          "text": [
            "=================================\n",
            "Initial portfolio value:100000\n",
            "Final portfolio value: 701555.375\n",
            "Final accumulative portfolio value: 7.015553951263428\n",
            "Maximum DrawDown: -0.1720160455934684\n",
            "Sharpe ratio: 1.4949016358880907\n",
            "=================================\n"
          ]
        },
        {
          "output_type": "stream",
          "name": "stderr",
          "text": [
            "findfont: Font family 'Arial' not found.\n",
            "findfont: Font family 'Arial' not found.\n",
            "findfont: Font family 'Arial' not found.\n",
            "findfont: Font family 'Arial' not found.\n",
            "findfont: Font family 'Arial' not found.\n",
            "findfont: Font family 'Arial' not found.\n",
            "findfont: Font family 'Arial' not found.\n",
            "findfont: Font family 'Arial' not found.\n",
            "findfont: Font family 'Arial' not found.\n",
            "findfont: Font family 'Arial' not found.\n",
            "findfont: Font family 'Arial' not found.\n",
            "findfont: Font family 'Arial' not found.\n",
            "findfont: Font family 'Arial' not found.\n",
            "findfont: Font family 'Arial' not found.\n",
            " 10%|█         | 1/10 [00:21<03:15, 21.77s/it]"
          ]
        },
        {
          "output_type": "stream",
          "name": "stdout",
          "text": [
            "=================================\n",
            "Initial portfolio value:100000\n",
            "Final portfolio value: 714449.125\n",
            "Final accumulative portfolio value: 7.144491195678711\n",
            "Maximum DrawDown: -0.1736901264382451\n",
            "Sharpe ratio: 1.4948227474087286\n",
            "=================================\n"
          ]
        },
        {
          "output_type": "stream",
          "name": "stderr",
          "text": [
            "findfont: Font family 'Arial' not found.\n",
            "findfont: Font family 'Arial' not found.\n",
            "findfont: Font family 'Arial' not found.\n",
            "findfont: Font family 'Arial' not found.\n",
            "findfont: Font family 'Arial' not found.\n",
            "findfont: Font family 'Arial' not found.\n",
            "findfont: Font family 'Arial' not found.\n",
            "findfont: Font family 'Arial' not found.\n",
            "findfont: Font family 'Arial' not found.\n",
            "findfont: Font family 'Arial' not found.\n",
            "findfont: Font family 'Arial' not found.\n",
            "findfont: Font family 'Arial' not found.\n",
            "findfont: Font family 'Arial' not found.\n",
            "findfont: Font family 'Arial' not found.\n",
            " 20%|██        | 2/10 [00:43<02:54, 21.76s/it]"
          ]
        },
        {
          "output_type": "stream",
          "name": "stdout",
          "text": [
            "=================================\n",
            "Initial portfolio value:100000\n",
            "Final portfolio value: 728992.375\n",
            "Final accumulative portfolio value: 7.289923667907715\n",
            "Maximum DrawDown: -0.1755271115668171\n",
            "Sharpe ratio: 1.4948498853199856\n",
            "=================================\n"
          ]
        },
        {
          "output_type": "stream",
          "name": "stderr",
          "text": [
            "findfont: Font family 'Arial' not found.\n",
            "findfont: Font family 'Arial' not found.\n",
            "findfont: Font family 'Arial' not found.\n",
            "findfont: Font family 'Arial' not found.\n",
            "findfont: Font family 'Arial' not found.\n",
            "findfont: Font family 'Arial' not found.\n",
            "findfont: Font family 'Arial' not found.\n",
            "findfont: Font family 'Arial' not found.\n",
            "findfont: Font family 'Arial' not found.\n",
            "findfont: Font family 'Arial' not found.\n",
            "findfont: Font family 'Arial' not found.\n",
            "findfont: Font family 'Arial' not found.\n",
            "findfont: Font family 'Arial' not found.\n",
            "findfont: Font family 'Arial' not found.\n",
            " 30%|███       | 3/10 [01:04<02:30, 21.52s/it]"
          ]
        },
        {
          "output_type": "stream",
          "name": "stdout",
          "text": [
            "=================================\n",
            "Initial portfolio value:100000\n",
            "Final portfolio value: 744472.125\n",
            "Final accumulative portfolio value: 7.444721221923828\n",
            "Maximum DrawDown: -0.1773944856228603\n",
            "Sharpe ratio: 1.4948499398382915\n",
            "=================================\n"
          ]
        },
        {
          "output_type": "stream",
          "name": "stderr",
          "text": [
            "findfont: Font family 'Arial' not found.\n",
            "findfont: Font family 'Arial' not found.\n",
            "findfont: Font family 'Arial' not found.\n",
            "findfont: Font family 'Arial' not found.\n",
            "findfont: Font family 'Arial' not found.\n",
            "findfont: Font family 'Arial' not found.\n",
            "findfont: Font family 'Arial' not found.\n",
            "findfont: Font family 'Arial' not found.\n",
            "findfont: Font family 'Arial' not found.\n",
            "findfont: Font family 'Arial' not found.\n",
            "findfont: Font family 'Arial' not found.\n",
            "findfont: Font family 'Arial' not found.\n",
            "findfont: Font family 'Arial' not found.\n",
            "findfont: Font family 'Arial' not found.\n",
            " 40%|████      | 4/10 [01:25<02:06, 21.12s/it]"
          ]
        },
        {
          "output_type": "stream",
          "name": "stdout",
          "text": [
            "=================================\n",
            "Initial portfolio value:100000\n",
            "Final portfolio value: 759735.4375\n",
            "Final accumulative portfolio value: 7.597354412078857\n",
            "Maximum DrawDown: -0.17914292612848026\n",
            "Sharpe ratio: 1.4948861126957533\n",
            "=================================\n"
          ]
        },
        {
          "output_type": "stream",
          "name": "stderr",
          "text": [
            "findfont: Font family 'Arial' not found.\n",
            "findfont: Font family 'Arial' not found.\n",
            "findfont: Font family 'Arial' not found.\n",
            "findfont: Font family 'Arial' not found.\n",
            "findfont: Font family 'Arial' not found.\n",
            "findfont: Font family 'Arial' not found.\n",
            "findfont: Font family 'Arial' not found.\n",
            "findfont: Font family 'Arial' not found.\n",
            "findfont: Font family 'Arial' not found.\n",
            "findfont: Font family 'Arial' not found.\n",
            "findfont: Font family 'Arial' not found.\n",
            "findfont: Font family 'Arial' not found.\n",
            "findfont: Font family 'Arial' not found.\n",
            "findfont: Font family 'Arial' not found.\n",
            " 50%|█████     | 5/10 [01:46<01:45, 21.17s/it]"
          ]
        },
        {
          "output_type": "stream",
          "name": "stdout",
          "text": [
            "=================================\n",
            "Initial portfolio value:100000\n",
            "Final portfolio value: 773672.0\n",
            "Final accumulative portfolio value: 7.736720085144043\n",
            "Maximum DrawDown: -0.18066254874048404\n",
            "Sharpe ratio: 1.4949420191631828\n",
            "=================================\n"
          ]
        },
        {
          "output_type": "stream",
          "name": "stderr",
          "text": [
            "findfont: Font family 'Arial' not found.\n",
            "findfont: Font family 'Arial' not found.\n",
            "findfont: Font family 'Arial' not found.\n",
            "findfont: Font family 'Arial' not found.\n",
            "findfont: Font family 'Arial' not found.\n",
            "findfont: Font family 'Arial' not found.\n",
            "findfont: Font family 'Arial' not found.\n",
            "findfont: Font family 'Arial' not found.\n",
            "findfont: Font family 'Arial' not found.\n",
            "findfont: Font family 'Arial' not found.\n",
            "findfont: Font family 'Arial' not found.\n",
            "findfont: Font family 'Arial' not found.\n",
            "findfont: Font family 'Arial' not found.\n",
            "findfont: Font family 'Arial' not found.\n",
            " 60%|██████    | 6/10 [02:07<01:24, 21.20s/it]"
          ]
        },
        {
          "output_type": "stream",
          "name": "stdout",
          "text": [
            "=================================\n",
            "Initial portfolio value:100000\n",
            "Final portfolio value: 785630.625\n",
            "Final accumulative portfolio value: 7.856306076049805\n",
            "Maximum DrawDown: -0.18191588182283425\n",
            "Sharpe ratio: 1.495016245100697\n",
            "=================================\n"
          ]
        },
        {
          "output_type": "stream",
          "name": "stderr",
          "text": [
            "findfont: Font family 'Arial' not found.\n",
            "findfont: Font family 'Arial' not found.\n",
            "findfont: Font family 'Arial' not found.\n",
            "findfont: Font family 'Arial' not found.\n",
            "findfont: Font family 'Arial' not found.\n",
            "findfont: Font family 'Arial' not found.\n",
            "findfont: Font family 'Arial' not found.\n",
            "findfont: Font family 'Arial' not found.\n",
            "findfont: Font family 'Arial' not found.\n",
            "findfont: Font family 'Arial' not found.\n",
            "findfont: Font family 'Arial' not found.\n",
            "findfont: Font family 'Arial' not found.\n",
            "findfont: Font family 'Arial' not found.\n",
            "findfont: Font family 'Arial' not found.\n",
            " 70%|███████   | 7/10 [02:29<01:03, 21.26s/it]"
          ]
        },
        {
          "output_type": "stream",
          "name": "stdout",
          "text": [
            "=================================\n",
            "Initial portfolio value:100000\n",
            "Final portfolio value: 795351.5\n",
            "Final accumulative portfolio value: 7.95351505279541\n",
            "Maximum DrawDown: -0.18291648526990723\n",
            "Sharpe ratio: 1.495024069796327\n",
            "=================================\n"
          ]
        },
        {
          "output_type": "stream",
          "name": "stderr",
          "text": [
            "findfont: Font family 'Arial' not found.\n",
            "findfont: Font family 'Arial' not found.\n",
            "findfont: Font family 'Arial' not found.\n",
            "findfont: Font family 'Arial' not found.\n",
            "findfont: Font family 'Arial' not found.\n",
            "findfont: Font family 'Arial' not found.\n",
            "findfont: Font family 'Arial' not found.\n",
            "findfont: Font family 'Arial' not found.\n",
            "findfont: Font family 'Arial' not found.\n",
            "findfont: Font family 'Arial' not found.\n",
            "findfont: Font family 'Arial' not found.\n",
            "findfont: Font family 'Arial' not found.\n",
            "findfont: Font family 'Arial' not found.\n",
            "findfont: Font family 'Arial' not found.\n",
            " 80%|████████  | 8/10 [02:49<00:42, 21.04s/it]"
          ]
        },
        {
          "output_type": "stream",
          "name": "stdout",
          "text": [
            "=================================\n",
            "Initial portfolio value:100000\n",
            "Final portfolio value: 803111.0\n",
            "Final accumulative portfolio value: 8.031109809875488\n",
            "Maximum DrawDown: -0.1836952252921943\n",
            "Sharpe ratio: 1.4950582763189455\n",
            "=================================\n"
          ]
        },
        {
          "output_type": "stream",
          "name": "stderr",
          "text": [
            "findfont: Font family 'Arial' not found.\n",
            "findfont: Font family 'Arial' not found.\n",
            "findfont: Font family 'Arial' not found.\n",
            "findfont: Font family 'Arial' not found.\n",
            "findfont: Font family 'Arial' not found.\n",
            "findfont: Font family 'Arial' not found.\n",
            "findfont: Font family 'Arial' not found.\n",
            "findfont: Font family 'Arial' not found.\n",
            "findfont: Font family 'Arial' not found.\n",
            "findfont: Font family 'Arial' not found.\n",
            "findfont: Font family 'Arial' not found.\n",
            "findfont: Font family 'Arial' not found.\n",
            "findfont: Font family 'Arial' not found.\n",
            "findfont: Font family 'Arial' not found.\n",
            " 90%|█████████ | 9/10 [03:11<00:21, 21.13s/it]"
          ]
        },
        {
          "output_type": "stream",
          "name": "stdout",
          "text": [
            "=================================\n",
            "Initial portfolio value:100000\n",
            "Final portfolio value: 809219.25\n",
            "Final accumulative portfolio value: 8.092192649841309\n",
            "Maximum DrawDown: -0.1842987676093648\n",
            "Sharpe ratio: 1.4951146942979912\n",
            "=================================\n"
          ]
        },
        {
          "output_type": "stream",
          "name": "stderr",
          "text": [
            "findfont: Font family 'Arial' not found.\n",
            "findfont: Font family 'Arial' not found.\n",
            "findfont: Font family 'Arial' not found.\n",
            "findfont: Font family 'Arial' not found.\n",
            "findfont: Font family 'Arial' not found.\n",
            "findfont: Font family 'Arial' not found.\n",
            "findfont: Font family 'Arial' not found.\n",
            "findfont: Font family 'Arial' not found.\n",
            "findfont: Font family 'Arial' not found.\n",
            "findfont: Font family 'Arial' not found.\n",
            "findfont: Font family 'Arial' not found.\n",
            "findfont: Font family 'Arial' not found.\n",
            "findfont: Font family 'Arial' not found.\n",
            "findfont: Font family 'Arial' not found.\n",
            "100%|██████████| 10/10 [03:32<00:00, 21.23s/it]\n"
          ]
        },
        {
          "output_type": "stream",
          "name": "stdout",
          "text": [
            "=================================\n",
            "Initial portfolio value:100000\n",
            "Final portfolio value: 168049.203125\n",
            "Final accumulative portfolio value: 1.6804920434951782\n",
            "Maximum DrawDown: -0.31031994980353494\n",
            "Sharpe ratio: 0.8400512254966078\n",
            "=================================\n"
          ]
        },
        {
          "output_type": "stream",
          "name": "stderr",
          "text": [
            "findfont: Font family 'Arial' not found.\n",
            "findfont: Font family 'Arial' not found.\n",
            "findfont: Font family 'Arial' not found.\n",
            "findfont: Font family 'Arial' not found.\n",
            "findfont: Font family 'Arial' not found.\n",
            "findfont: Font family 'Arial' not found.\n",
            "findfont: Font family 'Arial' not found.\n",
            "findfont: Font family 'Arial' not found.\n",
            "findfont: Font family 'Arial' not found.\n",
            "findfont: Font family 'Arial' not found.\n",
            "findfont: Font family 'Arial' not found.\n",
            "findfont: Font family 'Arial' not found.\n",
            "findfont: Font family 'Arial' not found.\n",
            "findfont: Font family 'Arial' not found.\n",
            "[I 2025-04-23 05:34:37,732] Trial 16 finished with value: 168049.203125 and parameters: {'lr': 0.0023635945779513635, 'k_size': 5, 'time_window': 50}. Best is trial 12 with value: 414389.4375.\n",
            "<ipython-input-9-77ffd919438e>:5: FutureWarning: suggest_loguniform has been deprecated in v3.0.0. This feature will be removed in v6.0.0. See https://github.com/optuna/optuna/releases/tag/v3.0.0. Use suggest_float(..., log=True) instead.\n",
            "  lr = trial.suggest_loguniform(\"lr\", 1e-5, 1e-2) # use trial to suggest values for lr\n",
            "  0%|          | 0/10 [00:00<?, ?it/s]"
          ]
        },
        {
          "output_type": "stream",
          "name": "stdout",
          "text": [
            "=================================\n",
            "Initial portfolio value:100000\n",
            "Final portfolio value: 675417.75\n",
            "Final accumulative portfolio value: 6.754177570343018\n",
            "Maximum DrawDown: -0.16940560129775128\n",
            "Sharpe ratio: 1.4718610854708571\n",
            "=================================\n"
          ]
        },
        {
          "output_type": "stream",
          "name": "stderr",
          "text": [
            "findfont: Font family 'Arial' not found.\n",
            "findfont: Font family 'Arial' not found.\n",
            "findfont: Font family 'Arial' not found.\n",
            "findfont: Font family 'Arial' not found.\n",
            "findfont: Font family 'Arial' not found.\n",
            "findfont: Font family 'Arial' not found.\n",
            "findfont: Font family 'Arial' not found.\n",
            "findfont: Font family 'Arial' not found.\n",
            "findfont: Font family 'Arial' not found.\n",
            "findfont: Font family 'Arial' not found.\n",
            "findfont: Font family 'Arial' not found.\n",
            "findfont: Font family 'Arial' not found.\n",
            "findfont: Font family 'Arial' not found.\n",
            "findfont: Font family 'Arial' not found.\n",
            " 10%|█         | 1/10 [00:21<03:10, 21.21s/it]"
          ]
        },
        {
          "output_type": "stream",
          "name": "stdout",
          "text": [
            "=================================\n",
            "Initial portfolio value:100000\n",
            "Final portfolio value: 684721.5625\n",
            "Final accumulative portfolio value: 6.84721565246582\n",
            "Maximum DrawDown: -0.1696820108819831\n",
            "Sharpe ratio: 1.4719270170948004\n",
            "=================================\n"
          ]
        },
        {
          "output_type": "stream",
          "name": "stderr",
          "text": [
            "findfont: Font family 'Arial' not found.\n",
            "findfont: Font family 'Arial' not found.\n",
            "findfont: Font family 'Arial' not found.\n",
            "findfont: Font family 'Arial' not found.\n",
            "findfont: Font family 'Arial' not found.\n",
            "findfont: Font family 'Arial' not found.\n",
            "findfont: Font family 'Arial' not found.\n",
            "findfont: Font family 'Arial' not found.\n",
            "findfont: Font family 'Arial' not found.\n",
            "findfont: Font family 'Arial' not found.\n",
            "findfont: Font family 'Arial' not found.\n",
            "findfont: Font family 'Arial' not found.\n",
            "findfont: Font family 'Arial' not found.\n",
            "findfont: Font family 'Arial' not found.\n",
            " 20%|██        | 2/10 [00:42<02:49, 21.23s/it]"
          ]
        },
        {
          "output_type": "stream",
          "name": "stdout",
          "text": [
            "=================================\n",
            "Initial portfolio value:100000\n",
            "Final portfolio value: 692661.5\n",
            "Final accumulative portfolio value: 6.926615238189697\n",
            "Maximum DrawDown: -0.16973550944481997\n",
            "Sharpe ratio: 1.4718383538919264\n",
            "=================================\n"
          ]
        },
        {
          "output_type": "stream",
          "name": "stderr",
          "text": [
            "findfont: Font family 'Arial' not found.\n",
            "findfont: Font family 'Arial' not found.\n",
            "findfont: Font family 'Arial' not found.\n",
            "findfont: Font family 'Arial' not found.\n",
            "findfont: Font family 'Arial' not found.\n",
            "findfont: Font family 'Arial' not found.\n",
            "findfont: Font family 'Arial' not found.\n",
            "findfont: Font family 'Arial' not found.\n",
            "findfont: Font family 'Arial' not found.\n",
            "findfont: Font family 'Arial' not found.\n",
            "findfont: Font family 'Arial' not found.\n",
            "findfont: Font family 'Arial' not found.\n",
            "findfont: Font family 'Arial' not found.\n",
            "findfont: Font family 'Arial' not found.\n",
            " 30%|███       | 3/10 [01:03<02:28, 21.23s/it]"
          ]
        },
        {
          "output_type": "stream",
          "name": "stdout",
          "text": [
            "=================================\n",
            "Initial portfolio value:100000\n",
            "Final portfolio value: 700913.75\n",
            "Final accumulative portfolio value: 7.0091376304626465\n",
            "Maximum DrawDown: -0.16963122162891975\n",
            "Sharpe ratio: 1.4717080161059268\n",
            "=================================\n"
          ]
        },
        {
          "output_type": "stream",
          "name": "stderr",
          "text": [
            "findfont: Font family 'Arial' not found.\n",
            "findfont: Font family 'Arial' not found.\n",
            "findfont: Font family 'Arial' not found.\n",
            "findfont: Font family 'Arial' not found.\n",
            "findfont: Font family 'Arial' not found.\n",
            "findfont: Font family 'Arial' not found.\n",
            "findfont: Font family 'Arial' not found.\n",
            "findfont: Font family 'Arial' not found.\n",
            "findfont: Font family 'Arial' not found.\n",
            "findfont: Font family 'Arial' not found.\n",
            "findfont: Font family 'Arial' not found.\n",
            "findfont: Font family 'Arial' not found.\n",
            "findfont: Font family 'Arial' not found.\n",
            "findfont: Font family 'Arial' not found.\n",
            " 40%|████      | 4/10 [01:24<02:07, 21.17s/it]"
          ]
        },
        {
          "output_type": "stream",
          "name": "stdout",
          "text": [
            "=================================\n",
            "Initial portfolio value:100000\n",
            "Final portfolio value: 709797.3125\n",
            "Final accumulative portfolio value: 7.097973346710205\n",
            "Maximum DrawDown: -0.1694143873645011\n",
            "Sharpe ratio: 1.4715358655470419\n",
            "=================================\n"
          ]
        },
        {
          "output_type": "stream",
          "name": "stderr",
          "text": [
            "findfont: Font family 'Arial' not found.\n",
            "findfont: Font family 'Arial' not found.\n",
            "findfont: Font family 'Arial' not found.\n",
            "findfont: Font family 'Arial' not found.\n",
            "findfont: Font family 'Arial' not found.\n",
            "findfont: Font family 'Arial' not found.\n",
            "findfont: Font family 'Arial' not found.\n",
            "findfont: Font family 'Arial' not found.\n",
            "findfont: Font family 'Arial' not found.\n",
            "findfont: Font family 'Arial' not found.\n",
            "findfont: Font family 'Arial' not found.\n",
            "findfont: Font family 'Arial' not found.\n",
            "findfont: Font family 'Arial' not found.\n",
            "findfont: Font family 'Arial' not found.\n",
            " 50%|█████     | 5/10 [01:45<01:45, 21.13s/it]"
          ]
        },
        {
          "output_type": "stream",
          "name": "stdout",
          "text": [
            "=================================\n",
            "Initial portfolio value:100000\n",
            "Final portfolio value: 719859.875\n",
            "Final accumulative portfolio value: 7.198598861694336\n",
            "Maximum DrawDown: -0.16915149445234767\n",
            "Sharpe ratio: 1.4710661206922455\n",
            "=================================\n"
          ]
        },
        {
          "output_type": "stream",
          "name": "stderr",
          "text": [
            "findfont: Font family 'Arial' not found.\n",
            "findfont: Font family 'Arial' not found.\n",
            "findfont: Font family 'Arial' not found.\n",
            "findfont: Font family 'Arial' not found.\n",
            "findfont: Font family 'Arial' not found.\n",
            "findfont: Font family 'Arial' not found.\n",
            "findfont: Font family 'Arial' not found.\n",
            "findfont: Font family 'Arial' not found.\n",
            "findfont: Font family 'Arial' not found.\n",
            "findfont: Font family 'Arial' not found.\n",
            "findfont: Font family 'Arial' not found.\n",
            "findfont: Font family 'Arial' not found.\n",
            "findfont: Font family 'Arial' not found.\n",
            "findfont: Font family 'Arial' not found.\n",
            " 60%|██████    | 6/10 [02:07<01:24, 21.18s/it]"
          ]
        },
        {
          "output_type": "stream",
          "name": "stdout",
          "text": [
            "=================================\n",
            "Initial portfolio value:100000\n",
            "Final portfolio value: 731320.375\n",
            "Final accumulative portfolio value: 7.313203811645508\n",
            "Maximum DrawDown: -0.16887441563287853\n",
            "Sharpe ratio: 1.4705105277204222\n",
            "=================================\n"
          ]
        },
        {
          "output_type": "stream",
          "name": "stderr",
          "text": [
            "findfont: Font family 'Arial' not found.\n",
            "findfont: Font family 'Arial' not found.\n",
            "findfont: Font family 'Arial' not found.\n",
            "findfont: Font family 'Arial' not found.\n",
            "findfont: Font family 'Arial' not found.\n",
            "findfont: Font family 'Arial' not found.\n",
            "findfont: Font family 'Arial' not found.\n",
            "findfont: Font family 'Arial' not found.\n",
            "findfont: Font family 'Arial' not found.\n",
            "findfont: Font family 'Arial' not found.\n",
            "findfont: Font family 'Arial' not found.\n",
            "findfont: Font family 'Arial' not found.\n",
            "findfont: Font family 'Arial' not found.\n",
            "findfont: Font family 'Arial' not found.\n",
            " 70%|███████   | 7/10 [02:27<01:03, 21.09s/it]"
          ]
        },
        {
          "output_type": "stream",
          "name": "stdout",
          "text": [
            "=================================\n",
            "Initial portfolio value:100000\n",
            "Final portfolio value: 744197.9375\n",
            "Final accumulative portfolio value: 7.44197940826416\n",
            "Maximum DrawDown: -0.16848087069392848\n",
            "Sharpe ratio: 1.4697249180648024\n",
            "=================================\n"
          ]
        },
        {
          "output_type": "stream",
          "name": "stderr",
          "text": [
            "findfont: Font family 'Arial' not found.\n",
            "findfont: Font family 'Arial' not found.\n",
            "findfont: Font family 'Arial' not found.\n",
            "findfont: Font family 'Arial' not found.\n",
            "findfont: Font family 'Arial' not found.\n",
            "findfont: Font family 'Arial' not found.\n",
            "findfont: Font family 'Arial' not found.\n",
            "findfont: Font family 'Arial' not found.\n",
            "findfont: Font family 'Arial' not found.\n",
            "findfont: Font family 'Arial' not found.\n",
            "findfont: Font family 'Arial' not found.\n",
            "findfont: Font family 'Arial' not found.\n",
            "findfont: Font family 'Arial' not found.\n",
            "findfont: Font family 'Arial' not found.\n",
            " 80%|████████  | 8/10 [02:48<00:41, 20.99s/it]"
          ]
        },
        {
          "output_type": "stream",
          "name": "stdout",
          "text": [
            "=================================\n",
            "Initial portfolio value:100000\n",
            "Final portfolio value: 758512.0625\n",
            "Final accumulative portfolio value: 7.585120677947998\n",
            "Maximum DrawDown: -0.1680380917864891\n",
            "Sharpe ratio: 1.4685603361718031\n",
            "=================================\n"
          ]
        },
        {
          "output_type": "stream",
          "name": "stderr",
          "text": [
            "findfont: Font family 'Arial' not found.\n",
            "findfont: Font family 'Arial' not found.\n",
            "findfont: Font family 'Arial' not found.\n",
            "findfont: Font family 'Arial' not found.\n",
            "findfont: Font family 'Arial' not found.\n",
            "findfont: Font family 'Arial' not found.\n",
            "findfont: Font family 'Arial' not found.\n",
            "findfont: Font family 'Arial' not found.\n",
            "findfont: Font family 'Arial' not found.\n",
            "findfont: Font family 'Arial' not found.\n",
            "findfont: Font family 'Arial' not found.\n",
            "findfont: Font family 'Arial' not found.\n",
            "findfont: Font family 'Arial' not found.\n",
            "findfont: Font family 'Arial' not found.\n",
            " 90%|█████████ | 9/10 [03:09<00:21, 21.06s/it]"
          ]
        },
        {
          "output_type": "stream",
          "name": "stdout",
          "text": [
            "=================================\n",
            "Initial portfolio value:100000\n",
            "Final portfolio value: 774063.4375\n",
            "Final accumulative portfolio value: 7.740634441375732\n",
            "Maximum DrawDown: -0.16745812027402218\n",
            "Sharpe ratio: 1.4669194609914633\n",
            "=================================\n"
          ]
        },
        {
          "output_type": "stream",
          "name": "stderr",
          "text": [
            "findfont: Font family 'Arial' not found.\n",
            "findfont: Font family 'Arial' not found.\n",
            "findfont: Font family 'Arial' not found.\n",
            "findfont: Font family 'Arial' not found.\n",
            "findfont: Font family 'Arial' not found.\n",
            "findfont: Font family 'Arial' not found.\n",
            "findfont: Font family 'Arial' not found.\n",
            "findfont: Font family 'Arial' not found.\n",
            "findfont: Font family 'Arial' not found.\n",
            "findfont: Font family 'Arial' not found.\n",
            "findfont: Font family 'Arial' not found.\n",
            "findfont: Font family 'Arial' not found.\n",
            "findfont: Font family 'Arial' not found.\n",
            "findfont: Font family 'Arial' not found.\n",
            "100%|██████████| 10/10 [03:31<00:00, 21.13s/it]\n"
          ]
        },
        {
          "output_type": "stream",
          "name": "stdout",
          "text": [
            "=================================\n",
            "Initial portfolio value:100000\n",
            "Final portfolio value: 164857.859375\n",
            "Final accumulative portfolio value: 1.6485786437988281\n",
            "Maximum DrawDown: -0.29184348171556074\n",
            "Sharpe ratio: 0.8017922853787343\n",
            "=================================\n"
          ]
        },
        {
          "output_type": "stream",
          "name": "stderr",
          "text": [
            "findfont: Font family 'Arial' not found.\n",
            "findfont: Font family 'Arial' not found.\n",
            "findfont: Font family 'Arial' not found.\n",
            "findfont: Font family 'Arial' not found.\n",
            "findfont: Font family 'Arial' not found.\n",
            "findfont: Font family 'Arial' not found.\n",
            "findfont: Font family 'Arial' not found.\n",
            "findfont: Font family 'Arial' not found.\n",
            "findfont: Font family 'Arial' not found.\n",
            "findfont: Font family 'Arial' not found.\n",
            "findfont: Font family 'Arial' not found.\n",
            "findfont: Font family 'Arial' not found.\n",
            "findfont: Font family 'Arial' not found.\n",
            "findfont: Font family 'Arial' not found.\n",
            "[I 2025-04-23 05:38:16,394] Trial 17 finished with value: 164857.859375 and parameters: {'lr': 0.0003168099876392149, 'k_size': 5, 'time_window': 40}. Best is trial 12 with value: 414389.4375.\n",
            "<ipython-input-9-77ffd919438e>:5: FutureWarning: suggest_loguniform has been deprecated in v3.0.0. This feature will be removed in v6.0.0. See https://github.com/optuna/optuna/releases/tag/v3.0.0. Use suggest_float(..., log=True) instead.\n",
            "  lr = trial.suggest_loguniform(\"lr\", 1e-5, 1e-2) # use trial to suggest values for lr\n",
            "  0%|          | 0/10 [00:00<?, ?it/s]"
          ]
        },
        {
          "output_type": "stream",
          "name": "stdout",
          "text": [
            "=================================\n",
            "Initial portfolio value:100000\n",
            "Final portfolio value: 646704.25\n",
            "Final accumulative portfolio value: 6.467042446136475\n",
            "Maximum DrawDown: -0.16510054592956513\n",
            "Sharpe ratio: 1.4944089726474317\n",
            "=================================\n"
          ]
        },
        {
          "output_type": "stream",
          "name": "stderr",
          "text": [
            "findfont: Font family 'Arial' not found.\n",
            "findfont: Font family 'Arial' not found.\n",
            "findfont: Font family 'Arial' not found.\n",
            "findfont: Font family 'Arial' not found.\n",
            "findfont: Font family 'Arial' not found.\n",
            "findfont: Font family 'Arial' not found.\n",
            "findfont: Font family 'Arial' not found.\n",
            "findfont: Font family 'Arial' not found.\n",
            "findfont: Font family 'Arial' not found.\n",
            "findfont: Font family 'Arial' not found.\n",
            "findfont: Font family 'Arial' not found.\n",
            "findfont: Font family 'Arial' not found.\n",
            "findfont: Font family 'Arial' not found.\n",
            "findfont: Font family 'Arial' not found.\n",
            " 10%|█         | 1/10 [00:21<03:10, 21.22s/it]"
          ]
        },
        {
          "output_type": "stream",
          "name": "stdout",
          "text": [
            "=================================\n",
            "Initial portfolio value:100000\n",
            "Final portfolio value: 656098.4375\n",
            "Final accumulative portfolio value: 6.5609846115112305\n",
            "Maximum DrawDown: -0.16639864745836153\n",
            "Sharpe ratio: 1.4945544535445598\n",
            "=================================\n"
          ]
        },
        {
          "output_type": "stream",
          "name": "stderr",
          "text": [
            "findfont: Font family 'Arial' not found.\n",
            "findfont: Font family 'Arial' not found.\n",
            "findfont: Font family 'Arial' not found.\n",
            "findfont: Font family 'Arial' not found.\n",
            "findfont: Font family 'Arial' not found.\n",
            "findfont: Font family 'Arial' not found.\n",
            "findfont: Font family 'Arial' not found.\n",
            "findfont: Font family 'Arial' not found.\n",
            "findfont: Font family 'Arial' not found.\n",
            "findfont: Font family 'Arial' not found.\n",
            "findfont: Font family 'Arial' not found.\n",
            "findfont: Font family 'Arial' not found.\n",
            "findfont: Font family 'Arial' not found.\n",
            "findfont: Font family 'Arial' not found.\n",
            " 20%|██        | 2/10 [00:42<02:48, 21.09s/it]"
          ]
        },
        {
          "output_type": "stream",
          "name": "stdout",
          "text": [
            "=================================\n",
            "Initial portfolio value:100000\n",
            "Final portfolio value: 672318.0\n",
            "Final accumulative portfolio value: 6.723179817199707\n",
            "Maximum DrawDown: -0.16685042334335354\n",
            "Sharpe ratio: 1.4942239282358518\n",
            "=================================\n"
          ]
        },
        {
          "output_type": "stream",
          "name": "stderr",
          "text": [
            "findfont: Font family 'Arial' not found.\n",
            "findfont: Font family 'Arial' not found.\n",
            "findfont: Font family 'Arial' not found.\n",
            "findfont: Font family 'Arial' not found.\n",
            "findfont: Font family 'Arial' not found.\n",
            "findfont: Font family 'Arial' not found.\n",
            "findfont: Font family 'Arial' not found.\n",
            "findfont: Font family 'Arial' not found.\n",
            "findfont: Font family 'Arial' not found.\n",
            "findfont: Font family 'Arial' not found.\n",
            "findfont: Font family 'Arial' not found.\n",
            "findfont: Font family 'Arial' not found.\n",
            "findfont: Font family 'Arial' not found.\n",
            "findfont: Font family 'Arial' not found.\n",
            " 30%|███       | 3/10 [01:03<02:27, 21.12s/it]"
          ]
        },
        {
          "output_type": "stream",
          "name": "stdout",
          "text": [
            "=================================\n",
            "Initial portfolio value:100000\n",
            "Final portfolio value: 701006.0\n",
            "Final accumulative portfolio value: 7.010059833526611\n",
            "Maximum DrawDown: -0.16396737662453043\n",
            "Sharpe ratio: 1.4919739671880101\n",
            "=================================\n"
          ]
        },
        {
          "output_type": "stream",
          "name": "stderr",
          "text": [
            "findfont: Font family 'Arial' not found.\n",
            "findfont: Font family 'Arial' not found.\n",
            "findfont: Font family 'Arial' not found.\n",
            "findfont: Font family 'Arial' not found.\n",
            "findfont: Font family 'Arial' not found.\n",
            "findfont: Font family 'Arial' not found.\n",
            "findfont: Font family 'Arial' not found.\n",
            "findfont: Font family 'Arial' not found.\n",
            "findfont: Font family 'Arial' not found.\n",
            "findfont: Font family 'Arial' not found.\n",
            "findfont: Font family 'Arial' not found.\n",
            "findfont: Font family 'Arial' not found.\n",
            "findfont: Font family 'Arial' not found.\n",
            "findfont: Font family 'Arial' not found.\n",
            " 40%|████      | 4/10 [01:24<02:06, 21.00s/it]"
          ]
        },
        {
          "output_type": "stream",
          "name": "stdout",
          "text": [
            "=================================\n",
            "Initial portfolio value:100000\n",
            "Final portfolio value: 741481.6875\n",
            "Final accumulative portfolio value: 7.414816856384277\n",
            "Maximum DrawDown: -0.1629517085887877\n",
            "Sharpe ratio: 1.4889019522946283\n",
            "=================================\n"
          ]
        },
        {
          "output_type": "stream",
          "name": "stderr",
          "text": [
            "findfont: Font family 'Arial' not found.\n",
            "findfont: Font family 'Arial' not found.\n",
            "findfont: Font family 'Arial' not found.\n",
            "findfont: Font family 'Arial' not found.\n",
            "findfont: Font family 'Arial' not found.\n",
            "findfont: Font family 'Arial' not found.\n",
            "findfont: Font family 'Arial' not found.\n",
            "findfont: Font family 'Arial' not found.\n",
            "findfont: Font family 'Arial' not found.\n",
            "findfont: Font family 'Arial' not found.\n",
            "findfont: Font family 'Arial' not found.\n",
            "findfont: Font family 'Arial' not found.\n",
            "findfont: Font family 'Arial' not found.\n",
            "findfont: Font family 'Arial' not found.\n",
            " 50%|█████     | 5/10 [01:45<01:45, 21.18s/it]"
          ]
        },
        {
          "output_type": "stream",
          "name": "stdout",
          "text": [
            "=================================\n",
            "Initial portfolio value:100000\n",
            "Final portfolio value: 786128.375\n",
            "Final accumulative portfolio value: 7.861283779144287\n",
            "Maximum DrawDown: -0.16202641012885066\n",
            "Sharpe ratio: 1.4823477791592015\n",
            "=================================\n"
          ]
        },
        {
          "output_type": "stream",
          "name": "stderr",
          "text": [
            "findfont: Font family 'Arial' not found.\n",
            "findfont: Font family 'Arial' not found.\n",
            "findfont: Font family 'Arial' not found.\n",
            "findfont: Font family 'Arial' not found.\n",
            "findfont: Font family 'Arial' not found.\n",
            "findfont: Font family 'Arial' not found.\n",
            "findfont: Font family 'Arial' not found.\n",
            "findfont: Font family 'Arial' not found.\n",
            "findfont: Font family 'Arial' not found.\n",
            "findfont: Font family 'Arial' not found.\n",
            "findfont: Font family 'Arial' not found.\n",
            "findfont: Font family 'Arial' not found.\n",
            "findfont: Font family 'Arial' not found.\n",
            "findfont: Font family 'Arial' not found.\n",
            " 60%|██████    | 6/10 [02:07<01:25, 21.34s/it]"
          ]
        },
        {
          "output_type": "stream",
          "name": "stdout",
          "text": [
            "=================================\n",
            "Initial portfolio value:100000\n",
            "Final portfolio value: 838859.5625\n",
            "Final accumulative portfolio value: 8.388595581054688\n",
            "Maximum DrawDown: -0.1642058550328085\n",
            "Sharpe ratio: 1.4709046007403779\n",
            "=================================\n"
          ]
        },
        {
          "output_type": "stream",
          "name": "stderr",
          "text": [
            "findfont: Font family 'Arial' not found.\n",
            "findfont: Font family 'Arial' not found.\n",
            "findfont: Font family 'Arial' not found.\n",
            "findfont: Font family 'Arial' not found.\n",
            "findfont: Font family 'Arial' not found.\n",
            "findfont: Font family 'Arial' not found.\n",
            "findfont: Font family 'Arial' not found.\n",
            "findfont: Font family 'Arial' not found.\n",
            "findfont: Font family 'Arial' not found.\n",
            "findfont: Font family 'Arial' not found.\n",
            "findfont: Font family 'Arial' not found.\n",
            "findfont: Font family 'Arial' not found.\n",
            "findfont: Font family 'Arial' not found.\n",
            "findfont: Font family 'Arial' not found.\n",
            " 70%|███████   | 7/10 [02:28<01:03, 21.25s/it]"
          ]
        },
        {
          "output_type": "stream",
          "name": "stdout",
          "text": [
            "=================================\n",
            "Initial portfolio value:100000\n",
            "Final portfolio value: 899174.5625\n",
            "Final accumulative portfolio value: 8.991745948791504\n",
            "Maximum DrawDown: -0.17401949803753514\n",
            "Sharpe ratio: 1.453850896271976\n",
            "=================================\n"
          ]
        },
        {
          "output_type": "stream",
          "name": "stderr",
          "text": [
            "findfont: Font family 'Arial' not found.\n",
            "findfont: Font family 'Arial' not found.\n",
            "findfont: Font family 'Arial' not found.\n",
            "findfont: Font family 'Arial' not found.\n",
            "findfont: Font family 'Arial' not found.\n",
            "findfont: Font family 'Arial' not found.\n",
            "findfont: Font family 'Arial' not found.\n",
            "findfont: Font family 'Arial' not found.\n",
            "findfont: Font family 'Arial' not found.\n",
            "findfont: Font family 'Arial' not found.\n",
            "findfont: Font family 'Arial' not found.\n",
            "findfont: Font family 'Arial' not found.\n",
            "findfont: Font family 'Arial' not found.\n",
            "findfont: Font family 'Arial' not found.\n",
            " 80%|████████  | 8/10 [02:48<00:42, 21.01s/it]"
          ]
        },
        {
          "output_type": "stream",
          "name": "stdout",
          "text": [
            "=================================\n",
            "Initial portfolio value:100000\n",
            "Final portfolio value: 962363.4375\n",
            "Final accumulative portfolio value: 9.623634338378906\n",
            "Maximum DrawDown: -0.185071434785681\n",
            "Sharpe ratio: 1.4294341469762446\n",
            "=================================\n"
          ]
        },
        {
          "output_type": "stream",
          "name": "stderr",
          "text": [
            "findfont: Font family 'Arial' not found.\n",
            "findfont: Font family 'Arial' not found.\n",
            "findfont: Font family 'Arial' not found.\n",
            "findfont: Font family 'Arial' not found.\n",
            "findfont: Font family 'Arial' not found.\n",
            "findfont: Font family 'Arial' not found.\n",
            "findfont: Font family 'Arial' not found.\n",
            "findfont: Font family 'Arial' not found.\n",
            "findfont: Font family 'Arial' not found.\n",
            "findfont: Font family 'Arial' not found.\n",
            "findfont: Font family 'Arial' not found.\n",
            "findfont: Font family 'Arial' not found.\n",
            "findfont: Font family 'Arial' not found.\n",
            "findfont: Font family 'Arial' not found.\n",
            " 90%|█████████ | 9/10 [03:09<00:20, 20.96s/it]"
          ]
        },
        {
          "output_type": "stream",
          "name": "stdout",
          "text": [
            "=================================\n",
            "Initial portfolio value:100000\n",
            "Final portfolio value: 1026004.5\n",
            "Final accumulative portfolio value: 10.260045051574707\n",
            "Maximum DrawDown: -0.20834485866429586\n",
            "Sharpe ratio: 1.3966258194932648\n",
            "=================================\n"
          ]
        },
        {
          "output_type": "stream",
          "name": "stderr",
          "text": [
            "findfont: Font family 'Arial' not found.\n",
            "findfont: Font family 'Arial' not found.\n",
            "findfont: Font family 'Arial' not found.\n",
            "findfont: Font family 'Arial' not found.\n",
            "findfont: Font family 'Arial' not found.\n",
            "findfont: Font family 'Arial' not found.\n",
            "findfont: Font family 'Arial' not found.\n",
            "findfont: Font family 'Arial' not found.\n",
            "findfont: Font family 'Arial' not found.\n",
            "findfont: Font family 'Arial' not found.\n",
            "findfont: Font family 'Arial' not found.\n",
            "findfont: Font family 'Arial' not found.\n",
            "findfont: Font family 'Arial' not found.\n",
            "findfont: Font family 'Arial' not found.\n",
            "100%|██████████| 10/10 [03:31<00:00, 21.12s/it]\n"
          ]
        },
        {
          "output_type": "stream",
          "name": "stdout",
          "text": [
            "=================================\n",
            "Initial portfolio value:100000\n",
            "Final portfolio value: 212923.15625\n",
            "Final accumulative portfolio value: 2.1292314529418945\n",
            "Maximum DrawDown: -0.3388987117096959\n",
            "Sharpe ratio: 1.082880419396312\n",
            "=================================\n"
          ]
        },
        {
          "output_type": "stream",
          "name": "stderr",
          "text": [
            "findfont: Font family 'Arial' not found.\n",
            "findfont: Font family 'Arial' not found.\n",
            "findfont: Font family 'Arial' not found.\n",
            "findfont: Font family 'Arial' not found.\n",
            "findfont: Font family 'Arial' not found.\n",
            "findfont: Font family 'Arial' not found.\n",
            "findfont: Font family 'Arial' not found.\n",
            "findfont: Font family 'Arial' not found.\n",
            "findfont: Font family 'Arial' not found.\n",
            "findfont: Font family 'Arial' not found.\n",
            "findfont: Font family 'Arial' not found.\n",
            "findfont: Font family 'Arial' not found.\n",
            "findfont: Font family 'Arial' not found.\n",
            "findfont: Font family 'Arial' not found.\n",
            "[I 2025-04-23 05:41:54,688] Trial 18 finished with value: 212923.15625 and parameters: {'lr': 0.0007510949639887644, 'k_size': 7, 'time_window': 50}. Best is trial 12 with value: 414389.4375.\n",
            "<ipython-input-9-77ffd919438e>:5: FutureWarning: suggest_loguniform has been deprecated in v3.0.0. This feature will be removed in v6.0.0. See https://github.com/optuna/optuna/releases/tag/v3.0.0. Use suggest_float(..., log=True) instead.\n",
            "  lr = trial.suggest_loguniform(\"lr\", 1e-5, 1e-2) # use trial to suggest values for lr\n",
            "  0%|          | 0/10 [00:00<?, ?it/s]"
          ]
        },
        {
          "output_type": "stream",
          "name": "stdout",
          "text": [
            "=================================\n",
            "Initial portfolio value:100000\n",
            "Final portfolio value: 703293.1875\n",
            "Final accumulative portfolio value: 7.032931804656982\n",
            "Maximum DrawDown: -0.15730037044489675\n",
            "Sharpe ratio: 1.4498719284692905\n",
            "=================================\n"
          ]
        },
        {
          "output_type": "stream",
          "name": "stderr",
          "text": [
            "findfont: Font family 'Arial' not found.\n",
            "findfont: Font family 'Arial' not found.\n",
            "findfont: Font family 'Arial' not found.\n",
            "findfont: Font family 'Arial' not found.\n",
            "findfont: Font family 'Arial' not found.\n",
            "findfont: Font family 'Arial' not found.\n",
            "findfont: Font family 'Arial' not found.\n",
            "findfont: Font family 'Arial' not found.\n",
            "findfont: Font family 'Arial' not found.\n",
            "findfont: Font family 'Arial' not found.\n",
            "findfont: Font family 'Arial' not found.\n",
            "findfont: Font family 'Arial' not found.\n",
            "findfont: Font family 'Arial' not found.\n",
            "findfont: Font family 'Arial' not found.\n",
            " 10%|█         | 1/10 [00:20<03:08, 20.99s/it]"
          ]
        },
        {
          "output_type": "stream",
          "name": "stdout",
          "text": [
            "=================================\n",
            "Initial portfolio value:100000\n",
            "Final portfolio value: 756449.375\n",
            "Final accumulative portfolio value: 7.564493656158447\n",
            "Maximum DrawDown: -0.17663700076287292\n",
            "Sharpe ratio: 1.3834094149501592\n",
            "=================================\n"
          ]
        },
        {
          "output_type": "stream",
          "name": "stderr",
          "text": [
            "findfont: Font family 'Arial' not found.\n",
            "findfont: Font family 'Arial' not found.\n",
            "findfont: Font family 'Arial' not found.\n",
            "findfont: Font family 'Arial' not found.\n",
            "findfont: Font family 'Arial' not found.\n",
            "findfont: Font family 'Arial' not found.\n",
            "findfont: Font family 'Arial' not found.\n",
            "findfont: Font family 'Arial' not found.\n",
            "findfont: Font family 'Arial' not found.\n",
            "findfont: Font family 'Arial' not found.\n",
            "findfont: Font family 'Arial' not found.\n",
            "findfont: Font family 'Arial' not found.\n",
            "findfont: Font family 'Arial' not found.\n",
            "findfont: Font family 'Arial' not found.\n",
            " 20%|██        | 2/10 [00:41<02:47, 20.99s/it]"
          ]
        },
        {
          "output_type": "stream",
          "name": "stdout",
          "text": [
            "=================================\n",
            "Initial portfolio value:100000\n",
            "Final portfolio value: 801937.9375\n",
            "Final accumulative portfolio value: 8.019379615783691\n",
            "Maximum DrawDown: -0.231894509595734\n",
            "Sharpe ratio: 1.3000360736043124\n",
            "=================================\n"
          ]
        },
        {
          "output_type": "stream",
          "name": "stderr",
          "text": [
            "findfont: Font family 'Arial' not found.\n",
            "findfont: Font family 'Arial' not found.\n",
            "findfont: Font family 'Arial' not found.\n",
            "findfont: Font family 'Arial' not found.\n",
            "findfont: Font family 'Arial' not found.\n",
            "findfont: Font family 'Arial' not found.\n",
            "findfont: Font family 'Arial' not found.\n",
            "findfont: Font family 'Arial' not found.\n",
            "findfont: Font family 'Arial' not found.\n",
            "findfont: Font family 'Arial' not found.\n",
            "findfont: Font family 'Arial' not found.\n",
            "findfont: Font family 'Arial' not found.\n",
            "findfont: Font family 'Arial' not found.\n",
            "findfont: Font family 'Arial' not found.\n",
            " 30%|███       | 3/10 [01:02<02:24, 20.69s/it]"
          ]
        },
        {
          "output_type": "stream",
          "name": "stdout",
          "text": [
            "=================================\n",
            "Initial portfolio value:100000\n",
            "Final portfolio value: 837280.3125\n",
            "Final accumulative portfolio value: 8.372802734375\n",
            "Maximum DrawDown: -0.2704221913942808\n",
            "Sharpe ratio: 1.239582919510741\n",
            "=================================\n"
          ]
        },
        {
          "output_type": "stream",
          "name": "stderr",
          "text": [
            "findfont: Font family 'Arial' not found.\n",
            "findfont: Font family 'Arial' not found.\n",
            "findfont: Font family 'Arial' not found.\n",
            "findfont: Font family 'Arial' not found.\n",
            "findfont: Font family 'Arial' not found.\n",
            "findfont: Font family 'Arial' not found.\n",
            "findfont: Font family 'Arial' not found.\n",
            "findfont: Font family 'Arial' not found.\n",
            "findfont: Font family 'Arial' not found.\n",
            "findfont: Font family 'Arial' not found.\n",
            "findfont: Font family 'Arial' not found.\n",
            "findfont: Font family 'Arial' not found.\n",
            "findfont: Font family 'Arial' not found.\n",
            "findfont: Font family 'Arial' not found.\n",
            " 40%|████      | 4/10 [01:23<02:04, 20.73s/it]"
          ]
        },
        {
          "output_type": "stream",
          "name": "stdout",
          "text": [
            "=================================\n",
            "Initial portfolio value:100000\n",
            "Final portfolio value: 875648.1875\n",
            "Final accumulative portfolio value: 8.756482124328613\n",
            "Maximum DrawDown: -0.2975668310829047\n",
            "Sharpe ratio: 1.2027005738264684\n",
            "=================================\n"
          ]
        },
        {
          "output_type": "stream",
          "name": "stderr",
          "text": [
            "findfont: Font family 'Arial' not found.\n",
            "findfont: Font family 'Arial' not found.\n",
            "findfont: Font family 'Arial' not found.\n",
            "findfont: Font family 'Arial' not found.\n",
            "findfont: Font family 'Arial' not found.\n",
            "findfont: Font family 'Arial' not found.\n",
            "findfont: Font family 'Arial' not found.\n",
            "findfont: Font family 'Arial' not found.\n",
            "findfont: Font family 'Arial' not found.\n",
            "findfont: Font family 'Arial' not found.\n",
            "findfont: Font family 'Arial' not found.\n",
            "findfont: Font family 'Arial' not found.\n",
            "findfont: Font family 'Arial' not found.\n",
            "findfont: Font family 'Arial' not found.\n",
            " 50%|█████     | 5/10 [01:44<01:44, 20.84s/it]"
          ]
        },
        {
          "output_type": "stream",
          "name": "stdout",
          "text": [
            "=================================\n",
            "Initial portfolio value:100000\n",
            "Final portfolio value: 910612.25\n",
            "Final accumulative portfolio value: 9.106122970581055\n",
            "Maximum DrawDown: -0.32541124994811466\n",
            "Sharpe ratio: 1.1672975939817911\n",
            "=================================\n"
          ]
        },
        {
          "output_type": "stream",
          "name": "stderr",
          "text": [
            "findfont: Font family 'Arial' not found.\n",
            "findfont: Font family 'Arial' not found.\n",
            "findfont: Font family 'Arial' not found.\n",
            "findfont: Font family 'Arial' not found.\n",
            "findfont: Font family 'Arial' not found.\n",
            "findfont: Font family 'Arial' not found.\n",
            "findfont: Font family 'Arial' not found.\n",
            "findfont: Font family 'Arial' not found.\n",
            "findfont: Font family 'Arial' not found.\n",
            "findfont: Font family 'Arial' not found.\n",
            "findfont: Font family 'Arial' not found.\n",
            "findfont: Font family 'Arial' not found.\n",
            "findfont: Font family 'Arial' not found.\n",
            "findfont: Font family 'Arial' not found.\n",
            " 60%|██████    | 6/10 [02:05<01:23, 20.95s/it]"
          ]
        },
        {
          "output_type": "stream",
          "name": "stdout",
          "text": [
            "=================================\n",
            "Initial portfolio value:100000\n",
            "Final portfolio value: 956448.875\n",
            "Final accumulative portfolio value: 9.564488410949707\n",
            "Maximum DrawDown: -0.34345809638137925\n",
            "Sharpe ratio: 1.1469442652998543\n",
            "=================================\n"
          ]
        },
        {
          "output_type": "stream",
          "name": "stderr",
          "text": [
            "findfont: Font family 'Arial' not found.\n",
            "findfont: Font family 'Arial' not found.\n",
            "findfont: Font family 'Arial' not found.\n",
            "findfont: Font family 'Arial' not found.\n",
            "findfont: Font family 'Arial' not found.\n",
            "findfont: Font family 'Arial' not found.\n",
            "findfont: Font family 'Arial' not found.\n",
            "findfont: Font family 'Arial' not found.\n",
            "findfont: Font family 'Arial' not found.\n",
            "findfont: Font family 'Arial' not found.\n",
            "findfont: Font family 'Arial' not found.\n",
            "findfont: Font family 'Arial' not found.\n",
            "findfont: Font family 'Arial' not found.\n",
            "findfont: Font family 'Arial' not found.\n",
            " 70%|███████   | 7/10 [02:25<01:02, 20.76s/it]"
          ]
        },
        {
          "output_type": "stream",
          "name": "stdout",
          "text": [
            "=================================\n",
            "Initial portfolio value:100000\n",
            "Final portfolio value: 1023196.0625\n",
            "Final accumulative portfolio value: 10.23196029663086\n",
            "Maximum DrawDown: -0.3576345605002844\n",
            "Sharpe ratio: 1.1390969606900583\n",
            "=================================\n"
          ]
        },
        {
          "output_type": "stream",
          "name": "stderr",
          "text": [
            "findfont: Font family 'Arial' not found.\n",
            "findfont: Font family 'Arial' not found.\n",
            "findfont: Font family 'Arial' not found.\n",
            "findfont: Font family 'Arial' not found.\n",
            "findfont: Font family 'Arial' not found.\n",
            "findfont: Font family 'Arial' not found.\n",
            "findfont: Font family 'Arial' not found.\n",
            "findfont: Font family 'Arial' not found.\n",
            "findfont: Font family 'Arial' not found.\n",
            "findfont: Font family 'Arial' not found.\n",
            "findfont: Font family 'Arial' not found.\n",
            "findfont: Font family 'Arial' not found.\n",
            "findfont: Font family 'Arial' not found.\n",
            "findfont: Font family 'Arial' not found.\n",
            " 80%|████████  | 8/10 [02:46<00:41, 20.77s/it]"
          ]
        },
        {
          "output_type": "stream",
          "name": "stdout",
          "text": [
            "=================================\n",
            "Initial portfolio value:100000\n",
            "Final portfolio value: 1098670.375\n",
            "Final accumulative portfolio value: 10.986703872680664\n",
            "Maximum DrawDown: -0.37820234807155306\n",
            "Sharpe ratio: 1.1209545929241655\n",
            "=================================\n"
          ]
        },
        {
          "output_type": "stream",
          "name": "stderr",
          "text": [
            "findfont: Font family 'Arial' not found.\n",
            "findfont: Font family 'Arial' not found.\n",
            "findfont: Font family 'Arial' not found.\n",
            "findfont: Font family 'Arial' not found.\n",
            "findfont: Font family 'Arial' not found.\n",
            "findfont: Font family 'Arial' not found.\n",
            "findfont: Font family 'Arial' not found.\n",
            "findfont: Font family 'Arial' not found.\n",
            "findfont: Font family 'Arial' not found.\n",
            "findfont: Font family 'Arial' not found.\n",
            "findfont: Font family 'Arial' not found.\n",
            "findfont: Font family 'Arial' not found.\n",
            "findfont: Font family 'Arial' not found.\n",
            "findfont: Font family 'Arial' not found.\n",
            " 90%|█████████ | 9/10 [03:08<00:21, 21.03s/it]"
          ]
        },
        {
          "output_type": "stream",
          "name": "stdout",
          "text": [
            "=================================\n",
            "Initial portfolio value:100000\n",
            "Final portfolio value: 1184310.0\n",
            "Final accumulative portfolio value: 11.843099594116211\n",
            "Maximum DrawDown: -0.3945894040336333\n",
            "Sharpe ratio: 1.1066970396200726\n",
            "=================================\n"
          ]
        },
        {
          "output_type": "stream",
          "name": "stderr",
          "text": [
            "findfont: Font family 'Arial' not found.\n",
            "findfont: Font family 'Arial' not found.\n",
            "findfont: Font family 'Arial' not found.\n",
            "findfont: Font family 'Arial' not found.\n",
            "findfont: Font family 'Arial' not found.\n",
            "findfont: Font family 'Arial' not found.\n",
            "findfont: Font family 'Arial' not found.\n",
            "findfont: Font family 'Arial' not found.\n",
            "findfont: Font family 'Arial' not found.\n",
            "findfont: Font family 'Arial' not found.\n",
            "findfont: Font family 'Arial' not found.\n",
            "findfont: Font family 'Arial' not found.\n",
            "findfont: Font family 'Arial' not found.\n",
            "findfont: Font family 'Arial' not found.\n",
            "100%|██████████| 10/10 [03:28<00:00, 20.81s/it]\n"
          ]
        },
        {
          "output_type": "stream",
          "name": "stdout",
          "text": [
            "=================================\n",
            "Initial portfolio value:100000\n",
            "Final portfolio value: 253341.171875\n",
            "Final accumulative portfolio value: 2.533411741256714\n",
            "Maximum DrawDown: -0.3403867138341625\n",
            "Sharpe ratio: 1.2869025137684167\n",
            "=================================\n"
          ]
        },
        {
          "output_type": "stream",
          "name": "stderr",
          "text": [
            "findfont: Font family 'Arial' not found.\n",
            "findfont: Font family 'Arial' not found.\n",
            "findfont: Font family 'Arial' not found.\n",
            "findfont: Font family 'Arial' not found.\n",
            "findfont: Font family 'Arial' not found.\n",
            "findfont: Font family 'Arial' not found.\n",
            "findfont: Font family 'Arial' not found.\n",
            "findfont: Font family 'Arial' not found.\n",
            "findfont: Font family 'Arial' not found.\n",
            "findfont: Font family 'Arial' not found.\n",
            "findfont: Font family 'Arial' not found.\n",
            "findfont: Font family 'Arial' not found.\n",
            "findfont: Font family 'Arial' not found.\n",
            "findfont: Font family 'Arial' not found.\n",
            "[I 2025-04-23 05:45:30,361] Trial 19 finished with value: 253341.171875 and parameters: {'lr': 0.003973102009682248, 'k_size': 5, 'time_window': 40}. Best is trial 12 with value: 414389.4375.\n"
          ]
        }
      ]
    },
    {
      "cell_type": "code",
      "source": [
        "# print the best hyperparameters\n",
        "BEST_HYPERPARAMETERS = {'lr': 0.009989562388670565, 'k_size': 5, 'time_window': 50} # using the study get the best hyperparameters\n",
        "print(\"Best hyperparameters: \", BEST_HYPERPARAMETERS)"
      ],
      "metadata": {
        "colab": {
          "base_uri": "https://localhost:8080/"
        },
        "id": "BSbcH3pI51AC",
        "outputId": "f1592f4d-a81b-49c8-f961-233653c6fcac"
      },
      "execution_count": null,
      "outputs": [
        {
          "output_type": "stream",
          "name": "stdout",
          "text": [
            "Best hyperparameters:  {'lr': 0.009989562388670565, 'k_size': 5, 'time_window': 50}\n"
          ]
        }
      ]
    },
    {
      "cell_type": "code",
      "source": [],
      "metadata": {
        "id": "SdRGKdAe7BNi"
      },
      "execution_count": null,
      "outputs": []
    }
  ],
  "metadata": {
    "colab": {
      "provenance": [],
      "gpuType": "T4",
      "authorship_tag": "ABX9TyNIruA0qNSUWNvjhYxBBYFv",
      "include_colab_link": true
    },
    "kernelspec": {
      "display_name": "Python 3",
      "name": "python3"
    },
    "language_info": {
      "name": "python"
    },
    "accelerator": "GPU"
  },
  "nbformat": 4,
  "nbformat_minor": 0
}